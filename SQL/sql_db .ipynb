{
 "cells": [
  {
   "cell_type": "code",
   "execution_count": 4,
   "id": "49ca2d80",
   "metadata": {},
   "outputs": [],
   "source": [
    "#!pip install db-sqlite3"
   ]
  },
  {
   "cell_type": "code",
   "execution_count": 5,
   "id": "72f211c3",
   "metadata": {},
   "outputs": [],
   "source": [
    "#!pip install pandasql"
   ]
  },
  {
   "cell_type": "code",
   "execution_count": 6,
   "id": "74098d8c",
   "metadata": {},
   "outputs": [],
   "source": [
    "import pandas as pd \n",
    "import sqlite3 as sql "
   ]
  },
  {
   "cell_type": "markdown",
   "id": "c64fb8fd",
   "metadata": {},
   "source": [
    "# creat sql    \n"
   ]
  },
  {
   "cell_type": "code",
   "execution_count": 7,
   "id": "09b01544",
   "metadata": {},
   "outputs": [],
   "source": [
    "connection = sql.connect(\"alert.db\")"
   ]
  },
  {
   "cell_type": "code",
   "execution_count": 20,
   "id": "d6864fe0",
   "metadata": {},
   "outputs": [],
   "source": [
    "cursor.execute(\"\"\"\n",
    "CREATE TABLE IF NOT EXISTS logs(\n",
    "alert_date DATE , \n",
    "alert_metric TEXT , \n",
    "alert_segment TEXT \n",
    ")\n",
    "\"\"\")\n",
    "\n",
    "connection.commit()\n",
    "#now check DB-Browser "
   ]
  },
  {
   "cell_type": "code",
   "execution_count": 21,
   "id": "1f511eff",
   "metadata": {},
   "outputs": [],
   "source": [
    "cursor.execute(\"\"\"\n",
    " INSERT INTO logs(alert_date,alert_metric,alert_segment)\n",
    " VALUES          (\"2021-01-02\",'session','organic')\n",
    "\"\"\")\n",
    "\n",
    "connection.commit()\n",
    "#now chek DB-Browser "
   ]
  },
  {
   "cell_type": "code",
   "execution_count": 22,
   "id": "ec8ff0c4",
   "metadata": {},
   "outputs": [],
   "source": [
    "log = ['2020-04-02','transection','organic']"
   ]
  },
  {
   "cell_type": "code",
   "execution_count": 24,
   "id": "77ffc022",
   "metadata": {},
   "outputs": [],
   "source": [
    "cursor.execute(\"\"\"\n",
    "INSERT INTO logs(alert_date,alert_metric,alert_segment)\n",
    "VALUES(?,?,?)\"\"\",log)\n",
    "connection.commit()\n",
    "#now check DB-Browser \n",
    "## there are 2 rows becuase i commited twice times "
   ]
  },
  {
   "cell_type": "code",
   "execution_count": 27,
   "id": "2c25be46",
   "metadata": {},
   "outputs": [],
   "source": [
    "log_multiple = [['2022-01-01','ALERT_METRIC5','ALERT_SEGMENT5'],\n",
    "['2026-06-06','AM6','AG6'],\n",
    "['2027-07-07','am7','as7'],\n",
    "['2028-08-08','Am8','As8']\n",
    "]\n",
    "cursor.executemany(\"\"\"\n",
    "INSERT INTO logs(alert_date,alert_metric,alert_segment)\n",
    "VALUES(?,?,?)\"\"\",log_multiple)\n",
    "connection.commit()\n",
    "#now check DB-Browser \n"
   ]
  },
  {
   "cell_type": "code",
   "execution_count": 34,
   "id": "51d08bbe",
   "metadata": {},
   "outputs": [
    {
     "data": {
      "text/plain": [
       "[(1, '2021-01-02', 'session', 'organic'),\n",
       " (2, '2021-01-02', 'session', 'organic'),\n",
       " (3, '2020-04-02', 'transection', 'organic'),\n",
       " (4, '2020-04-02', 'transection', 'organic'),\n",
       " (5, '2022-01-01', 'ALERT_METRIC5', 'ALERT_SEGMENT5'),\n",
       " (6, '2026-06-06', 'AM6', 'AG6'),\n",
       " (7, '2027-07-07', 'am7', 'as7'),\n",
       " (8, '2028-08-08', 'Am8', 'As8')]"
      ]
     },
     "execution_count": 34,
     "metadata": {},
     "output_type": "execute_result"
    }
   ],
   "source": [
    "#SELECT * FROM logs  \n",
    "cursor.execute(\"\"\"\n",
    "SELECT rowid ,alert_date,alert_metric,alert_segment\n",
    "FROM logs\n",
    "\n",
    "\"\"\")\n",
    "results = cursor.fetchall()\n",
    "results \n",
    "#read data from DB ?"
   ]
  },
  {
   "cell_type": "code",
   "execution_count": 35,
   "id": "51d08bbe",
   "metadata": {},
   "outputs": [
    {
     "data": {
      "text/plain": [
       "(1, '2021-01-02', 'session', 'organic')"
      ]
     },
     "execution_count": 35,
     "metadata": {},
     "output_type": "execute_result"
    }
   ],
   "source": [
    "# SELECT * FROM logs LIMIT 1 ; \n",
    "cursor.execute(\"\"\"\n",
    "SELECT rowid ,alert_date,alert_metric,alert_segment\n",
    "FROM logs\n",
    "\n",
    "\"\"\")\n",
    "results = cursor.fetchone()\n",
    "results \n",
    "#read data from DB"
   ]
  },
  {
   "cell_type": "code",
   "execution_count": 38,
   "id": "34bb3e22",
   "metadata": {},
   "outputs": [
    {
     "data": {
      "text/plain": [
       "[(1, '2021-01-02', 'session', 'organic'),\n",
       " (2, '2021-01-02', 'session', 'organic'),\n",
       " (3, '2020-04-02', 'transection', 'organic')]"
      ]
     },
     "execution_count": 38,
     "metadata": {},
     "output_type": "execute_result"
    }
   ],
   "source": [
    "# SELECT * from logs LIMIT 3 ;\n",
    "cursor.execute(\"\"\"\n",
    "SELECT rowid ,alert_date,alert_metric,alert_segment\n",
    "FROM logs\n",
    "\n",
    "\"\"\")\n",
    "results = cursor.fetchmany(3) ## \n",
    "results \n",
    "#read data from DB"
   ]
  },
  {
   "cell_type": "code",
   "execution_count": 41,
   "id": "d05647a0",
   "metadata": {},
   "outputs": [],
   "source": [
    "query  = cursor.execute(\"\"\"\n",
    "SELECT alert_metric,alert_segment\n",
    "FROM logs\n",
    "\"\"\")\n",
    "columns = [column[0]for column in query.description]"
   ]
  },
  {
   "cell_type": "code",
   "execution_count": 42,
   "id": "13333017",
   "metadata": {},
   "outputs": [
    {
     "data": {
      "text/plain": [
       "['alert_metric', 'alert_segment']"
      ]
     },
     "execution_count": 42,
     "metadata": {},
     "output_type": "execute_result"
    }
   ],
   "source": [
    "columns"
   ]
  },
  {
   "cell_type": "code",
   "execution_count": 45,
   "id": "2e5d296c",
   "metadata": {},
   "outputs": [],
   "source": [
    "df=pd.DataFrame.from_records(data=query.fetchall(),columns=columns)"
   ]
  },
  {
   "cell_type": "code",
   "execution_count": 46,
   "id": "ed3a8bdd",
   "metadata": {},
   "outputs": [
    {
     "data": {
      "text/html": [
       "<div>\n",
       "<style scoped>\n",
       "    .dataframe tbody tr th:only-of-type {\n",
       "        vertical-align: middle;\n",
       "    }\n",
       "\n",
       "    .dataframe tbody tr th {\n",
       "        vertical-align: top;\n",
       "    }\n",
       "\n",
       "    .dataframe thead th {\n",
       "        text-align: right;\n",
       "    }\n",
       "</style>\n",
       "<table border=\"1\" class=\"dataframe\">\n",
       "  <thead>\n",
       "    <tr style=\"text-align: right;\">\n",
       "      <th></th>\n",
       "      <th>alert_metric</th>\n",
       "      <th>alert_segment</th>\n",
       "    </tr>\n",
       "  </thead>\n",
       "  <tbody>\n",
       "    <tr>\n",
       "      <th>0</th>\n",
       "      <td>session</td>\n",
       "      <td>organic</td>\n",
       "    </tr>\n",
       "    <tr>\n",
       "      <th>1</th>\n",
       "      <td>session</td>\n",
       "      <td>organic</td>\n",
       "    </tr>\n",
       "    <tr>\n",
       "      <th>2</th>\n",
       "      <td>transection</td>\n",
       "      <td>organic</td>\n",
       "    </tr>\n",
       "    <tr>\n",
       "      <th>3</th>\n",
       "      <td>transection</td>\n",
       "      <td>organic</td>\n",
       "    </tr>\n",
       "    <tr>\n",
       "      <th>4</th>\n",
       "      <td>ALERT_METRIC5</td>\n",
       "      <td>ALERT_SEGMENT5</td>\n",
       "    </tr>\n",
       "    <tr>\n",
       "      <th>5</th>\n",
       "      <td>AM6</td>\n",
       "      <td>AG6</td>\n",
       "    </tr>\n",
       "    <tr>\n",
       "      <th>6</th>\n",
       "      <td>am7</td>\n",
       "      <td>as7</td>\n",
       "    </tr>\n",
       "    <tr>\n",
       "      <th>7</th>\n",
       "      <td>Am8</td>\n",
       "      <td>As8</td>\n",
       "    </tr>\n",
       "  </tbody>\n",
       "</table>\n",
       "</div>"
      ],
      "text/plain": [
       "    alert_metric   alert_segment\n",
       "0        session         organic\n",
       "1        session         organic\n",
       "2    transection         organic\n",
       "3    transection         organic\n",
       "4  ALERT_METRIC5  ALERT_SEGMENT5\n",
       "5            AM6             AG6\n",
       "6            am7             as7\n",
       "7            Am8             As8"
      ]
     },
     "execution_count": 46,
     "metadata": {},
     "output_type": "execute_result"
    }
   ],
   "source": [
    "df"
   ]
  },
  {
   "cell_type": "code",
   "execution_count": 57,
   "id": "e9a64d67",
   "metadata": {},
   "outputs": [],
   "source": [
    "df.to_csv(\"alers.csv\")\n",
    "#check the folder "
   ]
  },
  {
   "cell_type": "code",
   "execution_count": 53,
   "id": "605c7b61",
   "metadata": {},
   "outputs": [
    {
     "name": "stdout",
     "output_type": "stream",
     "text": [
      " alers.csv\t        movies.sqbpro\t      students.sqbpro\n",
      " alert.db\t        question4.sql\t      TEST1.db\n",
      " DS_Mastery_RM.pdf      question5.sql\t      test.sql\n",
      " jozve.pdf\t       'sql_db .ipynb'\t      جزوه+تئوری+پایگاه+داده.pdf\n",
      " movies.db\t       'students - Copy.db'\n",
      " movies.db.crdownload   students.db\n"
     ]
    }
   ],
   "source": [
    "!ls \n",
    "# alert.csv added to this folder :) "
   ]
  },
  {
   "cell_type": "code",
   "execution_count": 59,
   "id": "f530955d",
   "metadata": {},
   "outputs": [],
   "source": [
    "cursor.execute(\"\"\"\n",
    "UPDATE logs SET alert_segment= \"Organic\"\n",
    "WHERE alert_segment =\"organic\"\n",
    "\"\"\")\n",
    "connection.commit()\n",
    "# check DB-Browser to see code result :) "
   ]
  },
  {
   "cell_type": "code",
   "execution_count": 58,
   "id": "509458c0",
   "metadata": {},
   "outputs": [
    {
     "data": {
      "text/html": [
       "<div>\n",
       "<style scoped>\n",
       "    .dataframe tbody tr th:only-of-type {\n",
       "        vertical-align: middle;\n",
       "    }\n",
       "\n",
       "    .dataframe tbody tr th {\n",
       "        vertical-align: top;\n",
       "    }\n",
       "\n",
       "    .dataframe thead th {\n",
       "        text-align: right;\n",
       "    }\n",
       "</style>\n",
       "<table border=\"1\" class=\"dataframe\">\n",
       "  <thead>\n",
       "    <tr style=\"text-align: right;\">\n",
       "      <th></th>\n",
       "      <th>Unnamed: 0</th>\n",
       "      <th>alert_metric</th>\n",
       "      <th>alert_segment</th>\n",
       "    </tr>\n",
       "  </thead>\n",
       "  <tbody>\n",
       "    <tr>\n",
       "      <th>0</th>\n",
       "      <td>0</td>\n",
       "      <td>session</td>\n",
       "      <td>organic</td>\n",
       "    </tr>\n",
       "    <tr>\n",
       "      <th>1</th>\n",
       "      <td>1</td>\n",
       "      <td>session</td>\n",
       "      <td>organic</td>\n",
       "    </tr>\n",
       "    <tr>\n",
       "      <th>2</th>\n",
       "      <td>2</td>\n",
       "      <td>transection</td>\n",
       "      <td>organic</td>\n",
       "    </tr>\n",
       "    <tr>\n",
       "      <th>3</th>\n",
       "      <td>3</td>\n",
       "      <td>transection</td>\n",
       "      <td>organic</td>\n",
       "    </tr>\n",
       "    <tr>\n",
       "      <th>4</th>\n",
       "      <td>4</td>\n",
       "      <td>ALERT_METRIC5</td>\n",
       "      <td>ALERT_SEGMENT5</td>\n",
       "    </tr>\n",
       "    <tr>\n",
       "      <th>5</th>\n",
       "      <td>5</td>\n",
       "      <td>AM6</td>\n",
       "      <td>AG6</td>\n",
       "    </tr>\n",
       "    <tr>\n",
       "      <th>6</th>\n",
       "      <td>6</td>\n",
       "      <td>am7</td>\n",
       "      <td>as7</td>\n",
       "    </tr>\n",
       "    <tr>\n",
       "      <th>7</th>\n",
       "      <td>7</td>\n",
       "      <td>Am8</td>\n",
       "      <td>As8</td>\n",
       "    </tr>\n",
       "  </tbody>\n",
       "</table>\n",
       "</div>"
      ],
      "text/plain": [
       "   Unnamed: 0   alert_metric   alert_segment\n",
       "0           0        session         organic\n",
       "1           1        session         organic\n",
       "2           2    transection         organic\n",
       "3           3    transection         organic\n",
       "4           4  ALERT_METRIC5  ALERT_SEGMENT5\n",
       "5           5            AM6             AG6\n",
       "6           6            am7             as7\n",
       "7           7            Am8             As8"
      ]
     },
     "execution_count": 58,
     "metadata": {},
     "output_type": "execute_result"
    }
   ],
   "source": [
    "df2= pd.read_csv(\"alers.csv\")\n",
    "df2  "
   ]
  },
  {
   "cell_type": "code",
   "execution_count": 63,
   "id": "bbed3390",
   "metadata": {},
   "outputs": [],
   "source": [
    "cursor.execute(\"\"\"\n",
    "DELETE\n",
    "FROM logs \n",
    "WHERE rowID= 1 \n",
    "\"\"\")\n",
    "connection.commit()\n",
    "# check DB-Browser to see code result :) \n",
    "# using \"DELETE\" for delete a row \n",
    "# using \"DROP TABLE\"  for delete a table \n",
    "# using \"TRUNCATE TABLE \" for delete all data in a Table "
   ]
  },
  {
   "cell_type": "code",
   "execution_count": 74,
   "id": "12e13e60",
   "metadata": {},
   "outputs": [
    {
     "ename": "OperationalError",
     "evalue": "duplicate column name: name",
     "output_type": "error",
     "traceback": [
      "\u001b[0;31m---------------------------------------------------------------------------\u001b[0m",
      "\u001b[0;31mOperationalError\u001b[0m                          Traceback (most recent call last)",
      "\u001b[0;32m/tmp/ipykernel_35770/1822278279.py\u001b[0m in \u001b[0;36m<module>\u001b[0;34m\u001b[0m\n\u001b[0;32m----> 1\u001b[0;31m cursor.execute(\"\"\"\n\u001b[0m\u001b[1;32m      2\u001b[0m \u001b[0mALTER\u001b[0m \u001b[0mTABLE\u001b[0m \u001b[0mlogs\u001b[0m\u001b[0;34m\u001b[0m\u001b[0;34m\u001b[0m\u001b[0m\n\u001b[1;32m      3\u001b[0m \u001b[0mADD\u001b[0m \u001b[0mname\u001b[0m \u001b[0mTEXT\u001b[0m\u001b[0;34m\u001b[0m\u001b[0;34m\u001b[0m\u001b[0m\n\u001b[1;32m      4\u001b[0m \u001b[0;34m\u001b[0m\u001b[0m\n\u001b[1;32m      5\u001b[0m \"\"\")\n",
      "\u001b[0;31mOperationalError\u001b[0m: duplicate column name: name"
     ]
    }
   ],
   "source": [
    "cursor.execute(\"\"\"\n",
    "ALTER TABLE logs \n",
    "ADD name TEXT\n",
    "     \n",
    "\"\"\")\n",
    "connection.commit()\n",
    "# check the DB-Browser to see resualt \n",
    "# using for add a col in a table \n"
   ]
  },
  {
   "cell_type": "code",
   "execution_count": 75,
   "id": "41f6e62f",
   "metadata": {},
   "outputs": [],
   "source": [
    "cursor.execute(\"\"\"\n",
    "ALTER TABLE logs \n",
    "DROP COLUMN name \n",
    "\"\"\")\n",
    "connection.commit()\n",
    "# check the DB-Browser to see resualt \n",
    "# using for add a col in a table \n"
   ]
  },
  {
   "cell_type": "code",
   "execution_count": null,
   "id": "6407cb9a",
   "metadata": {},
   "outputs": [],
   "source": []
  }
 ],
 "metadata": {
  "kernelspec": {
   "display_name": "Python 3",
   "language": "python",
   "name": "python3"
  },
  "language_info": {
   "codemirror_mode": {
    "name": "ipython",
    "version": 3
   },
   "file_extension": ".py",
   "mimetype": "text/x-python",
   "name": "python",
   "nbconvert_exporter": "python",
   "pygments_lexer": "ipython3",
   "version": "3.10.6 (main, Nov 14 2022, 16:10:14) [GCC 11.3.0]"
  },
  "vscode": {
   "interpreter": {
    "hash": "916dbcbb3f70747c44a77c7bcd40155683ae19c65e1c03b4aa3499c5328201f1"
   }
  }
 },
 "nbformat": 4,
 "nbformat_minor": 5
}
