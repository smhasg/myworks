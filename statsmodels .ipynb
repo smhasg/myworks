{
 "cells": [
  {
   "cell_type": "code",
   "execution_count": 1,
   "metadata": {},
   "outputs": [],
   "source": [
    "#!pip install statsmodels"
   ]
  },
  {
   "cell_type": "code",
   "execution_count": 2,
   "metadata": {},
   "outputs": [],
   "source": [
    "import numpy as np \n",
    "import pandas as pd \n",
    "import statsmodels.api as sm \n",
    "import matplotlib.pyplot as plt \n"
   ]
  },
  {
   "attachments": {},
   "cell_type": "markdown",
   "metadata": {},
   "source": [
    "$$ \\beta_0 + \\beta_1 X_1 + \\beta_2 X_2 +\\epsilon $$\n",
    "$$ \\epsilon \\sim N(0,1 ) $$ "
   ]
  },
  {
   "cell_type": "code",
   "execution_count": 27,
   "metadata": {},
   "outputs": [],
   "source": [
    "sample = 500\n",
    "f= np.linspace(0,10,sample)\n",
    "X= np.column_stack((f,f**2))\n",
    "beta = np.array([1,-.2,3])\n",
    "eps = np.random.normal(0 ,# mean\n",
    "1,#variance\n",
    " size=sample \n",
    " )"
   ]
  },
  {
   "cell_type": "code",
   "execution_count": 28,
   "metadata": {},
   "outputs": [],
   "source": [
    "X = sm.add_constant(X) ## ye soton 1 be dade ezafe mishe \n",
    "y= X @ beta + eps"
   ]
  },
  {
   "cell_type": "code",
   "execution_count": 29,
   "metadata": {},
   "outputs": [],
   "source": [
    "model = sm.OLS(y,X)"
   ]
  },
  {
   "cell_type": "code",
   "execution_count": 30,
   "metadata": {},
   "outputs": [],
   "source": [
    "resualt = model.fit()"
   ]
  },
  {
   "cell_type": "code",
   "execution_count": 31,
   "metadata": {},
   "outputs": [
    {
     "data": {
      "text/html": [
       "<table class=\"simpletable\">\n",
       "<caption>OLS Regression Results</caption>\n",
       "<tr>\n",
       "  <th>Dep. Variable:</th>            <td>y</td>        <th>  R-squared:         </th> <td>   1.000</td> \n",
       "</tr>\n",
       "<tr>\n",
       "  <th>Model:</th>                   <td>OLS</td>       <th>  Adj. R-squared:    </th> <td>   1.000</td> \n",
       "</tr>\n",
       "<tr>\n",
       "  <th>Method:</th>             <td>Least Squares</td>  <th>  F-statistic:       </th> <td>2.135e+06</td>\n",
       "</tr>\n",
       "<tr>\n",
       "  <th>Date:</th>             <td>Thu, 15 Dec 2022</td> <th>  Prob (F-statistic):</th>  <td>  0.00</td>  \n",
       "</tr>\n",
       "<tr>\n",
       "  <th>Time:</th>                 <td>04:41:13</td>     <th>  Log-Likelihood:    </th> <td> -689.69</td> \n",
       "</tr>\n",
       "<tr>\n",
       "  <th>No. Observations:</th>      <td>   500</td>      <th>  AIC:               </th> <td>   1385.</td> \n",
       "</tr>\n",
       "<tr>\n",
       "  <th>Df Residuals:</th>          <td>   497</td>      <th>  BIC:               </th> <td>   1398.</td> \n",
       "</tr>\n",
       "<tr>\n",
       "  <th>Df Model:</th>              <td>     2</td>      <th>                     </th>     <td> </td>    \n",
       "</tr>\n",
       "<tr>\n",
       "  <th>Covariance Type:</th>      <td>nonrobust</td>    <th>                     </th>     <td> </td>    \n",
       "</tr>\n",
       "</table>\n",
       "<table class=\"simpletable\">\n",
       "<tr>\n",
       "    <td></td>       <th>coef</th>     <th>std err</th>      <th>t</th>      <th>P>|t|</th>  <th>[0.025</th>    <th>0.975]</th>  \n",
       "</tr>\n",
       "<tr>\n",
       "  <th>const</th> <td>    0.9333</td> <td>    0.129</td> <td>    7.244</td> <td> 0.000</td> <td>    0.680</td> <td>    1.186</td>\n",
       "</tr>\n",
       "<tr>\n",
       "  <th>x1</th>    <td>   -0.2022</td> <td>    0.060</td> <td>   -3.397</td> <td> 0.001</td> <td>   -0.319</td> <td>   -0.085</td>\n",
       "</tr>\n",
       "<tr>\n",
       "  <th>x2</th>    <td>    3.0011</td> <td>    0.006</td> <td>  520.880</td> <td> 0.000</td> <td>    2.990</td> <td>    3.012</td>\n",
       "</tr>\n",
       "</table>\n",
       "<table class=\"simpletable\">\n",
       "<tr>\n",
       "  <th>Omnibus:</th>       <td> 7.759</td> <th>  Durbin-Watson:     </th> <td>   1.981</td>\n",
       "</tr>\n",
       "<tr>\n",
       "  <th>Prob(Omnibus):</th> <td> 0.021</td> <th>  Jarque-Bera (JB):  </th> <td>   6.595</td>\n",
       "</tr>\n",
       "<tr>\n",
       "  <th>Skew:</th>          <td>-0.205</td> <th>  Prob(JB):          </th> <td>  0.0370</td>\n",
       "</tr>\n",
       "<tr>\n",
       "  <th>Kurtosis:</th>      <td> 2.615</td> <th>  Cond. No.          </th> <td>    146.</td>\n",
       "</tr>\n",
       "</table><br/><br/>Notes:<br/>[1] Standard Errors assume that the covariance matrix of the errors is correctly specified."
      ],
      "text/plain": [
       "<class 'statsmodels.iolib.summary.Summary'>\n",
       "\"\"\"\n",
       "                            OLS Regression Results                            \n",
       "==============================================================================\n",
       "Dep. Variable:                      y   R-squared:                       1.000\n",
       "Model:                            OLS   Adj. R-squared:                  1.000\n",
       "Method:                 Least Squares   F-statistic:                 2.135e+06\n",
       "Date:                Thu, 15 Dec 2022   Prob (F-statistic):               0.00\n",
       "Time:                        04:41:13   Log-Likelihood:                -689.69\n",
       "No. Observations:                 500   AIC:                             1385.\n",
       "Df Residuals:                     497   BIC:                             1398.\n",
       "Df Model:                           2                                         \n",
       "Covariance Type:            nonrobust                                         \n",
       "==============================================================================\n",
       "                 coef    std err          t      P>|t|      [0.025      0.975]\n",
       "------------------------------------------------------------------------------\n",
       "const          0.9333      0.129      7.244      0.000       0.680       1.186\n",
       "x1            -0.2022      0.060     -3.397      0.001      -0.319      -0.085\n",
       "x2             3.0011      0.006    520.880      0.000       2.990       3.012\n",
       "==============================================================================\n",
       "Omnibus:                        7.759   Durbin-Watson:                   1.981\n",
       "Prob(Omnibus):                  0.021   Jarque-Bera (JB):                6.595\n",
       "Skew:                          -0.205   Prob(JB):                       0.0370\n",
       "Kurtosis:                       2.615   Cond. No.                         146.\n",
       "==============================================================================\n",
       "\n",
       "Notes:\n",
       "[1] Standard Errors assume that the covariance matrix of the errors is correctly specified.\n",
       "\"\"\""
      ]
     },
     "execution_count": 31,
     "metadata": {},
     "output_type": "execute_result"
    }
   ],
   "source": [
    "resualt.summary()"
   ]
  },
  {
   "attachments": {},
   "cell_type": "markdown",
   "metadata": {},
   "source": [
    "$$ G2 = - 2*loglike $$   \n",
    "$$ AIC = G2 + 2* k $$ \n",
    "$$ BIC = G2 + k * log(n(sample)) "
   ]
  },
  {
   "attachments": {},
   "cell_type": "markdown",
   "metadata": {},
   "source": [
    "\"\" G2 bozorgtar ==> model behtar \"\" \n",
    "\n",
    " \"\" AIC kamtar ==> model behtar \"\"\n",
    " \n",
    " \"\" BIC kamtar ==> model behtar \"\""
   ]
  },
  {
   "cell_type": "code",
   "execution_count": 90,
   "metadata": {},
   "outputs": [
    {
     "name": "stdout",
     "output_type": "stream",
     "text": [
      "                            OLS Regression Results                            \n",
      "==============================================================================\n",
      "Dep. Variable:                      y   R-squared:                       0.995\n",
      "Model:                            OLS   Adj. R-squared:                  0.995\n",
      "Method:                 Least Squares   F-statistic:                 3.281e+04\n",
      "Date:                Thu, 15 Dec 2022   Prob (F-statistic):               0.00\n",
      "Time:                        05:22:10   Log-Likelihood:                -460.58\n",
      "No. Observations:                 500   AIC:                             929.2\n",
      "Df Residuals:                     496   BIC:                             946.0\n",
      "Df Model:                           3                                         \n",
      "Covariance Type:            nonrobust                                         \n",
      "==============================================================================\n",
      "                 coef    std err          t      P>|t|      [0.025      0.975]\n",
      "------------------------------------------------------------------------------\n",
      "const         -4.8164      0.203    -23.669      0.000      -5.216      -4.417\n",
      "x1             1.9901      0.010    209.414      0.000       1.971       2.009\n",
      "x2             6.9966      0.095     73.895      0.000       6.811       7.183\n",
      "x3            -8.9339      0.040   -224.337      0.000      -9.012      -8.856\n",
      "==============================================================================\n",
      "Omnibus:                        0.400   Durbin-Watson:                   2.081\n",
      "Prob(Omnibus):                  0.819   Jarque-Bera (JB):                0.512\n",
      "Skew:                           0.040   Prob(JB):                        0.774\n",
      "Kurtosis:                       2.865   Cond. No.                         120.\n",
      "==============================================================================\n",
      "\n",
      "Notes:\n",
      "[1] Standard Errors assume that the covariance matrix of the errors is correctly specified.\n"
     ]
    }
   ],
   "source": [
    "sample = 500\n",
    "data = np.column_stack([np.random.uniform(10,20,size=sample),\n",
    "                 np.random.uniform(1,2,size=sample),\n",
    "                 np.sin(np.random.uniform(10,20,size=sample))\n",
    "]) \n",
    "X = sm.add_constant(data)\n",
    "beta = np.array([-5,2,7,-9])\n",
    "y_true = X @ beta \n",
    "\n",
    "\n",
    "sigmal= .3\n",
    "target = y_true+sigmal *np.random.normal(0,2,sample)\n",
    "resualt = sm.OLS(target, X).fit()\n",
    "print ( resualt.summary()) "
   ]
  },
  {
   "attachments": {},
   "cell_type": "markdown",
   "metadata": {},
   "source": [
    "agar  \"\" std_err\"\" bozorg bashe nemitonim azash estefade konim "
   ]
  },
  {
   "cell_type": "code",
   "execution_count": 91,
   "metadata": {},
   "outputs": [
    {
     "name": "stdout",
     "output_type": "stream",
     "text": [
      "[-4.81639053  1.99006807  6.99656217 -8.93393423]\n",
      "[-5  2  7 -9]\n"
     ]
    }
   ],
   "source": [
    "print ( resualt.params) \n",
    "print ( beta) "
   ]
  },
  {
   "cell_type": "code",
   "execution_count": 92,
   "metadata": {},
   "outputs": [
    {
     "data": {
      "text/plain": [
       "array([52.41665248, 41.13440715, 32.7890336 , 43.54816682, 33.71258082,\n",
       "       37.84220806, 30.08699565, 32.37496312, 50.54040257, 38.17362324,\n",
       "       34.58850845, 39.25991956, 42.63226332, 36.24012239, 34.75694828,\n",
       "       30.33590831, 29.47192469, 48.15869131, 37.33976319, 32.04484387,\n",
       "       49.49319334, 29.50539064, 31.09394174, 26.30532018, 36.91110522,\n",
       "       39.63775045, 39.19099093, 27.06679678, 42.60557459, 53.00818666,\n",
       "       50.38645728, 42.39099418, 38.00366826, 33.2202087 , 53.37916519,\n",
       "       52.11510174, 52.5055303 , 33.63269967, 42.6950516 , 35.82755899,\n",
       "       45.55715896, 39.80000743, 26.24629011, 32.05534963, 23.21639323,\n",
       "       23.7556161 , 31.72767561, 34.40302798, 32.75919725, 17.049902  ,\n",
       "       34.2909045 , 34.24625768, 31.62042606, 28.46220971, 41.73582733,\n",
       "       35.76767745, 38.48631667, 28.44869685, 36.80370708, 50.54590747,\n",
       "       22.8654841 , 40.24678399, 44.81528257, 29.51299247, 42.45849534,\n",
       "       38.46162103, 36.73351057, 33.14561993, 39.91257194, 35.99386346,\n",
       "       26.09494954, 33.68669855, 28.25621901, 30.07173543, 29.87505861,\n",
       "       35.48223305, 27.14898577, 23.92907898, 33.94389026, 41.19802545,\n",
       "       32.26288277, 35.84244443, 41.81132988, 44.00019286, 43.60030361,\n",
       "       42.10002105, 35.6685791 , 43.14262578, 49.78811872, 23.9239111 ,\n",
       "       35.01971835, 19.12392254, 20.09543863, 25.75783935, 40.38983453,\n",
       "       36.05832273, 35.87937228, 28.96146319, 47.51828762, 44.85506172,\n",
       "       34.63757421, 53.24964566, 27.34218979, 47.87313084, 25.65562049,\n",
       "       48.68770054, 50.13528582, 32.55379415, 40.82661042, 34.8465761 ,\n",
       "       33.96611355, 21.41153802, 33.316302  , 19.813702  , 36.8442107 ,\n",
       "       22.24292619, 42.13921346, 26.83559469, 48.71154197, 30.3143461 ,\n",
       "       54.57392945, 21.32375291, 47.37406099, 44.17660386, 20.12932989,\n",
       "       39.80970859, 37.28182239, 31.75908164, 40.30251547, 51.36703666,\n",
       "       23.67966964, 35.69890322, 27.82338544, 32.29418647, 26.64785218,\n",
       "       47.01460883, 30.37970663, 24.44463004, 38.00215309, 30.99192252,\n",
       "       22.42308607, 43.07057557, 37.00369632, 20.09857248, 41.24841423,\n",
       "       18.9533796 , 18.40235716, 38.76619399, 39.82736885, 31.52734744,\n",
       "       28.39430539, 38.41220814, 31.16100071, 39.36166988, 40.7212581 ,\n",
       "       39.91257838, 20.75487855, 46.28388578, 38.00940478, 19.08649878,\n",
       "       27.48569932, 24.37718627, 37.0265442 , 45.34597915, 39.02344872,\n",
       "       30.92391333, 41.40998713, 41.2356208 , 31.99522608, 28.85808514,\n",
       "       21.0699296 , 24.58927656, 42.48675288, 29.1928431 , 37.80828139,\n",
       "       41.76188582, 35.91127217, 47.40914514, 41.05808435, 49.30137581,\n",
       "       27.10595866, 42.58198138, 33.54434741, 51.60956958, 44.80905552,\n",
       "       40.6490474 , 49.4689018 , 44.83642815, 29.64400357, 27.86822688,\n",
       "       51.28750075, 26.35050515, 30.03152659, 39.91361729, 18.79146988,\n",
       "       33.73602162, 33.72450017, 44.05151218, 39.22040372, 39.45127861,\n",
       "       21.55874238, 33.34061531, 48.77690614, 54.83715745, 18.2342059 ,\n",
       "       42.84305178, 40.4490907 , 39.56238865, 39.69086014, 51.57462427,\n",
       "       19.47358332, 34.30758694, 49.04711708, 38.31660913, 29.81513576,\n",
       "       22.85319452, 50.18363471, 20.86130333, 41.20144797, 32.16389588,\n",
       "       36.62110993, 32.45819072, 32.79224199, 35.34990475, 29.27713232,\n",
       "       16.044356  , 29.56413982, 31.92039361, 27.63093801, 35.75163629,\n",
       "       37.0655367 , 37.31501671, 45.60765189, 35.28135886, 30.6088373 ,\n",
       "       46.04171778, 32.61449339, 24.83144708, 28.36590098, 38.38146223,\n",
       "       38.36008483, 21.82798929, 35.06423563, 31.40275599, 46.27694223,\n",
       "       37.78712893, 42.80020227, 38.90945285, 32.8036303 , 41.6901309 ,\n",
       "       36.1751123 , 44.05145089, 36.42098614, 22.64469395, 42.67062202,\n",
       "       33.92243532, 50.32687134, 39.97058526, 49.42086565, 36.57179816,\n",
       "       32.01356324, 21.0356037 , 28.12047949, 36.92853474, 39.77966918,\n",
       "       41.05777172, 24.08246455, 47.64214766, 49.42498709, 40.19590049,\n",
       "       51.17851299, 50.64309393, 33.32219462, 31.31276847, 50.63015344,\n",
       "       43.74590985, 44.99515698, 47.14850869, 47.53572749, 35.88311423,\n",
       "       32.66791912, 39.92284609, 26.08384929, 46.86619755, 48.42021796,\n",
       "       50.46128989, 43.6838074 , 50.52547038, 33.49818675, 22.51636895,\n",
       "       35.99436256, 39.49591306, 39.778866  , 42.86102676, 47.48032857,\n",
       "       41.73342875, 36.71263736, 51.15732068, 39.51131403, 43.94726278,\n",
       "       35.92057714, 43.24323282, 36.16971673, 40.82420575, 40.21559729,\n",
       "       20.00141061, 38.08171141, 25.55338691, 41.41440759, 39.78938882,\n",
       "       36.65427543, 36.60907518, 26.38128754, 34.15855971, 53.85069797,\n",
       "       43.38822765, 37.1990212 , 51.0478757 , 39.71055463, 36.48227689,\n",
       "       19.643533  , 42.22510995, 37.22376269, 38.03705259, 38.40860488,\n",
       "       32.02747171, 36.37371761, 53.90584248, 29.18315619, 24.62128027,\n",
       "       38.80737555, 36.96563823, 18.51600206, 46.86643514, 27.85409848,\n",
       "       45.40408251, 36.41905228, 31.78985787, 26.52792686, 32.54876913,\n",
       "       41.15754884, 33.67524749, 24.33180727, 33.06171945, 33.43787139,\n",
       "       42.49621357, 32.39430902, 40.68766744, 25.33275332, 43.52145043,\n",
       "       48.66877535, 25.60657713, 28.26374932, 44.42772025, 42.64508794,\n",
       "       31.48608677, 43.57847558, 40.52490446, 50.3646418 , 22.27138315,\n",
       "       20.88858161, 42.97686371, 30.08464463, 38.2987198 , 35.78847849,\n",
       "       48.91422382, 44.59462749, 33.44377759, 37.89002465, 27.97140254,\n",
       "       48.42276701, 31.6946434 , 42.55392854, 39.17761442, 32.95294188,\n",
       "       33.4354443 , 40.27331198, 30.42949712, 34.96319377, 40.55528685,\n",
       "       35.96768304, 34.5249531 , 32.62933843, 55.03483847, 44.96162578,\n",
       "       39.3168757 , 34.23575198, 34.90359723, 46.8870343 , 31.99709571,\n",
       "       45.57383805, 35.07090674, 38.26406788, 35.75777414, 40.87775825,\n",
       "       42.2344394 , 38.8434637 , 45.38321287, 51.93003582, 25.11383563,\n",
       "       34.61228668, 37.76003091, 26.95702246, 28.78166486, 30.38659176,\n",
       "       36.02369321, 47.55890033, 30.04259073, 52.17886677, 45.83588313,\n",
       "       42.61324921, 31.62117771, 49.80505227, 33.34698364, 40.75671957,\n",
       "       33.99363228, 33.60646645, 44.43408486, 45.88286263, 49.42687123,\n",
       "       27.15149091, 33.18126749, 38.28647667, 31.74428979, 51.82144842,\n",
       "       47.0714937 , 33.9284811 , 18.60827795, 31.20720823, 41.69332657,\n",
       "       36.27222558, 38.08156107, 35.2764677 , 32.09246521, 26.63887644,\n",
       "       39.80025475, 38.42381483, 33.68161765, 24.12598731, 31.89110569,\n",
       "       37.09410521, 31.32043699, 44.46362718, 21.9506073 , 49.21006114,\n",
       "       47.27795035, 43.67076765, 44.4200289 , 38.97794546, 50.74674142,\n",
       "       29.68774131, 34.12107784, 27.7160674 , 41.13396515, 42.08931409,\n",
       "       39.8082947 , 29.98303267, 33.12149127, 32.4403127 , 18.77145782,\n",
       "       31.87851925, 42.1220832 , 42.93693805, 29.8060855 , 27.54073445,\n",
       "       24.96074642, 46.69484178, 32.16481461, 33.68151336, 32.75221059,\n",
       "       27.52170224, 42.37266267, 33.61787122, 26.97703047, 18.48443701,\n",
       "       40.00697259, 41.60218832, 53.05621174, 41.98530597, 37.12947229,\n",
       "       29.76470972, 38.48523427, 38.54262815, 48.72856641, 48.34590198,\n",
       "       39.88861012, 38.299716  , 31.21080807, 50.35118485, 51.28510404,\n",
       "       33.21358401, 46.87989899, 17.16417297, 42.90632064, 35.16187386,\n",
       "       26.92092256, 24.55744227, 48.22076917, 36.28991373, 37.12145383])"
      ]
     },
     "execution_count": 92,
     "metadata": {},
     "output_type": "execute_result"
    }
   ],
   "source": [
    "resualt.predict()"
   ]
  },
  {
   "cell_type": "code",
   "execution_count": 103,
   "metadata": {},
   "outputs": [
    {
     "data": {
      "text/plain": [
       "[<matplotlib.lines.Line2D at 0x7fc3ba3e14e0>]"
      ]
     },
     "execution_count": 103,
     "metadata": {},
     "output_type": "execute_result"
    },
    {
     "data": {
      "image/png": "[encoded data removed]",
      "text/plain": [
       "<Figure size 432x288 with 1 Axes>"
      ]
     },
     "metadata": {
      "needs_background": "light"
     },
     "output_type": "display_data"
    }
   ],
   "source": [
    "plt.plot(data[:,0],target,\"o\")\n",
    "plt.plot(data[:,0],y_true ,\"o\",c= \"green\")\n",
    "plt.plot(data[:,0],resualt.fittedvalues ,\"o\",c= \"red\")"
   ]
  },
  {
   "cell_type": "code",
   "execution_count": 107,
   "metadata": {},
   "outputs": [],
   "source": [
    "sample = 100 \n",
    "\n",
    "f1= np.random.uniform(1,30,sample)\n",
    "f2= np.random.uniform(-1,1,sample)\n",
    "f3= np.random.uniform(100,200,sample)\n",
    "f4= np.random.uniform(15,3,sample)\n",
    "\n",
    "data = np.column_stack([f1,f2,f3,f4])\n",
    "target = data[:,0]+2*data[:,2]-3*data[:,1]*data[:,3]\n",
    "y=target+np.random.normal(0,0.5,sample)"
   ]
  },
  {
   "cell_type": "code",
   "execution_count": 109,
   "metadata": {},
   "outputs": [],
   "source": [
    "from sklearn.preprocessing import PolynomialFeatures"
   ]
  },
  {
   "cell_type": "code",
   "execution_count": 110,
   "metadata": {},
   "outputs": [],
   "source": [
    "pf = PolynomialFeatures(degree=2) ## hamare mirize to ham - darvaghe degree haye bala tar ro ham mohasebe mikone \n",
    "X= pf.fit_transform(data)"
   ]
  },
  {
   "cell_type": "code",
   "execution_count": 116,
   "metadata": {},
   "outputs": [
    {
     "data": {
      "text/plain": [
       "(100, 15)"
      ]
     },
     "execution_count": 116,
     "metadata": {},
     "output_type": "execute_result"
    }
   ],
   "source": [
    "data.shape, # before using  PolynomialFeatures\n",
    "X.shape # after using PolynomialFeatures\n"
   ]
  },
  {
   "cell_type": "code",
   "execution_count": 119,
   "metadata": {},
   "outputs": [],
   "source": [
    "lm = sm.OLS(y,X)\n",
    "res = lm.fit()"
   ]
  },
  {
   "cell_type": "code",
   "execution_count": 121,
   "metadata": {},
   "outputs": [
    {
     "data": {
      "text/html": [
       "<table class=\"simpletable\">\n",
       "<caption>OLS Regression Results</caption>\n",
       "<tr>\n",
       "  <th>Dep. Variable:</th>            <td>y</td>        <th>  R-squared:         </th> <td>   1.000</td> \n",
       "</tr>\n",
       "<tr>\n",
       "  <th>Model:</th>                   <td>OLS</td>       <th>  Adj. R-squared:    </th> <td>   1.000</td> \n",
       "</tr>\n",
       "<tr>\n",
       "  <th>Method:</th>             <td>Least Squares</td>  <th>  F-statistic:       </th> <td>8.879e+04</td>\n",
       "</tr>\n",
       "<tr>\n",
       "  <th>Date:</th>             <td>Thu, 15 Dec 2022</td> <th>  Prob (F-statistic):</th> <td>1.26e-170</td>\n",
       "</tr>\n",
       "<tr>\n",
       "  <th>Time:</th>                 <td>05:57:23</td>     <th>  Log-Likelihood:    </th> <td> -69.157</td> \n",
       "</tr>\n",
       "<tr>\n",
       "  <th>No. Observations:</th>      <td>   100</td>      <th>  AIC:               </th> <td>   168.3</td> \n",
       "</tr>\n",
       "<tr>\n",
       "  <th>Df Residuals:</th>          <td>    85</td>      <th>  BIC:               </th> <td>   207.4</td> \n",
       "</tr>\n",
       "<tr>\n",
       "  <th>Df Model:</th>              <td>    14</td>      <th>                     </th>     <td> </td>    \n",
       "</tr>\n",
       "<tr>\n",
       "  <th>Covariance Type:</th>      <td>nonrobust</td>    <th>                     </th>     <td> </td>    \n",
       "</tr>\n",
       "</table>\n",
       "<table class=\"simpletable\">\n",
       "<tr>\n",
       "    <td></td>       <th>coef</th>     <th>std err</th>      <th>t</th>      <th>P>|t|</th>  <th>[0.025</th>    <th>0.975]</th>  \n",
       "</tr>\n",
       "<tr>\n",
       "  <th>const</th> <td>    2.7274</td> <td>    2.199</td> <td>    1.241</td> <td> 0.218</td> <td>   -1.644</td> <td>    7.099</td>\n",
       "</tr>\n",
       "<tr>\n",
       "  <th>x1</th>    <td>    1.0466</td> <td>    0.051</td> <td>   20.715</td> <td> 0.000</td> <td>    0.946</td> <td>    1.147</td>\n",
       "</tr>\n",
       "<tr>\n",
       "  <th>x2</th>    <td>   -0.8115</td> <td>    0.722</td> <td>   -1.123</td> <td> 0.264</td> <td>   -2.248</td> <td>    0.625</td>\n",
       "</tr>\n",
       "<tr>\n",
       "  <th>x3</th>    <td>    1.9654</td> <td>    0.026</td> <td>   75.737</td> <td> 0.000</td> <td>    1.914</td> <td>    2.017</td>\n",
       "</tr>\n",
       "<tr>\n",
       "  <th>x4</th>    <td>   -0.1088</td> <td>    0.141</td> <td>   -0.770</td> <td> 0.444</td> <td>   -0.390</td> <td>    0.172</td>\n",
       "</tr>\n",
       "<tr>\n",
       "  <th>x5</th>    <td>   -0.0016</td> <td>    0.001</td> <td>   -1.788</td> <td> 0.077</td> <td>   -0.003</td> <td>    0.000</td>\n",
       "</tr>\n",
       "<tr>\n",
       "  <th>x6</th>    <td>    0.0032</td> <td>    0.012</td> <td>    0.269</td> <td> 0.788</td> <td>   -0.020</td> <td>    0.027</td>\n",
       "</tr>\n",
       "<tr>\n",
       "  <th>x7</th>    <td> 5.815e-06</td> <td>    0.000</td> <td>    0.026</td> <td> 0.979</td> <td>   -0.000</td> <td>    0.000</td>\n",
       "</tr>\n",
       "<tr>\n",
       "  <th>x8</th>    <td>    0.0008</td> <td>    0.002</td> <td>    0.406</td> <td> 0.686</td> <td>   -0.003</td> <td>    0.005</td>\n",
       "</tr>\n",
       "<tr>\n",
       "  <th>x9</th>    <td>   -0.0085</td> <td>    0.183</td> <td>   -0.047</td> <td> 0.963</td> <td>   -0.373</td> <td>    0.356</td>\n",
       "</tr>\n",
       "<tr>\n",
       "  <th>x10</th>   <td>    0.0048</td> <td>    0.004</td> <td>    1.318</td> <td> 0.191</td> <td>   -0.002</td> <td>    0.012</td>\n",
       "</tr>\n",
       "<tr>\n",
       "  <th>x11</th>   <td>   -3.0060</td> <td>    0.029</td> <td> -102.055</td> <td> 0.000</td> <td>   -3.065</td> <td>   -2.947</td>\n",
       "</tr>\n",
       "<tr>\n",
       "  <th>x12</th>   <td>    0.0001</td> <td> 7.96e-05</td> <td>    1.412</td> <td> 0.162</td> <td>-4.59e-05</td> <td>    0.000</td>\n",
       "</tr>\n",
       "<tr>\n",
       "  <th>x13</th>   <td>    0.0001</td> <td>    0.001</td> <td>    0.202</td> <td> 0.840</td> <td>   -0.001</td> <td>    0.001</td>\n",
       "</tr>\n",
       "<tr>\n",
       "  <th>x14</th>   <td>    0.0037</td> <td>    0.005</td> <td>    0.700</td> <td> 0.486</td> <td>   -0.007</td> <td>    0.014</td>\n",
       "</tr>\n",
       "</table>\n",
       "<table class=\"simpletable\">\n",
       "<tr>\n",
       "  <th>Omnibus:</th>       <td> 4.244</td> <th>  Durbin-Watson:     </th> <td>   2.476</td>\n",
       "</tr>\n",
       "<tr>\n",
       "  <th>Prob(Omnibus):</th> <td> 0.120</td> <th>  Jarque-Bera (JB):  </th> <td>   4.702</td>\n",
       "</tr>\n",
       "<tr>\n",
       "  <th>Skew:</th>          <td> 0.180</td> <th>  Prob(JB):          </th> <td>  0.0953</td>\n",
       "</tr>\n",
       "<tr>\n",
       "  <th>Kurtosis:</th>      <td> 3.999</td> <th>  Cond. No.          </th> <td>1.06e+06</td>\n",
       "</tr>\n",
       "</table><br/><br/>Notes:<br/>[1] Standard Errors assume that the covariance matrix of the errors is correctly specified.<br/>[2] The condition number is large, 1.06e+06. This might indicate that there are<br/>strong multicollinearity or other numerical problems."
      ],
      "text/plain": [
       "<class 'statsmodels.iolib.summary.Summary'>\n",
       "\"\"\"\n",
       "                            OLS Regression Results                            \n",
       "==============================================================================\n",
       "Dep. Variable:                      y   R-squared:                       1.000\n",
       "Model:                            OLS   Adj. R-squared:                  1.000\n",
       "Method:                 Least Squares   F-statistic:                 8.879e+04\n",
       "Date:                Thu, 15 Dec 2022   Prob (F-statistic):          1.26e-170\n",
       "Time:                        05:57:23   Log-Likelihood:                -69.157\n",
       "No. Observations:                 100   AIC:                             168.3\n",
       "Df Residuals:                      85   BIC:                             207.4\n",
       "Df Model:                          14                                         \n",
       "Covariance Type:            nonrobust                                         \n",
       "==============================================================================\n",
       "                 coef    std err          t      P>|t|      [0.025      0.975]\n",
       "------------------------------------------------------------------------------\n",
       "const          2.7274      2.199      1.241      0.218      -1.644       7.099\n",
       "x1             1.0466      0.051     20.715      0.000       0.946       1.147\n",
       "x2            -0.8115      0.722     -1.123      0.264      -2.248       0.625\n",
       "x3             1.9654      0.026     75.737      0.000       1.914       2.017\n",
       "x4            -0.1088      0.141     -0.770      0.444      -0.390       0.172\n",
       "x5            -0.0016      0.001     -1.788      0.077      -0.003       0.000\n",
       "x6             0.0032      0.012      0.269      0.788      -0.020       0.027\n",
       "x7          5.815e-06      0.000      0.026      0.979      -0.000       0.000\n",
       "x8             0.0008      0.002      0.406      0.686      -0.003       0.005\n",
       "x9            -0.0085      0.183     -0.047      0.963      -0.373       0.356\n",
       "x10            0.0048      0.004      1.318      0.191      -0.002       0.012\n",
       "x11           -3.0060      0.029   -102.055      0.000      -3.065      -2.947\n",
       "x12            0.0001   7.96e-05      1.412      0.162   -4.59e-05       0.000\n",
       "x13            0.0001      0.001      0.202      0.840      -0.001       0.001\n",
       "x14            0.0037      0.005      0.700      0.486      -0.007       0.014\n",
       "==============================================================================\n",
       "Omnibus:                        4.244   Durbin-Watson:                   2.476\n",
       "Prob(Omnibus):                  0.120   Jarque-Bera (JB):                4.702\n",
       "Skew:                           0.180   Prob(JB):                       0.0953\n",
       "Kurtosis:                       3.999   Cond. No.                     1.06e+06\n",
       "==============================================================================\n",
       "\n",
       "Notes:\n",
       "[1] Standard Errors assume that the covariance matrix of the errors is correctly specified.\n",
       "[2] The condition number is large, 1.06e+06. This might indicate that there are\n",
       "strong multicollinearity or other numerical problems.\n",
       "\"\"\""
      ]
     },
     "execution_count": 121,
     "metadata": {},
     "output_type": "execute_result"
    }
   ],
   "source": [
    "res.summary()"
   ]
  },
  {
   "attachments": {},
   "cell_type": "markdown",
   "metadata": {},
   "source": [
    "(( P>|t| )) chi ro neshon mide ? \n",
    "\n",
    "mana dari dar Azmone farz << Pashmam on meghdar ehtemale error vaghti ke dade morede nazar ro jpzve dade ha dar nazar begirim >>\n",
    "bar asae in tasmim migirim ke kodom dade ha roye dade asar dare \n"
   ]
  },
  {
   "cell_type": "code",
   "execution_count": 125,
   "metadata": {},
   "outputs": [
    {
     "data": {
      "text/plain": [
       "array([[ 2.52271801e+01,  1.22201795e+02, -2.00131333e+00],\n",
       "       [ 1.11766009e+01,  1.89880880e+02,  6.93716189e+00],\n",
       "       [ 2.03503465e+01,  1.23278719e+02,  3.65065188e+00],\n",
       "       [ 2.13202885e+01,  1.19631158e+02,  3.29021872e+00],\n",
       "       [ 1.87077300e+00,  1.21480064e+02, -7.05383518e+00],\n",
       "       [ 9.04333069e+00,  1.40787303e+02, -1.85352996e+00],\n",
       "       [ 2.58804718e+01,  1.55788432e+02, -4.54922865e+00],\n",
       "       [ 2.37735701e+01,  1.84148676e+02,  3.86174679e+00],\n",
       "       [ 6.87737807e+00,  1.56425495e+02, -1.05925075e+01],\n",
       "       [ 2.68015811e+01,  1.68872651e+02, -6.97265748e+00],\n",
       "       [ 6.13808739e+00,  1.90624105e+02,  3.44393348e+00],\n",
       "       [ 3.27886378e+00,  1.66559890e+02, -1.51593058e+00],\n",
       "       [ 1.70573878e+01,  1.89944779e+02, -1.86959464e+00],\n",
       "       [ 1.75276139e+01,  1.92500797e+02,  6.43156893e-01],\n",
       "       [ 2.10196026e+01,  1.21874823e+02,  3.28525061e+00],\n",
       "       [ 1.60526258e+01,  1.91859488e+02,  2.94502463e-01],\n",
       "       [ 1.12083474e+00,  1.89456046e+02,  9.20160899e+00],\n",
       "       [ 9.19547905e+00,  1.75586345e+02,  1.33736983e+01],\n",
       "       [ 2.22353464e+01,  1.82561061e+02, -5.31353728e+00],\n",
       "       [ 1.63724206e+01,  1.08566116e+02, -1.89391477e-01],\n",
       "       [ 7.74885287e+00,  1.97641987e+02,  1.53658169e+00],\n",
       "       [ 2.90085251e+01,  1.63845026e+02,  2.13460455e+00],\n",
       "       [ 2.69930507e+01,  1.02470498e+02, -5.65161881e+00],\n",
       "       [ 1.56821027e+01,  1.92727683e+02, -4.50113585e+00],\n",
       "       [ 1.03183799e+00,  1.99764210e+02,  2.64415609e+00],\n",
       "       [ 1.25193671e+01,  1.26885537e+02,  4.93442134e+00],\n",
       "       [ 2.66099828e+01,  1.36409646e+02, -6.99278398e+00],\n",
       "       [ 4.66270249e+00,  1.59876367e+02, -8.53116071e-01],\n",
       "       [ 1.87554519e+01,  1.76298176e+02,  1.00849680e+00],\n",
       "       [ 1.42239502e+01,  1.25577552e+02,  4.07312449e+00],\n",
       "       [ 1.60347289e+01,  1.21147124e+02, -4.85532727e+00],\n",
       "       [ 2.72968842e+01,  1.64969987e+02,  3.46299877e+00],\n",
       "       [ 2.78194612e+01,  1.54314774e+02,  1.00641401e+01],\n",
       "       [ 7.79586653e+00,  1.50023212e+02, -3.00313463e+00],\n",
       "       [ 2.58526042e+01,  1.92704702e+02,  1.15572526e+00],\n",
       "       [ 2.46706311e+01,  1.45324841e+02,  4.01294886e+00],\n",
       "       [ 2.28507758e+01,  1.43746408e+02,  4.59434984e+00],\n",
       "       [ 1.46955579e+01,  1.69372814e+02, -2.85448050e+00],\n",
       "       [ 2.17364755e+00,  1.10088589e+02,  1.15086347e+00],\n",
       "       [ 1.97222269e+01,  1.77125172e+02, -3.55022502e-01],\n",
       "       [ 5.74949704e+00,  1.39025280e+02,  5.99486982e+00],\n",
       "       [ 2.95775913e+00,  1.34890949e+02, -7.25732222e-01],\n",
       "       [ 2.21982295e+00,  1.00945703e+02, -3.94127742e+00],\n",
       "       [ 5.72044504e+00,  1.35576180e+02, -8.53777024e+00],\n",
       "       [ 2.41798747e+01,  1.57914443e+02,  1.28884329e+00],\n",
       "       [ 2.10425249e+01,  1.42914921e+02,  2.99754478e+00],\n",
       "       [ 2.44661395e+01,  1.88871036e+02,  1.68327977e+00],\n",
       "       [ 4.11591224e+00,  1.92160319e+02, -3.68030242e-01],\n",
       "       [ 1.73766454e+01,  1.76134600e+02,  1.34488236e+01],\n",
       "       [ 1.36846111e+01,  1.80153265e+02,  3.92258725e+00],\n",
       "       [ 1.81446716e+01,  1.36265962e+02,  4.10923729e+00],\n",
       "       [ 2.85656192e+01,  1.91982120e+02, -5.60158160e-01],\n",
       "       [ 2.73308974e+01,  1.95628935e+02, -7.19561871e+00],\n",
       "       [ 1.10423737e+01,  1.37097646e+02,  9.88709078e+00],\n",
       "       [ 7.80598229e+00,  1.09024243e+02,  1.32427054e+00],\n",
       "       [ 1.55373881e+01,  1.69624346e+02, -4.42809158e+00],\n",
       "       [ 7.83656934e+00,  1.35896598e+02,  6.25550599e+00],\n",
       "       [ 2.66389568e+01,  1.22317105e+02,  4.14921594e+00],\n",
       "       [ 1.00568651e+01,  1.25992096e+02, -4.78296004e+00],\n",
       "       [ 1.01435620e+01,  1.82232394e+02, -2.72389350e+00],\n",
       "       [ 1.33193998e+01,  1.44127311e+02, -3.83306295e+00],\n",
       "       [ 8.47523543e+00,  1.34083935e+02, -3.16069939e+00],\n",
       "       [ 2.52512184e+01,  1.13402715e+02,  5.73517271e+00],\n",
       "       [ 2.24906184e+01,  1.23622936e+02,  5.02524085e+00],\n",
       "       [ 8.76737489e+00,  1.70136756e+02,  6.78514236e+00],\n",
       "       [ 2.72167593e+01,  1.09467624e+02,  5.89157632e+00],\n",
       "       [ 1.57477613e+01,  1.85252192e+02, -3.71458445e+00],\n",
       "       [ 2.53533742e+00,  1.70290858e+02, -8.96790027e+00],\n",
       "       [ 1.90581802e+01,  1.63425874e+02, -3.68889339e-01],\n",
       "       [ 2.34796021e+01,  1.71301316e+02, -7.96702928e-01],\n",
       "       [ 1.73344978e+01,  1.74811603e+02, -3.04885841e+00],\n",
       "       [ 5.47555343e+00,  1.81445626e+02, -8.84770537e+00],\n",
       "       [ 1.33114191e+01,  1.17134093e+02,  5.74760663e+00],\n",
       "       [ 2.13554812e+01,  1.07612909e+02, -5.92228761e-01],\n",
       "       [ 9.03158873e+00,  1.44624429e+02,  4.40606103e-01],\n",
       "       [ 1.82380977e+01,  1.37695127e+02, -5.85977780e+00],\n",
       "       [ 1.94720350e+01,  1.34744030e+02, -1.09215052e+01],\n",
       "       [ 1.70461886e+01,  1.43681914e+02, -2.52123369e+00],\n",
       "       [ 2.33624372e+01,  1.21819736e+02, -6.63126157e+00],\n",
       "       [ 2.79359261e+01,  1.70184010e+02,  5.64041172e+00],\n",
       "       [ 1.11392934e+00,  1.70848559e+02,  1.39762776e+00],\n",
       "       [ 2.48839365e+01,  1.43711699e+02, -2.16847610e+00],\n",
       "       [ 3.61483692e+00,  1.96324957e+02,  1.02512642e+00],\n",
       "       [ 2.47384095e+01,  1.50036360e+02,  1.10861885e+00],\n",
       "       [ 1.83690883e+01,  1.81136820e+02,  1.54810034e+00],\n",
       "       [ 1.02896645e+01,  1.54864724e+02, -2.93665155e+00],\n",
       "       [ 8.24861188e+00,  1.05177794e+02,  6.04023886e-01],\n",
       "       [ 2.07248751e+01,  1.06505108e+02,  1.13562740e+00],\n",
       "       [ 5.46539573e+00,  1.13587957e+02, -1.20690341e+01],\n",
       "       [ 1.61424617e+01,  1.38688795e+02,  1.05420596e+01],\n",
       "       [ 1.69943398e+00,  1.82088787e+02, -1.44685261e+01],\n",
       "       [ 1.05845994e+01,  1.37164304e+02,  7.40803353e+00],\n",
       "       [ 2.71751723e+01,  1.41126505e+02, -7.54061297e+00],\n",
       "       [ 2.39377200e+01,  1.18580960e+02, -6.20921408e+00],\n",
       "       [ 5.20759888e+00,  1.18458789e+02, -2.40349076e+00],\n",
       "       [ 2.57391093e+01,  1.16152286e+02, -1.09076246e+01],\n",
       "       [ 2.65362390e+01,  1.41894886e+02, -4.03703833e+00],\n",
       "       [ 2.79270142e+01,  1.38492486e+02,  6.98737219e-01],\n",
       "       [ 2.38636767e+01,  1.17165569e+02, -3.40929185e+00],\n",
       "       [ 2.15723598e+01,  1.03272060e+02,  1.74764761e+00]])"
      ]
     },
     "execution_count": 125,
     "metadata": {},
     "output_type": "execute_result"
    }
   ],
   "source": [
    "X[:,[1,3,11]] ## data be dard bokhoram inas "
   ]
  },
  {
   "cell_type": "code",
   "execution_count": 130,
   "metadata": {},
   "outputs": [
    {
     "data": {
      "text/html": [
       "<table class=\"simpletable\">\n",
       "<caption>OLS Regression Results</caption>\n",
       "<tr>\n",
       "  <th>Dep. Variable:</th>            <td>y</td>        <th>  R-squared (uncentered):</th>      <td>   1.000</td> \n",
       "</tr>\n",
       "<tr>\n",
       "  <th>Model:</th>                   <td>OLS</td>       <th>  Adj. R-squared (uncentered):</th> <td>   1.000</td> \n",
       "</tr>\n",
       "<tr>\n",
       "  <th>Method:</th>             <td>Least Squares</td>  <th>  F-statistic:       </th>          <td>1.325e+07</td>\n",
       "</tr>\n",
       "<tr>\n",
       "  <th>Date:</th>             <td>Thu, 15 Dec 2022</td> <th>  Prob (F-statistic):</th>          <td>4.97e-272</td>\n",
       "</tr>\n",
       "<tr>\n",
       "  <th>Time:</th>                 <td>06:13:03</td>     <th>  Log-Likelihood:    </th>          <td> -73.525</td> \n",
       "</tr>\n",
       "<tr>\n",
       "  <th>No. Observations:</th>      <td>   100</td>      <th>  AIC:               </th>          <td>   153.0</td> \n",
       "</tr>\n",
       "<tr>\n",
       "  <th>Df Residuals:</th>          <td>    97</td>      <th>  BIC:               </th>          <td>   160.9</td> \n",
       "</tr>\n",
       "<tr>\n",
       "  <th>Df Model:</th>              <td>     3</td>      <th>                     </th>              <td> </td>    \n",
       "</tr>\n",
       "<tr>\n",
       "  <th>Covariance Type:</th>      <td>nonrobust</td>    <th>                     </th>              <td> </td>    \n",
       "</tr>\n",
       "</table>\n",
       "<table class=\"simpletable\">\n",
       "<tr>\n",
       "   <td></td>     <th>coef</th>     <th>std err</th>      <th>t</th>      <th>P>|t|</th>  <th>[0.025</th>    <th>0.975]</th>  \n",
       "</tr>\n",
       "<tr>\n",
       "  <th>x1</th> <td>    1.0015</td> <td>    0.006</td> <td>  181.946</td> <td> 0.000</td> <td>    0.991</td> <td>    1.012</td>\n",
       "</tr>\n",
       "<tr>\n",
       "  <th>x2</th> <td>    1.9999</td> <td>    0.001</td> <td> 3070.952</td> <td> 0.000</td> <td>    1.999</td> <td>    2.001</td>\n",
       "</tr>\n",
       "<tr>\n",
       "  <th>x3</th> <td>   -3.0052</td> <td>    0.009</td> <td> -321.855</td> <td> 0.000</td> <td>   -3.024</td> <td>   -2.987</td>\n",
       "</tr>\n",
       "</table>\n",
       "<table class=\"simpletable\">\n",
       "<tr>\n",
       "  <th>Omnibus:</th>       <td> 9.921</td> <th>  Durbin-Watson:     </th> <td>   2.492</td>\n",
       "</tr>\n",
       "<tr>\n",
       "  <th>Prob(Omnibus):</th> <td> 0.007</td> <th>  Jarque-Bera (JB):  </th> <td>  15.037</td>\n",
       "</tr>\n",
       "<tr>\n",
       "  <th>Skew:</th>          <td> 0.422</td> <th>  Prob(JB):          </th> <td>0.000543</td>\n",
       "</tr>\n",
       "<tr>\n",
       "  <th>Kurtosis:</th>      <td> 4.702</td> <th>  Cond. No.          </th> <td>    28.1</td>\n",
       "</tr>\n",
       "</table><br/><br/>Notes:<br/>[1] R² is computed without centering (uncentered) since the model does not contain a constant.<br/>[2] Standard Errors assume that the covariance matrix of the errors is correctly specified."
      ],
      "text/plain": [
       "<class 'statsmodels.iolib.summary.Summary'>\n",
       "\"\"\"\n",
       "                                 OLS Regression Results                                \n",
       "=======================================================================================\n",
       "Dep. Variable:                      y   R-squared (uncentered):                   1.000\n",
       "Model:                            OLS   Adj. R-squared (uncentered):              1.000\n",
       "Method:                 Least Squares   F-statistic:                          1.325e+07\n",
       "Date:                Thu, 15 Dec 2022   Prob (F-statistic):                   4.97e-272\n",
       "Time:                        06:13:03   Log-Likelihood:                         -73.525\n",
       "No. Observations:                 100   AIC:                                      153.0\n",
       "Df Residuals:                      97   BIC:                                      160.9\n",
       "Df Model:                           3                                                  \n",
       "Covariance Type:            nonrobust                                                  \n",
       "==============================================================================\n",
       "                 coef    std err          t      P>|t|      [0.025      0.975]\n",
       "------------------------------------------------------------------------------\n",
       "x1             1.0015      0.006    181.946      0.000       0.991       1.012\n",
       "x2             1.9999      0.001   3070.952      0.000       1.999       2.001\n",
       "x3            -3.0052      0.009   -321.855      0.000      -3.024      -2.987\n",
       "==============================================================================\n",
       "Omnibus:                        9.921   Durbin-Watson:                   2.492\n",
       "Prob(Omnibus):                  0.007   Jarque-Bera (JB):               15.037\n",
       "Skew:                           0.422   Prob(JB):                     0.000543\n",
       "Kurtosis:                       4.702   Cond. No.                         28.1\n",
       "==============================================================================\n",
       "\n",
       "Notes:\n",
       "[1] R² is computed without centering (uncentered) since the model does not contain a constant.\n",
       "[2] Standard Errors assume that the covariance matrix of the errors is correctly specified.\n",
       "\"\"\""
      ]
     },
     "execution_count": 130,
     "metadata": {},
     "output_type": "execute_result"
    }
   ],
   "source": [
    "lm2 = sm.OLS(y,X[:,[1,3,11]])\n",
    "res2= lm2.fit()\n",
    "res2.summary()"
   ]
  },
  {
   "cell_type": "code",
   "execution_count": null,
   "metadata": {},
   "outputs": [],
   "source": []
  }
 ],
 "metadata": {
  "kernelspec": {
   "display_name": "Python 3",
   "language": "python",
   "name": "python3"
  },
  "language_info": {
   "codemirror_mode": {
    "name": "ipython",
    "version": 3
   },
   "file_extension": ".py",
   "mimetype": "text/x-python",
   "name": "python",
   "nbconvert_exporter": "python",
   "pygments_lexer": "ipython3",
   "version": "3.10.6"
  },
  "orig_nbformat": 4,
  "vscode": {
   "interpreter": {
    "hash": "916dbcbb3f70747c44a77c7bcd40155683ae19c65e1c03b4aa3499c5328201f1"
   }
  }
 },
 "nbformat": 4,
 "nbformat_minor": 2
}
