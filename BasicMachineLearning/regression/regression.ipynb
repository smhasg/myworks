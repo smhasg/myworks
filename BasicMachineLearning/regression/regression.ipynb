{
 "cells": [
  {
   "cell_type": "code",
   "execution_count": 1,
   "id": "03d7c18a",
   "metadata": {
    "_cell_guid": "b1076dfc-b9ad-4769-8c92-a6c4dae69d19",
    "_uuid": "8f2839f25d086af736a60e9eeb907d3b93b6e0e5",
    "execution": {
     "iopub.execute_input": "2022-11-06T10:33:09.290222Z",
     "iopub.status.busy": "2022-11-06T10:33:09.289244Z",
     "iopub.status.idle": "2022-11-06T10:33:09.311433Z",
     "shell.execute_reply": "2022-11-06T10:33:09.310201Z"
    },
    "papermill": {
     "duration": 0.035431,
     "end_time": "2022-11-06T10:33:09.314025",
     "exception": false,
     "start_time": "2022-11-06T10:33:09.278594",
     "status": "completed"
    },
    "tags": []
   },
   "outputs": [
    {
     "name": "stdout",
     "output_type": "stream",
     "text": [
      "/kaggle/input/hdb-flat-prices-19902021-march/HDB machine learning.xlsx\n",
      "/kaggle/input/hdb-flat-prices-19902021-march/gni per capita.csv\n",
      "/kaggle/input/hdb-flat-prices-19902021-march/complete.csv\n",
      "/kaggle/input/hdb-flat-prices-19902021-march/ALL Prices 1990-2021 mar.csv\n",
      "/kaggle/input/hdb-flat-prices-19902021-march/MAS Core Inflation.csv\n",
      "/kaggle/input/hdb-flat-prices-19902021-march/dummy variable.csv\n",
      "/kaggle/input/hdb-flat-prices-19902021-march/Balas Table.csv\n"
     ]
    }
   ],
   "source": [
    "# This Python 3 environment comes with many helpful analytics libraries installed\n",
    "# It is defined by the kaggle/python Docker image: https://github.com/kaggle/docker-python\n",
    "# For example, here's several helpful packages to load\n",
    "\n",
    "import numpy as np # linear algebra\n",
    "import pandas as pd # data processing, CSV file I/O (e.g. pd.read_csv)\n",
    "\n",
    "# Input data files are available in the read-only \"../input/\" directory\n",
    "# For example, running this (by clicking run or pressing Shift+Enter) will list all files under the input directory\n",
    "\n",
    "import os\n",
    "for dirname, _, filenames in os.walk('/kaggle/input'):\n",
    "    for filename in filenames:\n",
    "        print(os.path.join(dirname, filename))\n",
    "\n",
    "# You can write up to 20GB to the current directory (/kaggle/working/) that gets preserved as output when you create a version using \"Save & Run All\" \n",
    "# You can also write temporary files to /kaggle/temp/, but they won't be saved outside of the current session"
   ]
  },
  {
   "cell_type": "code",
   "execution_count": 2,
   "id": "ce823bca",
   "metadata": {
    "execution": {
     "iopub.execute_input": "2022-11-06T10:33:09.331746Z",
     "iopub.status.busy": "2022-11-06T10:33:09.331063Z",
     "iopub.status.idle": "2022-11-06T10:33:10.353210Z",
     "shell.execute_reply": "2022-11-06T10:33:10.351764Z"
    },
    "papermill": {
     "duration": 1.034519,
     "end_time": "2022-11-06T10:33:10.356419",
     "exception": false,
     "start_time": "2022-11-06T10:33:09.321900",
     "status": "completed"
    },
    "tags": []
   },
   "outputs": [],
   "source": [
    "import seaborn as sns\n",
    "import matplotlib.pyplot as plt"
   ]
  },
  {
   "cell_type": "code",
   "execution_count": 3,
   "id": "7707767f",
   "metadata": {
    "execution": {
     "iopub.execute_input": "2022-11-06T10:33:10.376427Z",
     "iopub.status.busy": "2022-11-06T10:33:10.375588Z",
     "iopub.status.idle": "2022-11-06T10:33:17.254915Z",
     "shell.execute_reply": "2022-11-06T10:33:17.253889Z"
    },
    "papermill": {
     "duration": 6.891772,
     "end_time": "2022-11-06T10:33:17.257565",
     "exception": false,
     "start_time": "2022-11-06T10:33:10.365793",
     "status": "completed"
    },
    "tags": []
   },
   "outputs": [],
   "source": [
    "data = pd.read_csv('../input/hdb-flat-prices-19902021-march/ALL Prices 1990-2021 mar.csv')"
   ]
  },
  {
   "cell_type": "code",
   "execution_count": 4,
   "id": "482a365c",
   "metadata": {
    "execution": {
     "iopub.execute_input": "2022-11-06T10:33:17.274545Z",
     "iopub.status.busy": "2022-11-06T10:33:17.274156Z",
     "iopub.status.idle": "2022-11-06T10:33:17.710835Z",
     "shell.execute_reply": "2022-11-06T10:33:17.709795Z"
    },
    "papermill": {
     "duration": 0.448573,
     "end_time": "2022-11-06T10:33:17.713989",
     "exception": false,
     "start_time": "2022-11-06T10:33:17.265416",
     "status": "completed"
    },
    "tags": []
   },
   "outputs": [
    {
     "data": {
      "text/html": [
       "<div>\n",
       "<style scoped>\n",
       "    .dataframe tbody tr th:only-of-type {\n",
       "        vertical-align: middle;\n",
       "    }\n",
       "\n",
       "    .dataframe tbody tr th {\n",
       "        vertical-align: top;\n",
       "    }\n",
       "\n",
       "    .dataframe thead th {\n",
       "        text-align: right;\n",
       "    }\n",
       "</style>\n",
       "<table border=\"1\" class=\"dataframe\">\n",
       "  <thead>\n",
       "    <tr style=\"text-align: right;\">\n",
       "      <th></th>\n",
       "      <th>month</th>\n",
       "      <th>year</th>\n",
       "      <th>town</th>\n",
       "      <th>town_dummy</th>\n",
       "      <th>flat_type</th>\n",
       "      <th>block</th>\n",
       "      <th>street_name</th>\n",
       "      <th>address</th>\n",
       "      <th>latitude</th>\n",
       "      <th>longitude</th>\n",
       "      <th>...</th>\n",
       "      <th>price_psm_yearly</th>\n",
       "      <th>Core CPI</th>\n",
       "      <th>price cpi_adj</th>\n",
       "      <th>price_psm cpi_adj</th>\n",
       "      <th>bala lease pct</th>\n",
       "      <th>price lease_adj implied</th>\n",
       "      <th>price_psm lease_adj implied</th>\n",
       "      <th>price cpi_lease_adj implied</th>\n",
       "      <th>price_psm cpi_lease_adj implied</th>\n",
       "      <th>year_gni</th>\n",
       "    </tr>\n",
       "  </thead>\n",
       "  <tbody>\n",
       "    <tr>\n",
       "      <th>0</th>\n",
       "      <td>1990-01</td>\n",
       "      <td>1990</td>\n",
       "      <td>ANG MO KIO</td>\n",
       "      <td>2</td>\n",
       "      <td>4 ROOM</td>\n",
       "      <td>308</td>\n",
       "      <td>ANG MO KIO AVE 1</td>\n",
       "      <td>308 ANG MO KIO AVE 1 SINGAPORE</td>\n",
       "      <td>1.365485</td>\n",
       "      <td>103.844025</td>\n",
       "      <td>...</td>\n",
       "      <td>10.997442</td>\n",
       "      <td>61.59</td>\n",
       "      <td>139633.05730</td>\n",
       "      <td>1517.750623</td>\n",
       "      <td>92.9</td>\n",
       "      <td>88869.752422</td>\n",
       "      <td>965.975570</td>\n",
       "      <td>144292.502700</td>\n",
       "      <td>1568.396769</td>\n",
       "      <td>22901</td>\n",
       "    </tr>\n",
       "    <tr>\n",
       "      <th>1</th>\n",
       "      <td>1990-01</td>\n",
       "      <td>1990</td>\n",
       "      <td>ANG MO KIO</td>\n",
       "      <td>2</td>\n",
       "      <td>3 ROOM</td>\n",
       "      <td>308</td>\n",
       "      <td>ANG MO KIO AVE 1</td>\n",
       "      <td>308 ANG MO KIO AVE 1 SINGAPORE</td>\n",
       "      <td>1.365485</td>\n",
       "      <td>103.844025</td>\n",
       "      <td>...</td>\n",
       "      <td>8.464849</td>\n",
       "      <td>61.59</td>\n",
       "      <td>95794.77188</td>\n",
       "      <td>1168.228925</td>\n",
       "      <td>92.9</td>\n",
       "      <td>60968.783638</td>\n",
       "      <td>743.521752</td>\n",
       "      <td>98991.368143</td>\n",
       "      <td>1207.211806</td>\n",
       "      <td>22901</td>\n",
       "    </tr>\n",
       "    <tr>\n",
       "      <th>2</th>\n",
       "      <td>1990-01</td>\n",
       "      <td>1990</td>\n",
       "      <td>ANG MO KIO</td>\n",
       "      <td>2</td>\n",
       "      <td>3 ROOM</td>\n",
       "      <td>216</td>\n",
       "      <td>ANG MO KIO AVE 1</td>\n",
       "      <td>216 ANG MO KIO AVE 1 SINGAPORE</td>\n",
       "      <td>1.366272</td>\n",
       "      <td>103.841465</td>\n",
       "      <td>...</td>\n",
       "      <td>7.606769</td>\n",
       "      <td>61.59</td>\n",
       "      <td>76635.81750</td>\n",
       "      <td>1049.805719</td>\n",
       "      <td>92.9</td>\n",
       "      <td>48775.026911</td>\n",
       "      <td>668.151054</td>\n",
       "      <td>79193.094510</td>\n",
       "      <td>1084.836911</td>\n",
       "      <td>22901</td>\n",
       "    </tr>\n",
       "    <tr>\n",
       "      <th>3</th>\n",
       "      <td>1990-01</td>\n",
       "      <td>1990</td>\n",
       "      <td>ANG MO KIO</td>\n",
       "      <td>2</td>\n",
       "      <td>3 ROOM</td>\n",
       "      <td>308</td>\n",
       "      <td>ANG MO KIO AVE 1</td>\n",
       "      <td>308 ANG MO KIO AVE 1 SINGAPORE</td>\n",
       "      <td>1.365485</td>\n",
       "      <td>103.844025</td>\n",
       "      <td>...</td>\n",
       "      <td>8.287972</td>\n",
       "      <td>61.59</td>\n",
       "      <td>76635.81750</td>\n",
       "      <td>1143.818172</td>\n",
       "      <td>92.9</td>\n",
       "      <td>48775.026911</td>\n",
       "      <td>727.985476</td>\n",
       "      <td>79193.094510</td>\n",
       "      <td>1181.986486</td>\n",
       "      <td>22901</td>\n",
       "    </tr>\n",
       "    <tr>\n",
       "      <th>4</th>\n",
       "      <td>1990-01</td>\n",
       "      <td>1990</td>\n",
       "      <td>ANG MO KIO</td>\n",
       "      <td>2</td>\n",
       "      <td>4 ROOM</td>\n",
       "      <td>211</td>\n",
       "      <td>ANG MO KIO AVE 3</td>\n",
       "      <td>211 ANG MO KIO AVE 3 SINGAPORE</td>\n",
       "      <td>1.369226</td>\n",
       "      <td>103.841652</td>\n",
       "      <td>...</td>\n",
       "      <td>11.484353</td>\n",
       "      <td>61.59</td>\n",
       "      <td>129891.21610</td>\n",
       "      <td>1603.595261</td>\n",
       "      <td>93.3</td>\n",
       "      <td>82315.112540</td>\n",
       "      <td>1016.235957</td>\n",
       "      <td>133650.125891</td>\n",
       "      <td>1650.001555</td>\n",
       "      <td>22901</td>\n",
       "    </tr>\n",
       "    <tr>\n",
       "      <th>...</th>\n",
       "      <td>...</td>\n",
       "      <td>...</td>\n",
       "      <td>...</td>\n",
       "      <td>...</td>\n",
       "      <td>...</td>\n",
       "      <td>...</td>\n",
       "      <td>...</td>\n",
       "      <td>...</td>\n",
       "      <td>...</td>\n",
       "      <td>...</td>\n",
       "      <td>...</td>\n",
       "      <td>...</td>\n",
       "      <td>...</td>\n",
       "      <td>...</td>\n",
       "      <td>...</td>\n",
       "      <td>...</td>\n",
       "      <td>...</td>\n",
       "      <td>...</td>\n",
       "      <td>...</td>\n",
       "      <td>...</td>\n",
       "      <td>...</td>\n",
       "    </tr>\n",
       "    <tr>\n",
       "      <th>840913</th>\n",
       "      <td>2021-03</td>\n",
       "      <td>2021</td>\n",
       "      <td>YISHUN</td>\n",
       "      <td>5</td>\n",
       "      <td>3 ROOM</td>\n",
       "      <td>110</td>\n",
       "      <td>YISHUN RING RD</td>\n",
       "      <td>110 YISHUN RING RD SINGAPORE</td>\n",
       "      <td>1.433340</td>\n",
       "      <td>103.829168</td>\n",
       "      <td>...</td>\n",
       "      <td>66.650391</td>\n",
       "      <td>100.40</td>\n",
       "      <td>271912.35060</td>\n",
       "      <td>4248.630478</td>\n",
       "      <td>82.4</td>\n",
       "      <td>318058.252427</td>\n",
       "      <td>4969.660194</td>\n",
       "      <td>316791.088078</td>\n",
       "      <td>4949.860751</td>\n",
       "      <td>75000</td>\n",
       "    </tr>\n",
       "    <tr>\n",
       "      <th>840914</th>\n",
       "      <td>2021-03</td>\n",
       "      <td>2021</td>\n",
       "      <td>YISHUN</td>\n",
       "      <td>5</td>\n",
       "      <td>3 ROOM</td>\n",
       "      <td>712</td>\n",
       "      <td>YISHUN AVE 5</td>\n",
       "      <td>712 YISHUN AVE 5 SINGAPORE</td>\n",
       "      <td>1.430248</td>\n",
       "      <td>103.828862</td>\n",
       "      <td>...</td>\n",
       "      <td>63.567362</td>\n",
       "      <td>100.40</td>\n",
       "      <td>266932.27090</td>\n",
       "      <td>3925.474573</td>\n",
       "      <td>81.2</td>\n",
       "      <td>316847.290640</td>\n",
       "      <td>4659.518980</td>\n",
       "      <td>315584.950818</td>\n",
       "      <td>4640.955160</td>\n",
       "      <td>75000</td>\n",
       "    </tr>\n",
       "    <tr>\n",
       "      <th>840915</th>\n",
       "      <td>2021-03</td>\n",
       "      <td>2021</td>\n",
       "      <td>YISHUN</td>\n",
       "      <td>5</td>\n",
       "      <td>2 ROOM</td>\n",
       "      <td>424B</td>\n",
       "      <td>YISHUN AVE 11</td>\n",
       "      <td>424B YISHUN AVE 11 SINGAPORE</td>\n",
       "      <td>1.423215</td>\n",
       "      <td>103.848264</td>\n",
       "      <td>...</td>\n",
       "      <td>59.482956</td>\n",
       "      <td>100.40</td>\n",
       "      <td>258964.14340</td>\n",
       "      <td>5509.875392</td>\n",
       "      <td>95.2</td>\n",
       "      <td>262184.873950</td>\n",
       "      <td>5578.401574</td>\n",
       "      <td>261140.312672</td>\n",
       "      <td>5556.176866</td>\n",
       "      <td>75000</td>\n",
       "    </tr>\n",
       "    <tr>\n",
       "      <th>840916</th>\n",
       "      <td>2021-03</td>\n",
       "      <td>2021</td>\n",
       "      <td>YISHUN</td>\n",
       "      <td>5</td>\n",
       "      <td>2 ROOM</td>\n",
       "      <td>459</td>\n",
       "      <td>YISHUN AVE 11</td>\n",
       "      <td>459 YISHUN AVE 11 SINGAPORE</td>\n",
       "      <td>1.421059</td>\n",
       "      <td>103.846357</td>\n",
       "      <td>...</td>\n",
       "      <td>57.234432</td>\n",
       "      <td>100.40</td>\n",
       "      <td>249003.98410</td>\n",
       "      <td>5187.583001</td>\n",
       "      <td>94.8</td>\n",
       "      <td>253164.556962</td>\n",
       "      <td>5274.261603</td>\n",
       "      <td>252155.933266</td>\n",
       "      <td>5253.248609</td>\n",
       "      <td>75000</td>\n",
       "    </tr>\n",
       "    <tr>\n",
       "      <th>840917</th>\n",
       "      <td>2021-03</td>\n",
       "      <td>2021</td>\n",
       "      <td>YISHUN</td>\n",
       "      <td>5</td>\n",
       "      <td>2 ROOM</td>\n",
       "      <td>459</td>\n",
       "      <td>YISHUN AVE 11</td>\n",
       "      <td>459 YISHUN AVE 11 SINGAPORE</td>\n",
       "      <td>1.421059</td>\n",
       "      <td>103.846357</td>\n",
       "      <td>...</td>\n",
       "      <td>48.076923</td>\n",
       "      <td>100.40</td>\n",
       "      <td>209163.34660</td>\n",
       "      <td>4357.569721</td>\n",
       "      <td>94.8</td>\n",
       "      <td>212658.227848</td>\n",
       "      <td>4430.379747</td>\n",
       "      <td>211810.983899</td>\n",
       "      <td>4412.728831</td>\n",
       "      <td>75000</td>\n",
       "    </tr>\n",
       "  </tbody>\n",
       "</table>\n",
       "<p>840918 rows × 28 columns</p>\n",
       "</div>"
      ],
      "text/plain": [
       "          month  year        town  town_dummy flat_type block  \\\n",
       "0       1990-01  1990  ANG MO KIO           2    4 ROOM   308   \n",
       "1       1990-01  1990  ANG MO KIO           2    3 ROOM   308   \n",
       "2       1990-01  1990  ANG MO KIO           2    3 ROOM   216   \n",
       "3       1990-01  1990  ANG MO KIO           2    3 ROOM   308   \n",
       "4       1990-01  1990  ANG MO KIO           2    4 ROOM   211   \n",
       "...         ...   ...         ...         ...       ...   ...   \n",
       "840913  2021-03  2021      YISHUN           5    3 ROOM   110   \n",
       "840914  2021-03  2021      YISHUN           5    3 ROOM   712   \n",
       "840915  2021-03  2021      YISHUN           5    2 ROOM  424B   \n",
       "840916  2021-03  2021      YISHUN           5    2 ROOM   459   \n",
       "840917  2021-03  2021      YISHUN           5    2 ROOM   459   \n",
       "\n",
       "             street_name                         address  latitude  \\\n",
       "0       ANG MO KIO AVE 1  308 ANG MO KIO AVE 1 SINGAPORE  1.365485   \n",
       "1       ANG MO KIO AVE 1  308 ANG MO KIO AVE 1 SINGAPORE  1.365485   \n",
       "2       ANG MO KIO AVE 1  216 ANG MO KIO AVE 1 SINGAPORE  1.366272   \n",
       "3       ANG MO KIO AVE 1  308 ANG MO KIO AVE 1 SINGAPORE  1.365485   \n",
       "4       ANG MO KIO AVE 3  211 ANG MO KIO AVE 3 SINGAPORE  1.369226   \n",
       "...                  ...                             ...       ...   \n",
       "840913    YISHUN RING RD    110 YISHUN RING RD SINGAPORE  1.433340   \n",
       "840914      YISHUN AVE 5      712 YISHUN AVE 5 SINGAPORE  1.430248   \n",
       "840915     YISHUN AVE 11    424B YISHUN AVE 11 SINGAPORE  1.423215   \n",
       "840916     YISHUN AVE 11     459 YISHUN AVE 11 SINGAPORE  1.421059   \n",
       "840917     YISHUN AVE 11     459 YISHUN AVE 11 SINGAPORE  1.421059   \n",
       "\n",
       "         longitude  ... price_psm_yearly  Core CPI  price cpi_adj  \\\n",
       "0       103.844025  ...        10.997442     61.59   139633.05730   \n",
       "1       103.844025  ...         8.464849     61.59    95794.77188   \n",
       "2       103.841465  ...         7.606769     61.59    76635.81750   \n",
       "3       103.844025  ...         8.287972     61.59    76635.81750   \n",
       "4       103.841652  ...        11.484353     61.59   129891.21610   \n",
       "...            ...  ...              ...       ...            ...   \n",
       "840913  103.829168  ...        66.650391    100.40   271912.35060   \n",
       "840914  103.828862  ...        63.567362    100.40   266932.27090   \n",
       "840915  103.848264  ...        59.482956    100.40   258964.14340   \n",
       "840916  103.846357  ...        57.234432    100.40   249003.98410   \n",
       "840917  103.846357  ...        48.076923    100.40   209163.34660   \n",
       "\n",
       "       price_psm cpi_adj  bala lease pct  price lease_adj implied  \\\n",
       "0            1517.750623            92.9             88869.752422   \n",
       "1            1168.228925            92.9             60968.783638   \n",
       "2            1049.805719            92.9             48775.026911   \n",
       "3            1143.818172            92.9             48775.026911   \n",
       "4            1603.595261            93.3             82315.112540   \n",
       "...                  ...             ...                      ...   \n",
       "840913       4248.630478            82.4            318058.252427   \n",
       "840914       3925.474573            81.2            316847.290640   \n",
       "840915       5509.875392            95.2            262184.873950   \n",
       "840916       5187.583001            94.8            253164.556962   \n",
       "840917       4357.569721            94.8            212658.227848   \n",
       "\n",
       "        price_psm lease_adj implied  price cpi_lease_adj implied  \\\n",
       "0                        965.975570                144292.502700   \n",
       "1                        743.521752                 98991.368143   \n",
       "2                        668.151054                 79193.094510   \n",
       "3                        727.985476                 79193.094510   \n",
       "4                       1016.235957                133650.125891   \n",
       "...                             ...                          ...   \n",
       "840913                  4969.660194                316791.088078   \n",
       "840914                  4659.518980                315584.950818   \n",
       "840915                  5578.401574                261140.312672   \n",
       "840916                  5274.261603                252155.933266   \n",
       "840917                  4430.379747                211810.983899   \n",
       "\n",
       "        price_psm cpi_lease_adj implied  year_gni  \n",
       "0                           1568.396769     22901  \n",
       "1                           1207.211806     22901  \n",
       "2                           1084.836911     22901  \n",
       "3                           1181.986486     22901  \n",
       "4                           1650.001555     22901  \n",
       "...                                 ...       ...  \n",
       "840913                      4949.860751     75000  \n",
       "840914                      4640.955160     75000  \n",
       "840915                      5556.176866     75000  \n",
       "840916                      5253.248609     75000  \n",
       "840917                      4412.728831     75000  \n",
       "\n",
       "[840918 rows x 28 columns]"
      ]
     },
     "execution_count": 4,
     "metadata": {},
     "output_type": "execute_result"
    }
   ],
   "source": [
    "data"
   ]
  },
  {
   "cell_type": "code",
   "execution_count": 5,
   "id": "e7a54de4",
   "metadata": {
    "execution": {
     "iopub.execute_input": "2022-11-06T10:33:17.733201Z",
     "iopub.status.busy": "2022-11-06T10:33:17.732033Z",
     "iopub.status.idle": "2022-11-06T10:33:18.077865Z",
     "shell.execute_reply": "2022-11-06T10:33:18.076638Z"
    },
    "papermill": {
     "duration": 0.357802,
     "end_time": "2022-11-06T10:33:18.080295",
     "exception": false,
     "start_time": "2022-11-06T10:33:17.722493",
     "status": "completed"
    },
    "tags": []
   },
   "outputs": [
    {
     "data": {
      "text/html": [
       "<div>\n",
       "<style scoped>\n",
       "    .dataframe tbody tr th:only-of-type {\n",
       "        vertical-align: middle;\n",
       "    }\n",
       "\n",
       "    .dataframe tbody tr th {\n",
       "        vertical-align: top;\n",
       "    }\n",
       "\n",
       "    .dataframe thead th {\n",
       "        text-align: right;\n",
       "    }\n",
       "</style>\n",
       "<table border=\"1\" class=\"dataframe\">\n",
       "  <thead>\n",
       "    <tr style=\"text-align: right;\">\n",
       "      <th></th>\n",
       "      <th>month</th>\n",
       "      <th>year</th>\n",
       "      <th>town</th>\n",
       "      <th>town_dummy</th>\n",
       "      <th>flat_type</th>\n",
       "      <th>block</th>\n",
       "      <th>street_name</th>\n",
       "      <th>address</th>\n",
       "      <th>latitude</th>\n",
       "      <th>longitude</th>\n",
       "      <th>...</th>\n",
       "      <th>price_psm_yearly</th>\n",
       "      <th>Core CPI</th>\n",
       "      <th>price cpi_adj</th>\n",
       "      <th>price_psm cpi_adj</th>\n",
       "      <th>bala lease pct</th>\n",
       "      <th>price lease_adj implied</th>\n",
       "      <th>price_psm lease_adj implied</th>\n",
       "      <th>price cpi_lease_adj implied</th>\n",
       "      <th>price_psm cpi_lease_adj implied</th>\n",
       "      <th>year_gni</th>\n",
       "    </tr>\n",
       "  </thead>\n",
       "  <tbody>\n",
       "    <tr>\n",
       "      <th>0</th>\n",
       "      <td>False</td>\n",
       "      <td>False</td>\n",
       "      <td>False</td>\n",
       "      <td>False</td>\n",
       "      <td>False</td>\n",
       "      <td>False</td>\n",
       "      <td>False</td>\n",
       "      <td>False</td>\n",
       "      <td>False</td>\n",
       "      <td>False</td>\n",
       "      <td>...</td>\n",
       "      <td>False</td>\n",
       "      <td>False</td>\n",
       "      <td>False</td>\n",
       "      <td>False</td>\n",
       "      <td>False</td>\n",
       "      <td>False</td>\n",
       "      <td>False</td>\n",
       "      <td>False</td>\n",
       "      <td>False</td>\n",
       "      <td>False</td>\n",
       "    </tr>\n",
       "    <tr>\n",
       "      <th>1</th>\n",
       "      <td>False</td>\n",
       "      <td>False</td>\n",
       "      <td>False</td>\n",
       "      <td>False</td>\n",
       "      <td>False</td>\n",
       "      <td>False</td>\n",
       "      <td>False</td>\n",
       "      <td>False</td>\n",
       "      <td>False</td>\n",
       "      <td>False</td>\n",
       "      <td>...</td>\n",
       "      <td>False</td>\n",
       "      <td>False</td>\n",
       "      <td>False</td>\n",
       "      <td>False</td>\n",
       "      <td>False</td>\n",
       "      <td>False</td>\n",
       "      <td>False</td>\n",
       "      <td>False</td>\n",
       "      <td>False</td>\n",
       "      <td>False</td>\n",
       "    </tr>\n",
       "    <tr>\n",
       "      <th>2</th>\n",
       "      <td>False</td>\n",
       "      <td>False</td>\n",
       "      <td>False</td>\n",
       "      <td>False</td>\n",
       "      <td>False</td>\n",
       "      <td>False</td>\n",
       "      <td>False</td>\n",
       "      <td>False</td>\n",
       "      <td>False</td>\n",
       "      <td>False</td>\n",
       "      <td>...</td>\n",
       "      <td>False</td>\n",
       "      <td>False</td>\n",
       "      <td>False</td>\n",
       "      <td>False</td>\n",
       "      <td>False</td>\n",
       "      <td>False</td>\n",
       "      <td>False</td>\n",
       "      <td>False</td>\n",
       "      <td>False</td>\n",
       "      <td>False</td>\n",
       "    </tr>\n",
       "    <tr>\n",
       "      <th>3</th>\n",
       "      <td>False</td>\n",
       "      <td>False</td>\n",
       "      <td>False</td>\n",
       "      <td>False</td>\n",
       "      <td>False</td>\n",
       "      <td>False</td>\n",
       "      <td>False</td>\n",
       "      <td>False</td>\n",
       "      <td>False</td>\n",
       "      <td>False</td>\n",
       "      <td>...</td>\n",
       "      <td>False</td>\n",
       "      <td>False</td>\n",
       "      <td>False</td>\n",
       "      <td>False</td>\n",
       "      <td>False</td>\n",
       "      <td>False</td>\n",
       "      <td>False</td>\n",
       "      <td>False</td>\n",
       "      <td>False</td>\n",
       "      <td>False</td>\n",
       "    </tr>\n",
       "    <tr>\n",
       "      <th>4</th>\n",
       "      <td>False</td>\n",
       "      <td>False</td>\n",
       "      <td>False</td>\n",
       "      <td>False</td>\n",
       "      <td>False</td>\n",
       "      <td>False</td>\n",
       "      <td>False</td>\n",
       "      <td>False</td>\n",
       "      <td>False</td>\n",
       "      <td>False</td>\n",
       "      <td>...</td>\n",
       "      <td>False</td>\n",
       "      <td>False</td>\n",
       "      <td>False</td>\n",
       "      <td>False</td>\n",
       "      <td>False</td>\n",
       "      <td>False</td>\n",
       "      <td>False</td>\n",
       "      <td>False</td>\n",
       "      <td>False</td>\n",
       "      <td>False</td>\n",
       "    </tr>\n",
       "    <tr>\n",
       "      <th>...</th>\n",
       "      <td>...</td>\n",
       "      <td>...</td>\n",
       "      <td>...</td>\n",
       "      <td>...</td>\n",
       "      <td>...</td>\n",
       "      <td>...</td>\n",
       "      <td>...</td>\n",
       "      <td>...</td>\n",
       "      <td>...</td>\n",
       "      <td>...</td>\n",
       "      <td>...</td>\n",
       "      <td>...</td>\n",
       "      <td>...</td>\n",
       "      <td>...</td>\n",
       "      <td>...</td>\n",
       "      <td>...</td>\n",
       "      <td>...</td>\n",
       "      <td>...</td>\n",
       "      <td>...</td>\n",
       "      <td>...</td>\n",
       "      <td>...</td>\n",
       "    </tr>\n",
       "    <tr>\n",
       "      <th>840913</th>\n",
       "      <td>False</td>\n",
       "      <td>False</td>\n",
       "      <td>False</td>\n",
       "      <td>False</td>\n",
       "      <td>False</td>\n",
       "      <td>False</td>\n",
       "      <td>False</td>\n",
       "      <td>False</td>\n",
       "      <td>False</td>\n",
       "      <td>False</td>\n",
       "      <td>...</td>\n",
       "      <td>False</td>\n",
       "      <td>False</td>\n",
       "      <td>False</td>\n",
       "      <td>False</td>\n",
       "      <td>False</td>\n",
       "      <td>False</td>\n",
       "      <td>False</td>\n",
       "      <td>False</td>\n",
       "      <td>False</td>\n",
       "      <td>False</td>\n",
       "    </tr>\n",
       "    <tr>\n",
       "      <th>840914</th>\n",
       "      <td>False</td>\n",
       "      <td>False</td>\n",
       "      <td>False</td>\n",
       "      <td>False</td>\n",
       "      <td>False</td>\n",
       "      <td>False</td>\n",
       "      <td>False</td>\n",
       "      <td>False</td>\n",
       "      <td>False</td>\n",
       "      <td>False</td>\n",
       "      <td>...</td>\n",
       "      <td>False</td>\n",
       "      <td>False</td>\n",
       "      <td>False</td>\n",
       "      <td>False</td>\n",
       "      <td>False</td>\n",
       "      <td>False</td>\n",
       "      <td>False</td>\n",
       "      <td>False</td>\n",
       "      <td>False</td>\n",
       "      <td>False</td>\n",
       "    </tr>\n",
       "    <tr>\n",
       "      <th>840915</th>\n",
       "      <td>False</td>\n",
       "      <td>False</td>\n",
       "      <td>False</td>\n",
       "      <td>False</td>\n",
       "      <td>False</td>\n",
       "      <td>False</td>\n",
       "      <td>False</td>\n",
       "      <td>False</td>\n",
       "      <td>False</td>\n",
       "      <td>False</td>\n",
       "      <td>...</td>\n",
       "      <td>False</td>\n",
       "      <td>False</td>\n",
       "      <td>False</td>\n",
       "      <td>False</td>\n",
       "      <td>False</td>\n",
       "      <td>False</td>\n",
       "      <td>False</td>\n",
       "      <td>False</td>\n",
       "      <td>False</td>\n",
       "      <td>False</td>\n",
       "    </tr>\n",
       "    <tr>\n",
       "      <th>840916</th>\n",
       "      <td>False</td>\n",
       "      <td>False</td>\n",
       "      <td>False</td>\n",
       "      <td>False</td>\n",
       "      <td>False</td>\n",
       "      <td>False</td>\n",
       "      <td>False</td>\n",
       "      <td>False</td>\n",
       "      <td>False</td>\n",
       "      <td>False</td>\n",
       "      <td>...</td>\n",
       "      <td>False</td>\n",
       "      <td>False</td>\n",
       "      <td>False</td>\n",
       "      <td>False</td>\n",
       "      <td>False</td>\n",
       "      <td>False</td>\n",
       "      <td>False</td>\n",
       "      <td>False</td>\n",
       "      <td>False</td>\n",
       "      <td>False</td>\n",
       "    </tr>\n",
       "    <tr>\n",
       "      <th>840917</th>\n",
       "      <td>False</td>\n",
       "      <td>False</td>\n",
       "      <td>False</td>\n",
       "      <td>False</td>\n",
       "      <td>False</td>\n",
       "      <td>False</td>\n",
       "      <td>False</td>\n",
       "      <td>False</td>\n",
       "      <td>False</td>\n",
       "      <td>False</td>\n",
       "      <td>...</td>\n",
       "      <td>False</td>\n",
       "      <td>False</td>\n",
       "      <td>False</td>\n",
       "      <td>False</td>\n",
       "      <td>False</td>\n",
       "      <td>False</td>\n",
       "      <td>False</td>\n",
       "      <td>False</td>\n",
       "      <td>False</td>\n",
       "      <td>False</td>\n",
       "    </tr>\n",
       "  </tbody>\n",
       "</table>\n",
       "<p>840918 rows × 28 columns</p>\n",
       "</div>"
      ],
      "text/plain": [
       "        month   year   town  town_dummy  flat_type  block  street_name  \\\n",
       "0       False  False  False       False      False  False        False   \n",
       "1       False  False  False       False      False  False        False   \n",
       "2       False  False  False       False      False  False        False   \n",
       "3       False  False  False       False      False  False        False   \n",
       "4       False  False  False       False      False  False        False   \n",
       "...       ...    ...    ...         ...        ...    ...          ...   \n",
       "840913  False  False  False       False      False  False        False   \n",
       "840914  False  False  False       False      False  False        False   \n",
       "840915  False  False  False       False      False  False        False   \n",
       "840916  False  False  False       False      False  False        False   \n",
       "840917  False  False  False       False      False  False        False   \n",
       "\n",
       "        address  latitude  longitude  ...  price_psm_yearly  Core CPI  \\\n",
       "0         False     False      False  ...             False     False   \n",
       "1         False     False      False  ...             False     False   \n",
       "2         False     False      False  ...             False     False   \n",
       "3         False     False      False  ...             False     False   \n",
       "4         False     False      False  ...             False     False   \n",
       "...         ...       ...        ...  ...               ...       ...   \n",
       "840913    False     False      False  ...             False     False   \n",
       "840914    False     False      False  ...             False     False   \n",
       "840915    False     False      False  ...             False     False   \n",
       "840916    False     False      False  ...             False     False   \n",
       "840917    False     False      False  ...             False     False   \n",
       "\n",
       "        price cpi_adj  price_psm cpi_adj  bala lease pct  \\\n",
       "0               False              False           False   \n",
       "1               False              False           False   \n",
       "2               False              False           False   \n",
       "3               False              False           False   \n",
       "4               False              False           False   \n",
       "...               ...                ...             ...   \n",
       "840913          False              False           False   \n",
       "840914          False              False           False   \n",
       "840915          False              False           False   \n",
       "840916          False              False           False   \n",
       "840917          False              False           False   \n",
       "\n",
       "        price lease_adj implied  price_psm lease_adj implied  \\\n",
       "0                         False                        False   \n",
       "1                         False                        False   \n",
       "2                         False                        False   \n",
       "3                         False                        False   \n",
       "4                         False                        False   \n",
       "...                         ...                          ...   \n",
       "840913                    False                        False   \n",
       "840914                    False                        False   \n",
       "840915                    False                        False   \n",
       "840916                    False                        False   \n",
       "840917                    False                        False   \n",
       "\n",
       "        price cpi_lease_adj implied  price_psm cpi_lease_adj implied  year_gni  \n",
       "0                             False                            False     False  \n",
       "1                             False                            False     False  \n",
       "2                             False                            False     False  \n",
       "3                             False                            False     False  \n",
       "4                             False                            False     False  \n",
       "...                             ...                              ...       ...  \n",
       "840913                        False                            False     False  \n",
       "840914                        False                            False     False  \n",
       "840915                        False                            False     False  \n",
       "840916                        False                            False     False  \n",
       "840917                        False                            False     False  \n",
       "\n",
       "[840918 rows x 28 columns]"
      ]
     },
     "execution_count": 5,
     "metadata": {},
     "output_type": "execute_result"
    }
   ],
   "source": [
    "data.isna()"
   ]
  },
  {
   "cell_type": "code",
   "execution_count": 6,
   "id": "3721b88b",
   "metadata": {
    "execution": {
     "iopub.execute_input": "2022-11-06T10:33:18.101097Z",
     "iopub.status.busy": "2022-11-06T10:33:18.100731Z",
     "iopub.status.idle": "2022-11-06T10:33:18.409835Z",
     "shell.execute_reply": "2022-11-06T10:33:18.408874Z"
    },
    "papermill": {
     "duration": 0.321896,
     "end_time": "2022-11-06T10:33:18.412525",
     "exception": false,
     "start_time": "2022-11-06T10:33:18.090629",
     "status": "completed"
    },
    "tags": []
   },
   "outputs": [],
   "source": [
    "missing_percent = data.isna().sum()/data.shape[0] * 100"
   ]
  },
  {
   "cell_type": "code",
   "execution_count": 7,
   "id": "81069967",
   "metadata": {
    "execution": {
     "iopub.execute_input": "2022-11-06T10:33:18.432262Z",
     "iopub.status.busy": "2022-11-06T10:33:18.431529Z",
     "iopub.status.idle": "2022-11-06T10:33:18.439725Z",
     "shell.execute_reply": "2022-11-06T10:33:18.438988Z"
    },
    "papermill": {
     "duration": 0.02011,
     "end_time": "2022-11-06T10:33:18.441677",
     "exception": false,
     "start_time": "2022-11-06T10:33:18.421567",
     "status": "completed"
    },
    "tags": []
   },
   "outputs": [
    {
     "data": {
      "text/plain": [
       "month                              0.0\n",
       "year                               0.0\n",
       "town                               0.0\n",
       "town_dummy                         0.0\n",
       "flat_type                          0.0\n",
       "block                              0.0\n",
       "street_name                        0.0\n",
       "address                            0.0\n",
       "latitude                           0.0\n",
       "longitude                          0.0\n",
       "storey_range                       0.0\n",
       "storey                             0.0\n",
       "area_sqm                           0.0\n",
       "flat_model                         0.0\n",
       "lease_start                        0.0\n",
       "lease_rem                          0.0\n",
       "resale_price                       0.0\n",
       "price_psm                          0.0\n",
       "price_psm_yearly                   0.0\n",
       "Core CPI                           0.0\n",
       "price cpi_adj                      0.0\n",
       "price_psm cpi_adj                  0.0\n",
       "bala lease pct                     0.0\n",
       "price lease_adj implied            0.0\n",
       "price_psm lease_adj implied        0.0\n",
       "price cpi_lease_adj implied        0.0\n",
       "price_psm cpi_lease_adj implied    0.0\n",
       "year_gni                           0.0\n",
       "dtype: float64"
      ]
     },
     "execution_count": 7,
     "metadata": {},
     "output_type": "execute_result"
    }
   ],
   "source": [
    "missing_percent"
   ]
  },
  {
   "cell_type": "code",
   "execution_count": 8,
   "id": "4928cb87",
   "metadata": {
    "execution": {
     "iopub.execute_input": "2022-11-06T10:33:18.461111Z",
     "iopub.status.busy": "2022-11-06T10:33:18.460748Z",
     "iopub.status.idle": "2022-11-06T10:33:18.788105Z",
     "shell.execute_reply": "2022-11-06T10:33:18.787226Z"
    },
    "papermill": {
     "duration": 0.339742,
     "end_time": "2022-11-06T10:33:18.790382",
     "exception": false,
     "start_time": "2022-11-06T10:33:18.450640",
     "status": "completed"
    },
    "tags": []
   },
   "outputs": [
    {
     "name": "stdout",
     "output_type": "stream",
     "text": [
      "<class 'pandas.core.frame.DataFrame'>\n",
      "RangeIndex: 840918 entries, 0 to 840917\n",
      "Data columns (total 28 columns):\n",
      " #   Column                           Non-Null Count   Dtype  \n",
      "---  ------                           --------------   -----  \n",
      " 0   month                            840918 non-null  object \n",
      " 1   year                             840918 non-null  int64  \n",
      " 2   town                             840918 non-null  object \n",
      " 3   town_dummy                       840918 non-null  int64  \n",
      " 4   flat_type                        840918 non-null  object \n",
      " 5   block                            840918 non-null  object \n",
      " 6   street_name                      840918 non-null  object \n",
      " 7   address                          840918 non-null  object \n",
      " 8   latitude                         840918 non-null  float64\n",
      " 9   longitude                        840918 non-null  float64\n",
      " 10  storey_range                     840918 non-null  object \n",
      " 11  storey                           840918 non-null  int64  \n",
      " 12  area_sqm                         840918 non-null  float64\n",
      " 13  flat_model                       840918 non-null  object \n",
      " 14  lease_start                      840918 non-null  int64  \n",
      " 15  lease_rem                        840918 non-null  int64  \n",
      " 16  resale_price                     840918 non-null  float64\n",
      " 17  price_psm                        840918 non-null  float64\n",
      " 18  price_psm_yearly                 840918 non-null  float64\n",
      " 19  Core CPI                         840918 non-null  float64\n",
      " 20  price cpi_adj                    840918 non-null  float64\n",
      " 21  price_psm cpi_adj                840918 non-null  float64\n",
      " 22  bala lease pct                   840918 non-null  float64\n",
      " 23  price lease_adj implied          840918 non-null  float64\n",
      " 24  price_psm lease_adj implied      840918 non-null  float64\n",
      " 25  price cpi_lease_adj implied      840918 non-null  float64\n",
      " 26  price_psm cpi_lease_adj implied  840918 non-null  float64\n",
      " 27  year_gni                         840918 non-null  int64  \n",
      "dtypes: float64(14), int64(6), object(8)\n",
      "memory usage: 179.6+ MB\n"
     ]
    }
   ],
   "source": [
    "data.info()"
   ]
  },
  {
   "cell_type": "code",
   "execution_count": 9,
   "id": "9fc670fb",
   "metadata": {
    "execution": {
     "iopub.execute_input": "2022-11-06T10:33:18.810039Z",
     "iopub.status.busy": "2022-11-06T10:33:18.809477Z",
     "iopub.status.idle": "2022-11-06T10:33:19.430747Z",
     "shell.execute_reply": "2022-11-06T10:33:19.429599Z"
    },
    "papermill": {
     "duration": 0.633525,
     "end_time": "2022-11-06T10:33:19.432924",
     "exception": false,
     "start_time": "2022-11-06T10:33:18.799399",
     "status": "completed"
    },
    "tags": []
   },
   "outputs": [
    {
     "data": {
      "text/html": [
       "<div>\n",
       "<style scoped>\n",
       "    .dataframe tbody tr th:only-of-type {\n",
       "        vertical-align: middle;\n",
       "    }\n",
       "\n",
       "    .dataframe tbody tr th {\n",
       "        vertical-align: top;\n",
       "    }\n",
       "\n",
       "    .dataframe thead th {\n",
       "        text-align: right;\n",
       "    }\n",
       "</style>\n",
       "<table border=\"1\" class=\"dataframe\">\n",
       "  <thead>\n",
       "    <tr style=\"text-align: right;\">\n",
       "      <th></th>\n",
       "      <th>year</th>\n",
       "      <th>town_dummy</th>\n",
       "      <th>latitude</th>\n",
       "      <th>longitude</th>\n",
       "      <th>storey</th>\n",
       "      <th>area_sqm</th>\n",
       "      <th>lease_start</th>\n",
       "      <th>lease_rem</th>\n",
       "      <th>resale_price</th>\n",
       "      <th>price_psm</th>\n",
       "      <th>price_psm_yearly</th>\n",
       "      <th>Core CPI</th>\n",
       "      <th>price cpi_adj</th>\n",
       "      <th>price_psm cpi_adj</th>\n",
       "      <th>bala lease pct</th>\n",
       "      <th>price lease_adj implied</th>\n",
       "      <th>price_psm lease_adj implied</th>\n",
       "      <th>price cpi_lease_adj implied</th>\n",
       "      <th>price_psm cpi_lease_adj implied</th>\n",
       "      <th>year_gni</th>\n",
       "    </tr>\n",
       "  </thead>\n",
       "  <tbody>\n",
       "    <tr>\n",
       "      <th>count</th>\n",
       "      <td>840918.000000</td>\n",
       "      <td>840918.000000</td>\n",
       "      <td>840918.000000</td>\n",
       "      <td>840918.000000</td>\n",
       "      <td>840918.000000</td>\n",
       "      <td>840918.000000</td>\n",
       "      <td>840918.000000</td>\n",
       "      <td>840918.000000</td>\n",
       "      <td>8.409180e+05</td>\n",
       "      <td>840918.000000</td>\n",
       "      <td>840918.000000</td>\n",
       "      <td>840918.000000</td>\n",
       "      <td>8.409180e+05</td>\n",
       "      <td>840918.000000</td>\n",
       "      <td>840918.000000</td>\n",
       "      <td>8.409180e+05</td>\n",
       "      <td>840918.000000</td>\n",
       "      <td>8.409180e+05</td>\n",
       "      <td>840918.000000</td>\n",
       "      <td>840918.000000</td>\n",
       "    </tr>\n",
       "    <tr>\n",
       "      <th>mean</th>\n",
       "      <td>2004.512196</td>\n",
       "      <td>3.892261</td>\n",
       "      <td>1.361102</td>\n",
       "      <td>103.839049</td>\n",
       "      <td>7.567124</td>\n",
       "      <td>95.608704</td>\n",
       "      <td>1987.313952</td>\n",
       "      <td>81.780300</td>\n",
       "      <td>2.968002e+05</td>\n",
       "      <td>3062.232943</td>\n",
       "      <td>38.780054</td>\n",
       "      <td>80.222704</td>\n",
       "      <td>3.607913e+05</td>\n",
       "      <td>3718.709303</td>\n",
       "      <td>90.998891</td>\n",
       "      <td>3.142900e+05</td>\n",
       "      <td>3262.187707</td>\n",
       "      <td>3.808532e+05</td>\n",
       "      <td>3948.732221</td>\n",
       "      <td>49518.956025</td>\n",
       "    </tr>\n",
       "    <tr>\n",
       "      <th>std</th>\n",
       "      <td>8.135802</td>\n",
       "      <td>1.403197</td>\n",
       "      <td>0.041576</td>\n",
       "      <td>0.073889</td>\n",
       "      <td>4.657776</td>\n",
       "      <td>26.026266</td>\n",
       "      <td>9.637392</td>\n",
       "      <td>9.959341</td>\n",
       "      <td>1.509764e+05</td>\n",
       "      <td>1299.310863</td>\n",
       "      <td>19.256850</td>\n",
       "      <td>10.545238</td>\n",
       "      <td>1.616870e+05</td>\n",
       "      <td>1241.736956</td>\n",
       "      <td>4.407041</td>\n",
       "      <td>1.614892e+05</td>\n",
       "      <td>1453.964069</td>\n",
       "      <td>1.696361e+05</td>\n",
       "      <td>1381.597677</td>\n",
       "      <td>15844.785659</td>\n",
       "    </tr>\n",
       "    <tr>\n",
       "      <th>min</th>\n",
       "      <td>1990.000000</td>\n",
       "      <td>1.000000</td>\n",
       "      <td>1.266682</td>\n",
       "      <td>103.685206</td>\n",
       "      <td>2.000000</td>\n",
       "      <td>28.000000</td>\n",
       "      <td>1966.000000</td>\n",
       "      <td>45.000000</td>\n",
       "      <td>5.000000e+03</td>\n",
       "      <td>161.290323</td>\n",
       "      <td>1.920123</td>\n",
       "      <td>61.478000</td>\n",
       "      <td>8.074414e+03</td>\n",
       "      <td>260.464961</td>\n",
       "      <td>71.800000</td>\n",
       "      <td>5.183585e+03</td>\n",
       "      <td>167.212429</td>\n",
       "      <td>8.370883e+03</td>\n",
       "      <td>270.028469</td>\n",
       "      <td>22901.000000</td>\n",
       "    </tr>\n",
       "    <tr>\n",
       "      <th>25%</th>\n",
       "      <td>1998.000000</td>\n",
       "      <td>2.000000</td>\n",
       "      <td>1.333346</td>\n",
       "      <td>103.772844</td>\n",
       "      <td>5.000000</td>\n",
       "      <td>73.000000</td>\n",
       "      <td>1980.000000</td>\n",
       "      <td>75.000000</td>\n",
       "      <td>1.830000e+05</td>\n",
       "      <td>2238.095238</td>\n",
       "      <td>26.435374</td>\n",
       "      <td>72.429000</td>\n",
       "      <td>2.432166e+05</td>\n",
       "      <td>2975.961115</td>\n",
       "      <td>88.500000</td>\n",
       "      <td>1.932075e+05</td>\n",
       "      <td>2331.203240</td>\n",
       "      <td>2.583465e+05</td>\n",
       "      <td>3106.848880</td>\n",
       "      <td>37363.000000</td>\n",
       "    </tr>\n",
       "    <tr>\n",
       "      <th>50%</th>\n",
       "      <td>2003.000000</td>\n",
       "      <td>4.000000</td>\n",
       "      <td>1.354131</td>\n",
       "      <td>103.842792</td>\n",
       "      <td>8.000000</td>\n",
       "      <td>93.000000</td>\n",
       "      <td>1986.000000</td>\n",
       "      <td>83.000000</td>\n",
       "      <td>2.780000e+05</td>\n",
       "      <td>2797.619048</td>\n",
       "      <td>33.491765</td>\n",
       "      <td>75.954000</td>\n",
       "      <td>3.442474e+05</td>\n",
       "      <td>3610.835922</td>\n",
       "      <td>92.200000</td>\n",
       "      <td>2.931064e+05</td>\n",
       "      <td>2917.886452</td>\n",
       "      <td>3.652154e+05</td>\n",
       "      <td>3793.907869</td>\n",
       "      <td>40870.000000</td>\n",
       "    </tr>\n",
       "    <tr>\n",
       "      <th>75%</th>\n",
       "      <td>2010.000000</td>\n",
       "      <td>5.000000</td>\n",
       "      <td>1.380824</td>\n",
       "      <td>103.897752</td>\n",
       "      <td>11.000000</td>\n",
       "      <td>114.000000</td>\n",
       "      <td>1995.000000</td>\n",
       "      <td>90.000000</td>\n",
       "      <td>3.870000e+05</td>\n",
       "      <td>3818.181818</td>\n",
       "      <td>48.392057</td>\n",
       "      <td>87.810000</td>\n",
       "      <td>4.564779e+05</td>\n",
       "      <td>4399.740077</td>\n",
       "      <td>94.600000</td>\n",
       "      <td>4.103072e+05</td>\n",
       "      <td>4092.702169</td>\n",
       "      <td>4.799981e+05</td>\n",
       "      <td>4687.830912</td>\n",
       "      <td>63712.000000</td>\n",
       "    </tr>\n",
       "    <tr>\n",
       "      <th>max</th>\n",
       "      <td>2021.000000</td>\n",
       "      <td>6.000000</td>\n",
       "      <td>1.457052</td>\n",
       "      <td>103.988777</td>\n",
       "      <td>50.000000</td>\n",
       "      <td>307.000000</td>\n",
       "      <td>2019.000000</td>\n",
       "      <td>101.000000</td>\n",
       "      <td>1.258000e+06</td>\n",
       "      <td>12762.236560</td>\n",
       "      <td>211.640210</td>\n",
       "      <td>100.400000</td>\n",
       "      <td>1.260787e+06</td>\n",
       "      <td>12798.071160</td>\n",
       "      <td>96.000000</td>\n",
       "      <td>1.492913e+06</td>\n",
       "      <td>13599.370898</td>\n",
       "      <td>1.502756e+06</td>\n",
       "      <td>14036.901102</td>\n",
       "      <td>79517.000000</td>\n",
       "    </tr>\n",
       "  </tbody>\n",
       "</table>\n",
       "</div>"
      ],
      "text/plain": [
       "                year     town_dummy       latitude      longitude  \\\n",
       "count  840918.000000  840918.000000  840918.000000  840918.000000   \n",
       "mean     2004.512196       3.892261       1.361102     103.839049   \n",
       "std         8.135802       1.403197       0.041576       0.073889   \n",
       "min      1990.000000       1.000000       1.266682     103.685206   \n",
       "25%      1998.000000       2.000000       1.333346     103.772844   \n",
       "50%      2003.000000       4.000000       1.354131     103.842792   \n",
       "75%      2010.000000       5.000000       1.380824     103.897752   \n",
       "max      2021.000000       6.000000       1.457052     103.988777   \n",
       "\n",
       "              storey       area_sqm    lease_start      lease_rem  \\\n",
       "count  840918.000000  840918.000000  840918.000000  840918.000000   \n",
       "mean        7.567124      95.608704    1987.313952      81.780300   \n",
       "std         4.657776      26.026266       9.637392       9.959341   \n",
       "min         2.000000      28.000000    1966.000000      45.000000   \n",
       "25%         5.000000      73.000000    1980.000000      75.000000   \n",
       "50%         8.000000      93.000000    1986.000000      83.000000   \n",
       "75%        11.000000     114.000000    1995.000000      90.000000   \n",
       "max        50.000000     307.000000    2019.000000     101.000000   \n",
       "\n",
       "       resale_price      price_psm  price_psm_yearly       Core CPI  \\\n",
       "count  8.409180e+05  840918.000000     840918.000000  840918.000000   \n",
       "mean   2.968002e+05    3062.232943         38.780054      80.222704   \n",
       "std    1.509764e+05    1299.310863         19.256850      10.545238   \n",
       "min    5.000000e+03     161.290323          1.920123      61.478000   \n",
       "25%    1.830000e+05    2238.095238         26.435374      72.429000   \n",
       "50%    2.780000e+05    2797.619048         33.491765      75.954000   \n",
       "75%    3.870000e+05    3818.181818         48.392057      87.810000   \n",
       "max    1.258000e+06   12762.236560        211.640210     100.400000   \n",
       "\n",
       "       price cpi_adj  price_psm cpi_adj  bala lease pct  \\\n",
       "count   8.409180e+05      840918.000000   840918.000000   \n",
       "mean    3.607913e+05        3718.709303       90.998891   \n",
       "std     1.616870e+05        1241.736956        4.407041   \n",
       "min     8.074414e+03         260.464961       71.800000   \n",
       "25%     2.432166e+05        2975.961115       88.500000   \n",
       "50%     3.442474e+05        3610.835922       92.200000   \n",
       "75%     4.564779e+05        4399.740077       94.600000   \n",
       "max     1.260787e+06       12798.071160       96.000000   \n",
       "\n",
       "       price lease_adj implied  price_psm lease_adj implied  \\\n",
       "count             8.409180e+05                840918.000000   \n",
       "mean              3.142900e+05                  3262.187707   \n",
       "std               1.614892e+05                  1453.964069   \n",
       "min               5.183585e+03                   167.212429   \n",
       "25%               1.932075e+05                  2331.203240   \n",
       "50%               2.931064e+05                  2917.886452   \n",
       "75%               4.103072e+05                  4092.702169   \n",
       "max               1.492913e+06                 13599.370898   \n",
       "\n",
       "       price cpi_lease_adj implied  price_psm cpi_lease_adj implied  \\\n",
       "count                 8.409180e+05                    840918.000000   \n",
       "mean                  3.808532e+05                      3948.732221   \n",
       "std                   1.696361e+05                      1381.597677   \n",
       "min                   8.370883e+03                       270.028469   \n",
       "25%                   2.583465e+05                      3106.848880   \n",
       "50%                   3.652154e+05                      3793.907869   \n",
       "75%                   4.799981e+05                      4687.830912   \n",
       "max                   1.502756e+06                     14036.901102   \n",
       "\n",
       "            year_gni  \n",
       "count  840918.000000  \n",
       "mean    49518.956025  \n",
       "std     15844.785659  \n",
       "min     22901.000000  \n",
       "25%     37363.000000  \n",
       "50%     40870.000000  \n",
       "75%     63712.000000  \n",
       "max     79517.000000  "
      ]
     },
     "execution_count": 9,
     "metadata": {},
     "output_type": "execute_result"
    }
   ],
   "source": [
    "data.describe()"
   ]
  },
  {
   "cell_type": "code",
   "execution_count": 10,
   "id": "ac2db2a3",
   "metadata": {
    "execution": {
     "iopub.execute_input": "2022-11-06T10:33:19.452927Z",
     "iopub.status.busy": "2022-11-06T10:33:19.452504Z",
     "iopub.status.idle": "2022-11-06T10:33:22.557006Z",
     "shell.execute_reply": "2022-11-06T10:33:22.555899Z"
    },
    "papermill": {
     "duration": 3.117168,
     "end_time": "2022-11-06T10:33:22.559494",
     "exception": false,
     "start_time": "2022-11-06T10:33:19.442326",
     "status": "completed"
    },
    "tags": []
   },
   "outputs": [
    {
     "data": {
      "image/png": "[encoded data removed]",
      "text/plain": [
       "<Figure size 432x288 with 1 Axes>"
      ]
     },
     "metadata": {
      "needs_background": "light"
     },
     "output_type": "display_data"
    }
   ],
   "source": [
    "sns.scatterplot(x='price cpi_adj', y='resale_price', data=data,);"
   ]
  },
  {
   "cell_type": "code",
   "execution_count": 11,
   "id": "39e09804",
   "metadata": {
    "execution": {
     "iopub.execute_input": "2022-11-06T10:33:22.581327Z",
     "iopub.status.busy": "2022-11-06T10:33:22.580941Z",
     "iopub.status.idle": "2022-11-06T10:33:25.675401Z",
     "shell.execute_reply": "2022-11-06T10:33:25.674266Z"
    },
    "papermill": {
     "duration": 3.107663,
     "end_time": "2022-11-06T10:33:25.677723",
     "exception": false,
     "start_time": "2022-11-06T10:33:22.570060",
     "status": "completed"
    },
    "tags": []
   },
   "outputs": [
    {
     "data": {
      "image/png": "[encoded data removed]",
      "text/plain": [
       "<Figure size 432x288 with 1 Axes>"
      ]
     },
     "metadata": {
      "needs_background": "light"
     },
     "output_type": "display_data"
    }
   ],
   "source": [
    "sns.scatterplot(x='price cpi_lease_adj implied', y='price cpi_adj', data=data);"
   ]
  },
  {
   "cell_type": "code",
   "execution_count": 12,
   "id": "c3db1788",
   "metadata": {
    "execution": {
     "iopub.execute_input": "2022-11-06T10:33:25.701331Z",
     "iopub.status.busy": "2022-11-06T10:33:25.700216Z",
     "iopub.status.idle": "2022-11-06T10:33:28.785000Z",
     "shell.execute_reply": "2022-11-06T10:33:28.783714Z"
    },
    "papermill": {
     "duration": 3.099154,
     "end_time": "2022-11-06T10:33:28.787512",
     "exception": false,
     "start_time": "2022-11-06T10:33:25.688358",
     "status": "completed"
    },
    "tags": []
   },
   "outputs": [
    {
     "data": {
      "image/png": "[encoded data removed]",
      "text/plain": [
       "<Figure size 432x288 with 1 Axes>"
      ]
     },
     "metadata": {
      "needs_background": "light"
     },
     "output_type": "display_data"
    }
   ],
   "source": [
    "sns.scatterplot(x='price cpi_lease_adj implied', y='resale_price', data=data);"
   ]
  },
  {
   "cell_type": "code",
   "execution_count": 13,
   "id": "f4023a8e",
   "metadata": {
    "execution": {
     "iopub.execute_input": "2022-11-06T10:33:28.812192Z",
     "iopub.status.busy": "2022-11-06T10:33:28.811770Z",
     "iopub.status.idle": "2022-11-06T10:33:28.820182Z",
     "shell.execute_reply": "2022-11-06T10:33:28.819092Z"
    },
    "papermill": {
     "duration": 0.023196,
     "end_time": "2022-11-06T10:33:28.822372",
     "exception": false,
     "start_time": "2022-11-06T10:33:28.799176",
     "status": "completed"
    },
    "tags": []
   },
   "outputs": [],
   "source": [
    "X = data[['price cpi_adj', 'resale_price']]\n",
    "y = data['price cpi_lease_adj implied']"
   ]
  },
  {
   "cell_type": "code",
   "execution_count": 14,
   "id": "4a5cee23",
   "metadata": {
    "execution": {
     "iopub.execute_input": "2022-11-06T10:33:28.847328Z",
     "iopub.status.busy": "2022-11-06T10:33:28.846396Z",
     "iopub.status.idle": "2022-11-06T10:33:29.034170Z",
     "shell.execute_reply": "2022-11-06T10:33:29.033207Z"
    },
    "papermill": {
     "duration": 0.203035,
     "end_time": "2022-11-06T10:33:29.036831",
     "exception": false,
     "start_time": "2022-11-06T10:33:28.833796",
     "status": "completed"
    },
    "tags": []
   },
   "outputs": [],
   "source": [
    "from sklearn.model_selection import train_test_split"
   ]
  },
  {
   "cell_type": "code",
   "execution_count": 15,
   "id": "0cc672c5",
   "metadata": {
    "execution": {
     "iopub.execute_input": "2022-11-06T10:33:29.061604Z",
     "iopub.status.busy": "2022-11-06T10:33:29.061229Z",
     "iopub.status.idle": "2022-11-06T10:33:29.152951Z",
     "shell.execute_reply": "2022-11-06T10:33:29.151894Z"
    },
    "papermill": {
     "duration": 0.107029,
     "end_time": "2022-11-06T10:33:29.155563",
     "exception": false,
     "start_time": "2022-11-06T10:33:29.048534",
     "status": "completed"
    },
    "tags": []
   },
   "outputs": [],
   "source": [
    "X_train, X_test, y_train, y_test = train_test_split(X, y, test_size=0.3)"
   ]
  },
  {
   "cell_type": "code",
   "execution_count": 16,
   "id": "64da0431",
   "metadata": {
    "execution": {
     "iopub.execute_input": "2022-11-06T10:33:29.181120Z",
     "iopub.status.busy": "2022-11-06T10:33:29.180710Z",
     "iopub.status.idle": "2022-11-06T10:33:29.187441Z",
     "shell.execute_reply": "2022-11-06T10:33:29.186450Z"
    },
    "papermill": {
     "duration": 0.022051,
     "end_time": "2022-11-06T10:33:29.189640",
     "exception": false,
     "start_time": "2022-11-06T10:33:29.167589",
     "status": "completed"
    },
    "tags": []
   },
   "outputs": [
    {
     "data": {
      "text/plain": [
       "((588642, 2), (252276, 2), (588642,), (252276,))"
      ]
     },
     "execution_count": 16,
     "metadata": {},
     "output_type": "execute_result"
    }
   ],
   "source": [
    "X_train.shape, X_test.shape, y_train.shape, y_test.shape"
   ]
  },
  {
   "cell_type": "markdown",
   "id": "f237b725",
   "metadata": {
    "papermill": {
     "duration": 0.01172,
     "end_time": "2022-11-06T10:33:29.212961",
     "exception": false,
     "start_time": "2022-11-06T10:33:29.201241",
     "status": "completed"
    },
    "tags": []
   },
   "source": [
    "Simple Linear Model"
   ]
  },
  {
   "cell_type": "code",
   "execution_count": 17,
   "id": "5247c8ba",
   "metadata": {
    "execution": {
     "iopub.execute_input": "2022-11-06T10:33:29.238366Z",
     "iopub.status.busy": "2022-11-06T10:33:29.237312Z",
     "iopub.status.idle": "2022-11-06T10:33:29.306885Z",
     "shell.execute_reply": "2022-11-06T10:33:29.305672Z"
    },
    "papermill": {
     "duration": 0.085142,
     "end_time": "2022-11-06T10:33:29.309849",
     "exception": false,
     "start_time": "2022-11-06T10:33:29.224707",
     "status": "completed"
    },
    "tags": []
   },
   "outputs": [],
   "source": [
    "from sklearn.linear_model import LinearRegression as LR"
   ]
  },
  {
   "cell_type": "code",
   "execution_count": 18,
   "id": "92f1730e",
   "metadata": {
    "execution": {
     "iopub.execute_input": "2022-11-06T10:33:29.335532Z",
     "iopub.status.busy": "2022-11-06T10:33:29.334224Z",
     "iopub.status.idle": "2022-11-06T10:33:29.384057Z",
     "shell.execute_reply": "2022-11-06T10:33:29.383208Z"
    },
    "papermill": {
     "duration": 0.064571,
     "end_time": "2022-11-06T10:33:29.386032",
     "exception": false,
     "start_time": "2022-11-06T10:33:29.321461",
     "status": "completed"
    },
    "tags": []
   },
   "outputs": [
    {
     "data": {
      "text/plain": [
       "(12741.491867632372, array([0.80152935, 0.26599215]))"
      ]
     },
     "execution_count": 18,
     "metadata": {},
     "output_type": "execute_result"
    }
   ],
   "source": [
    "lr1 = LR()\n",
    "lr1.fit(X_train, y_train)\n",
    "lr1.intercept_, lr1.coef_"
   ]
  },
  {
   "cell_type": "code",
   "execution_count": 19,
   "id": "e78712ef",
   "metadata": {
    "execution": {
     "iopub.execute_input": "2022-11-06T10:33:29.411079Z",
     "iopub.status.busy": "2022-11-06T10:33:29.410389Z",
     "iopub.status.idle": "2022-11-06T10:33:29.422315Z",
     "shell.execute_reply": "2022-11-06T10:33:29.420863Z"
    },
    "papermill": {
     "duration": 0.02911,
     "end_time": "2022-11-06T10:33:29.426601",
     "exception": false,
     "start_time": "2022-11-06T10:33:29.397491",
     "status": "completed"
    },
    "tags": []
   },
   "outputs": [],
   "source": [
    "y_pred1 = lr1.predict(X_test)"
   ]
  },
  {
   "cell_type": "code",
   "execution_count": 20,
   "id": "6976fedb",
   "metadata": {
    "execution": {
     "iopub.execute_input": "2022-11-06T10:33:29.491125Z",
     "iopub.status.busy": "2022-11-06T10:33:29.490473Z",
     "iopub.status.idle": "2022-11-06T10:33:30.681356Z",
     "shell.execute_reply": "2022-11-06T10:33:30.680214Z"
    },
    "papermill": {
     "duration": 1.22628,
     "end_time": "2022-11-06T10:33:30.683947",
     "exception": false,
     "start_time": "2022-11-06T10:33:29.457667",
     "status": "completed"
    },
    "tags": []
   },
   "outputs": [
    {
     "data": {
      "image/png": "[encoded data removed]",
      "text/plain": [
       "<Figure size 432x288 with 1 Axes>"
      ]
     },
     "metadata": {
      "needs_background": "light"
     },
     "output_type": "display_data"
    }
   ],
   "source": [
    "\n",
    "plt.scatter(y_test, y_pred1, alpha=0.3);\n",
    "\n",
    "plt.plot(np.linspace(0, 15, 500),\n",
    "         np.linspace(0, 15, 500), c='red')\n",
    "\n",
    "plt.xlabel('True');\n",
    "plt.ylabel('Estimated');"
   ]
  },
  {
   "cell_type": "code",
   "execution_count": null,
   "id": "1faa3a77",
   "metadata": {
    "papermill": {
     "duration": 0.011642,
     "end_time": "2022-11-06T10:33:30.707533",
     "exception": false,
     "start_time": "2022-11-06T10:33:30.695891",
     "status": "completed"
    },
    "tags": []
   },
   "outputs": [],
   "source": []
  },
  {
   "cell_type": "code",
   "execution_count": 21,
   "id": "da9f4265",
   "metadata": {
    "execution": {
     "iopub.execute_input": "2022-11-06T10:33:30.732719Z",
     "iopub.status.busy": "2022-11-06T10:33:30.732313Z",
     "iopub.status.idle": "2022-11-06T10:33:30.738853Z",
     "shell.execute_reply": "2022-11-06T10:33:30.737579Z"
    },
    "papermill": {
     "duration": 0.02202,
     "end_time": "2022-11-06T10:33:30.741182",
     "exception": false,
     "start_time": "2022-11-06T10:33:30.719162",
     "status": "completed"
    },
    "tags": []
   },
   "outputs": [],
   "source": [
    "from sklearn.preprocessing import PolynomialFeatures\n",
    "from sklearn.pipeline import Pipeline"
   ]
  },
  {
   "cell_type": "code",
   "execution_count": 22,
   "id": "cd51cb7b",
   "metadata": {
    "execution": {
     "iopub.execute_input": "2022-11-06T10:33:30.768458Z",
     "iopub.status.busy": "2022-11-06T10:33:30.768042Z",
     "iopub.status.idle": "2022-11-06T10:33:30.920508Z",
     "shell.execute_reply": "2022-11-06T10:33:30.919438Z"
    },
    "papermill": {
     "duration": 0.169201,
     "end_time": "2022-11-06T10:33:30.923039",
     "exception": false,
     "start_time": "2022-11-06T10:33:30.753838",
     "status": "completed"
    },
    "tags": []
   },
   "outputs": [
    {
     "data": {
      "text/plain": [
       "Pipeline(steps=[('feature engineering', PolynomialFeatures()),\n",
       "                ('linear regression', LinearRegression())])"
      ]
     },
     "execution_count": 22,
     "metadata": {},
     "output_type": "execute_result"
    }
   ],
   "source": [
    "steps = [('feature engineering', PolynomialFeatures(degree=2)),\n",
    "         ('linear regression', LR())]\n",
    "\n",
    "lr2 = Pipeline(steps=steps)\n",
    "lr2.fit(X_train, y_train)"
   ]
  },
  {
   "cell_type": "code",
   "execution_count": 23,
   "id": "223cacba",
   "metadata": {
    "execution": {
     "iopub.execute_input": "2022-11-06T10:33:30.950509Z",
     "iopub.status.busy": "2022-11-06T10:33:30.950069Z",
     "iopub.status.idle": "2022-11-06T10:33:32.238494Z",
     "shell.execute_reply": "2022-11-06T10:33:32.237339Z"
    },
    "papermill": {
     "duration": 1.305548,
     "end_time": "2022-11-06T10:33:32.241303",
     "exception": false,
     "start_time": "2022-11-06T10:33:30.935755",
     "status": "completed"
    },
    "tags": []
   },
   "outputs": [
    {
     "data": {
      "image/png": "[encoded data removed]",
      "text/plain": [
       "<Figure size 1152x432 with 1 Axes>"
      ]
     },
     "metadata": {
      "needs_background": "light"
     },
     "output_type": "display_data"
    }
   ],
   "source": [
    "plt.figure(figsize=(16,6))\n",
    "y_pred2 = lr2.predict(X_test)\n",
    "plt.scatter(y_test, y_pred2, alpha=0.3);\n",
    "\n",
    "plt.plot(np.linspace(-1, 12, 25000),\n",
    "         np.linspace(-1, 12, 25000), c='red')\n",
    "\n",
    "plt.xlabel('True');\n",
    "plt.ylabel('Estimated');"
   ]
  },
  {
   "cell_type": "code",
   "execution_count": 24,
   "id": "3cec2b8d",
   "metadata": {
    "execution": {
     "iopub.execute_input": "2022-11-06T10:33:32.270337Z",
     "iopub.status.busy": "2022-11-06T10:33:32.269936Z",
     "iopub.status.idle": "2022-11-06T10:33:32.274860Z",
     "shell.execute_reply": "2022-11-06T10:33:32.273827Z"
    },
    "papermill": {
     "duration": 0.02239,
     "end_time": "2022-11-06T10:33:32.277236",
     "exception": false,
     "start_time": "2022-11-06T10:33:32.254846",
     "status": "completed"
    },
    "tags": []
   },
   "outputs": [],
   "source": [
    "from sklearn.linear_model import Ridge"
   ]
  },
  {
   "cell_type": "code",
   "execution_count": 25,
   "id": "b912144c",
   "metadata": {
    "execution": {
     "iopub.execute_input": "2022-11-06T10:33:32.304121Z",
     "iopub.status.busy": "2022-11-06T10:33:32.303726Z",
     "iopub.status.idle": "2022-11-06T10:33:32.327076Z",
     "shell.execute_reply": "2022-11-06T10:33:32.326007Z"
    },
    "papermill": {
     "duration": 0.03889,
     "end_time": "2022-11-06T10:33:32.329279",
     "exception": false,
     "start_time": "2022-11-06T10:33:32.290389",
     "status": "completed"
    },
    "tags": []
   },
   "outputs": [
    {
     "data": {
      "text/plain": [
       "Ridge(alpha=100000)"
      ]
     },
     "execution_count": 25,
     "metadata": {},
     "output_type": "execute_result"
    }
   ],
   "source": [
    "lr3 = Ridge(alpha=100000)\n",
    "lr3.fit(X_train, y_train)"
   ]
  },
  {
   "cell_type": "code",
   "execution_count": 26,
   "id": "cd6ab4f3",
   "metadata": {
    "execution": {
     "iopub.execute_input": "2022-11-06T10:33:32.356925Z",
     "iopub.status.busy": "2022-11-06T10:33:32.355813Z",
     "iopub.status.idle": "2022-11-06T10:33:33.594847Z",
     "shell.execute_reply": "2022-11-06T10:33:33.594052Z"
    },
    "papermill": {
     "duration": 1.254914,
     "end_time": "2022-11-06T10:33:33.596869",
     "exception": false,
     "start_time": "2022-11-06T10:33:32.341955",
     "status": "completed"
    },
    "tags": []
   },
   "outputs": [
    {
     "data": {
      "image/png": "[encoded data removed]",
      "text/plain": [
       "<Figure size 432x288 with 1 Axes>"
      ]
     },
     "metadata": {
      "needs_background": "light"
     },
     "output_type": "display_data"
    }
   ],
   "source": [
    "y_pred3 = lr3.predict(X_test)\n",
    "plt.scatter(y_test, y_pred3, alpha=0.3);\n",
    "\n",
    "plt.plot(np.linspace(-1, 12, 25000),\n",
    "         np.linspace(-1, 12, 25000), c='red')\n",
    "plt.xlabel('True');\n",
    "plt.ylabel('Estimated');"
   ]
  },
  {
   "cell_type": "code",
   "execution_count": 27,
   "id": "58beef35",
   "metadata": {
    "execution": {
     "iopub.execute_input": "2022-11-06T10:33:33.625976Z",
     "iopub.status.busy": "2022-11-06T10:33:33.624825Z",
     "iopub.status.idle": "2022-11-06T10:33:33.629890Z",
     "shell.execute_reply": "2022-11-06T10:33:33.629006Z"
    },
    "papermill": {
     "duration": 0.021586,
     "end_time": "2022-11-06T10:33:33.631958",
     "exception": false,
     "start_time": "2022-11-06T10:33:33.610372",
     "status": "completed"
    },
    "tags": []
   },
   "outputs": [],
   "source": [
    "from sklearn.metrics import max_error, r2_score\n",
    "from sklearn.metrics import mean_squared_error, mean_absolute_error"
   ]
  },
  {
   "cell_type": "code",
   "execution_count": 28,
   "id": "49d0b99b",
   "metadata": {
    "execution": {
     "iopub.execute_input": "2022-11-06T10:33:33.660777Z",
     "iopub.status.busy": "2022-11-06T10:33:33.659575Z",
     "iopub.status.idle": "2022-11-06T10:33:33.671734Z",
     "shell.execute_reply": "2022-11-06T10:33:33.670532Z"
    },
    "papermill": {
     "duration": 0.029174,
     "end_time": "2022-11-06T10:33:33.674339",
     "exception": false,
     "start_time": "2022-11-06T10:33:33.645165",
     "status": "completed"
    },
    "tags": []
   },
   "outputs": [
    {
     "name": "stdout",
     "output_type": "stream",
     "text": [
      "Model 1: 217750.62168814428\n",
      "Model 2: 260797.60968782566\n",
      "Model 3: 217750.62168557302\n"
     ]
    }
   ],
   "source": [
    "print('Model 1:', max_error(y_true=y_test, y_pred=y_pred1))\n",
    "print('Model 2:', max_error(y_true=y_test, y_pred=y_pred2))\n",
    "print('Model 3:', max_error(y_true=y_test, y_pred=y_pred3))"
   ]
  },
  {
   "cell_type": "code",
   "execution_count": 29,
   "id": "5280ea79",
   "metadata": {
    "execution": {
     "iopub.execute_input": "2022-11-06T10:33:33.702992Z",
     "iopub.status.busy": "2022-11-06T10:33:33.702585Z",
     "iopub.status.idle": "2022-11-06T10:33:33.714357Z",
     "shell.execute_reply": "2022-11-06T10:33:33.713015Z"
    },
    "papermill": {
     "duration": 0.028664,
     "end_time": "2022-11-06T10:33:33.716483",
     "exception": false,
     "start_time": "2022-11-06T10:33:33.687819",
     "status": "completed"
    },
    "tags": []
   },
   "outputs": [
    {
     "name": "stdout",
     "output_type": "stream",
     "text": [
      "Model 1: 12786.687796791553\n",
      "Model 2: 12411.089519537678\n",
      "Model 3: 12786.687796767608\n"
     ]
    }
   ],
   "source": [
    "print('Model 1:', mean_absolute_error(y_true=y_test, y_pred=y_pred1))\n",
    "print('Model 2:', mean_absolute_error(y_true=y_test, y_pred=y_pred2))\n",
    "print('Model 3:', mean_absolute_error(y_true=y_test, y_pred=y_pred3))"
   ]
  },
  {
   "cell_type": "code",
   "execution_count": 30,
   "id": "ec7d034a",
   "metadata": {
    "execution": {
     "iopub.execute_input": "2022-11-06T10:33:33.745680Z",
     "iopub.status.busy": "2022-11-06T10:33:33.744570Z",
     "iopub.status.idle": "2022-11-06T10:33:33.756224Z",
     "shell.execute_reply": "2022-11-06T10:33:33.755003Z"
    },
    "papermill": {
     "duration": 0.028901,
     "end_time": "2022-11-06T10:33:33.758779",
     "exception": false,
     "start_time": "2022-11-06T10:33:33.729878",
     "status": "completed"
    },
    "tags": []
   },
   "outputs": [
    {
     "name": "stdout",
     "output_type": "stream",
     "text": [
      "Model 1: 343319805.01725644\n",
      "Model 2: 335741251.3127674\n",
      "Model 3: 343319805.0172658\n"
     ]
    }
   ],
   "source": [
    "print('Model 1:', mean_squared_error(y_true=y_test, y_pred=y_pred1))\n",
    "print('Model 2:', mean_squared_error(y_true=y_test, y_pred=y_pred2))\n",
    "print('Model 3:', mean_squared_error(y_true=y_test, y_pred=y_pred3))"
   ]
  },
  {
   "cell_type": "code",
   "execution_count": 31,
   "id": "a21c23d4",
   "metadata": {
    "execution": {
     "iopub.execute_input": "2022-11-06T10:33:33.787770Z",
     "iopub.status.busy": "2022-11-06T10:33:33.787409Z",
     "iopub.status.idle": "2022-11-06T10:33:33.800722Z",
     "shell.execute_reply": "2022-11-06T10:33:33.799216Z"
    },
    "papermill": {
     "duration": 0.030473,
     "end_time": "2022-11-06T10:33:33.803244",
     "exception": false,
     "start_time": "2022-11-06T10:33:33.772771",
     "status": "completed"
    },
    "tags": []
   },
   "outputs": [
    {
     "name": "stdout",
     "output_type": "stream",
     "text": [
      "Model 1: 0.9880736471542598\n",
      "Model 2: 0.9883369133690814\n",
      "Model 3: 0.9880736471542595\n"
     ]
    }
   ],
   "source": [
    "print('Model 1:', r2_score(y_true=y_test, y_pred=y_pred1))\n",
    "print('Model 2:', r2_score(y_true=y_test, y_pred=y_pred2))\n",
    "print('Model 3:', r2_score(y_true=y_test, y_pred=y_pred3))"
   ]
  }
 ],
 "metadata": {
  "kernelspec": {
   "display_name": "Python 3",
   "language": "python",
   "name": "python3"
  },
  "language_info": {
   "codemirror_mode": {
    "name": "ipython",
    "version": 3
   },
   "file_extension": ".py",
   "mimetype": "text/x-python",
   "name": "python",
   "nbconvert_exporter": "python",
   "pygments_lexer": "ipython3",
   "version": "3.7.12"
  },
  "papermill": {
   "default_parameters": {},
   "duration": 33.543813,
   "end_time": "2022-11-06T10:33:34.639401",
   "environment_variables": {},
   "exception": null,
   "input_path": "__notebook__.ipynb",
   "output_path": "__notebook__.ipynb",
   "parameters": {},
   "start_time": "2022-11-06T10:33:01.095588",
   "version": "2.3.4"
  }
 },
 "nbformat": 4,
 "nbformat_minor": 5
}
