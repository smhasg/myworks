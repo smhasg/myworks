{
 "cells": [
  {
   "cell_type": "code",
   "execution_count": 3,
   "metadata": {},
   "outputs": [],
   "source": [
    "#!pip  install scikit-image "
   ]
  },
  {
   "cell_type": "code",
   "execution_count": 1,
   "metadata": {},
   "outputs": [],
   "source": [
    "import os \n",
    "import numpy as np \n",
    "import pandas as pd \n",
    "import matplotlib.pyplot as plt \n",
    "import seaborn as sns \n",
    "\n",
    "from skimage.io import imread \n",
    "from skimage.color import rgb2gray "
   ]
  },
  {
   "cell_type": "code",
   "execution_count": 76,
   "metadata": {},
   "outputs": [
    {
     "data": {
      "text/plain": [
       "(-0.5, 63.5, 63.5, -0.5)"
      ]
     },
     "execution_count": 76,
     "metadata": {},
     "output_type": "execute_result"
    },
    {
     "data": {
      "image/png": "[encoded data removed]",
      "text/plain": [
       "<Figure size 432x288 with 1 Axes>"
      ]
     },
     "metadata": {
      "needs_background": "light"
     },
     "output_type": "display_data"
    }
   ],
   "source": [
    "img1 = imread(\"../DATA/smile/smile/James_McPherson_0001.jpg\")\n",
    "plt.imshow(rgb2gray(img1),cmap=\"gray\");\n",
    "plt.axis(\"off\")"
   ]
  },
  {
   "cell_type": "code",
   "execution_count": 77,
   "metadata": {},
   "outputs": [
    {
     "data": {
      "text/plain": [
       "(-0.5, 63.5, 63.5, -0.5)"
      ]
     },
     "execution_count": 77,
     "metadata": {},
     "output_type": "execute_result"
    },
    {
     "data": {
      "image/png": "[encoded data removed]",
      "text/plain": [
       "<Figure size 432x288 with 1 Axes>"
      ]
     },
     "metadata": {
      "needs_background": "light"
     },
     "output_type": "display_data"
    }
   ],
   "source": [
    "img2 = imread(\"../DATA/smile/non_smile/Franklin_Brown_0001.jpg\")\n",
    "plt.imshow(rgb2gray(img2),cmap=\"gray\");\n",
    "plt.axis(\"off\")"
   ]
  },
  {
   "cell_type": "code",
   "execution_count": 6,
   "metadata": {},
   "outputs": [
    {
     "name": "stdout",
     "output_type": "stream",
     "text": [
      "There are 600 smile and 603 non-smile files \n"
     ]
    }
   ],
   "source": [
    "sm_path = \"../DATA/smile/smile/\"\n",
    "ns_path = \"../DATA/smile/non_smile/\"\n",
    "sm_file_list = os.listdir(sm_path) \n",
    "ns_file_list = os.listdir(ns_path)\n",
    "\n",
    "print (\"There are {} smile and {} non-smile files \".format(len(sm_file_list),len(ns_file_list)))"
   ]
  },
  {
   "cell_type": "code",
   "execution_count": 10,
   "metadata": {},
   "outputs": [
    {
     "data": {
      "text/plain": [
       "(64, 64, 3)"
      ]
     },
     "execution_count": 10,
     "metadata": {},
     "output_type": "execute_result"
    }
   ],
   "source": [
    "img1.shape "
   ]
  },
  {
   "cell_type": "code",
   "execution_count": 9,
   "metadata": {},
   "outputs": [
    {
     "data": {
      "text/plain": [
       "(64, 64)"
      ]
     },
     "execution_count": 9,
     "metadata": {},
     "output_type": "execute_result"
    }
   ],
   "source": [
    "rgb2gray(img1).shape ## 3 ro hazf kard"
   ]
  },
  {
   "cell_type": "code",
   "execution_count": 29,
   "metadata": {},
   "outputs": [],
   "source": [
    "# loading smile :\n",
    "\n",
    "X_sm = np.empty((len(sm_file_list),(64*64)))\n",
    "\n",
    "for i in range(len(sm_file_list)) :\n",
    "     img = rgb2gray(imread(os.path.join(sm_path,sm_file_list[i]))) \n",
    "     X_sm[i,:]= img.flatten()\n",
    "     \n",
    "y_sm = [\"smile\"]*len(sm_file_list)\n",
    "# loading non-smile : \n",
    "\n",
    "X_ns = np.empty((len(ns_file_list),(64*64)))\n",
    "\n",
    "for i in range(len(ns_file_list)) :\n",
    "     img = rgb2gray(imread(os.path.join(ns_path,ns_file_list[i]))) \n",
    "     X_ns[i,:]= img.flatten()\n",
    "     \n",
    "y_ns = [\"non-smile\"]*len(ns_file_list)"
   ]
  },
  {
   "cell_type": "code",
   "execution_count": null,
   "metadata": {},
   "outputs": [
    {
     "data": {
      "text/plain": [
       "((603, 4096),\n",
       " ['non-smile',\n",
       "  'non-smile',\n",
       "  'non-smile',\n",
       "  'non-smile',\n",
       "  'non-smile',\n",
       "  'non-smile',\n",
       "  'non-smile',\n",
       "  'non-smile',\n",
       "  'non-smile',\n",
       "  'non-smile',\n",
       "  'non-smile',\n",
       "  'non-smile',\n",
       "  'non-smile',\n",
       "  'non-smile',\n",
       "  'non-smile',\n",
       "  'non-smile',\n",
       "  'non-smile',\n",
       "  'non-smile',\n",
       "  'non-smile',\n",
       "  'non-smile',\n",
       "  'non-smile',\n",
       "  'non-smile',\n",
       "  'non-smile',\n",
       "  'non-smile',\n",
       "  'non-smile',\n",
       "  'non-smile',\n",
       "  'non-smile',\n",
       "  'non-smile',\n",
       "  'non-smile',\n",
       "  'non-smile',\n",
       "  'non-smile',\n",
       "  'non-smile',\n",
       "  'non-smile',\n",
       "  'non-smile',\n",
       "  'non-smile',\n",
       "  'non-smile',\n",
       "  'non-smile',\n",
       "  'non-smile',\n",
       "  'non-smile',\n",
       "  'non-smile',\n",
       "  'non-smile',\n",
       "  'non-smile',\n",
       "  'non-smile',\n",
       "  'non-smile',\n",
       "  'non-smile',\n",
       "  'non-smile',\n",
       "  'non-smile',\n",
       "  'non-smile',\n",
       "  'non-smile',\n",
       "  'non-smile',\n",
       "  'non-smile',\n",
       "  'non-smile',\n",
       "  'non-smile',\n",
       "  'non-smile',\n",
       "  'non-smile',\n",
       "  'non-smile',\n",
       "  'non-smile',\n",
       "  'non-smile',\n",
       "  'non-smile',\n",
       "  'non-smile',\n",
       "  'non-smile',\n",
       "  'non-smile',\n",
       "  'non-smile',\n",
       "  'non-smile',\n",
       "  'non-smile',\n",
       "  'non-smile',\n",
       "  'non-smile',\n",
       "  'non-smile',\n",
       "  'non-smile',\n",
       "  'non-smile',\n",
       "  'non-smile',\n",
       "  'non-smile',\n",
       "  'non-smile',\n",
       "  'non-smile',\n",
       "  'non-smile',\n",
       "  'non-smile',\n",
       "  'non-smile',\n",
       "  'non-smile',\n",
       "  'non-smile',\n",
       "  'non-smile',\n",
       "  'non-smile',\n",
       "  'non-smile',\n",
       "  'non-smile',\n",
       "  'non-smile',\n",
       "  'non-smile',\n",
       "  'non-smile',\n",
       "  'non-smile',\n",
       "  'non-smile',\n",
       "  'non-smile',\n",
       "  'non-smile',\n",
       "  'non-smile',\n",
       "  'non-smile',\n",
       "  'non-smile',\n",
       "  'non-smile',\n",
       "  'non-smile',\n",
       "  'non-smile',\n",
       "  'non-smile',\n",
       "  'non-smile',\n",
       "  'non-smile',\n",
       "  'non-smile',\n",
       "  'non-smile',\n",
       "  'non-smile',\n",
       "  'non-smile',\n",
       "  'non-smile',\n",
       "  'non-smile',\n",
       "  'non-smile',\n",
       "  'non-smile',\n",
       "  'non-smile',\n",
       "  'non-smile',\n",
       "  'non-smile',\n",
       "  'non-smile',\n",
       "  'non-smile',\n",
       "  'non-smile',\n",
       "  'non-smile',\n",
       "  'non-smile',\n",
       "  'non-smile',\n",
       "  'non-smile',\n",
       "  'non-smile',\n",
       "  'non-smile',\n",
       "  'non-smile',\n",
       "  'non-smile',\n",
       "  'non-smile',\n",
       "  'non-smile',\n",
       "  'non-smile',\n",
       "  'non-smile',\n",
       "  'non-smile',\n",
       "  'non-smile',\n",
       "  'non-smile',\n",
       "  'non-smile',\n",
       "  'non-smile',\n",
       "  'non-smile',\n",
       "  'non-smile',\n",
       "  'non-smile',\n",
       "  'non-smile',\n",
       "  'non-smile',\n",
       "  'non-smile',\n",
       "  'non-smile',\n",
       "  'non-smile',\n",
       "  'non-smile',\n",
       "  'non-smile',\n",
       "  'non-smile',\n",
       "  'non-smile',\n",
       "  'non-smile',\n",
       "  'non-smile',\n",
       "  'non-smile',\n",
       "  'non-smile',\n",
       "  'non-smile',\n",
       "  'non-smile',\n",
       "  'non-smile',\n",
       "  'non-smile',\n",
       "  'non-smile',\n",
       "  'non-smile',\n",
       "  'non-smile',\n",
       "  'non-smile',\n",
       "  'non-smile',\n",
       "  'non-smile',\n",
       "  'non-smile',\n",
       "  'non-smile',\n",
       "  'non-smile',\n",
       "  'non-smile',\n",
       "  'non-smile',\n",
       "  'non-smile',\n",
       "  'non-smile',\n",
       "  'non-smile',\n",
       "  'non-smile',\n",
       "  'non-smile',\n",
       "  'non-smile',\n",
       "  'non-smile',\n",
       "  'non-smile',\n",
       "  'non-smile',\n",
       "  'non-smile',\n",
       "  'non-smile',\n",
       "  'non-smile',\n",
       "  'non-smile',\n",
       "  'non-smile',\n",
       "  'non-smile',\n",
       "  'non-smile',\n",
       "  'non-smile',\n",
       "  'non-smile',\n",
       "  'non-smile',\n",
       "  'non-smile',\n",
       "  'non-smile',\n",
       "  'non-smile',\n",
       "  'non-smile',\n",
       "  'non-smile',\n",
       "  'non-smile',\n",
       "  'non-smile',\n",
       "  'non-smile',\n",
       "  'non-smile',\n",
       "  'non-smile',\n",
       "  'non-smile',\n",
       "  'non-smile',\n",
       "  'non-smile',\n",
       "  'non-smile',\n",
       "  'non-smile',\n",
       "  'non-smile',\n",
       "  'non-smile',\n",
       "  'non-smile',\n",
       "  'non-smile',\n",
       "  'non-smile',\n",
       "  'non-smile',\n",
       "  'non-smile',\n",
       "  'non-smile',\n",
       "  'non-smile',\n",
       "  'non-smile',\n",
       "  'non-smile',\n",
       "  'non-smile',\n",
       "  'non-smile',\n",
       "  'non-smile',\n",
       "  'non-smile',\n",
       "  'non-smile',\n",
       "  'non-smile',\n",
       "  'non-smile',\n",
       "  'non-smile',\n",
       "  'non-smile',\n",
       "  'non-smile',\n",
       "  'non-smile',\n",
       "  'non-smile',\n",
       "  'non-smile',\n",
       "  'non-smile',\n",
       "  'non-smile',\n",
       "  'non-smile',\n",
       "  'non-smile',\n",
       "  'non-smile',\n",
       "  'non-smile',\n",
       "  'non-smile',\n",
       "  'non-smile',\n",
       "  'non-smile',\n",
       "  'non-smile',\n",
       "  'non-smile',\n",
       "  'non-smile',\n",
       "  'non-smile',\n",
       "  'non-smile',\n",
       "  'non-smile',\n",
       "  'non-smile',\n",
       "  'non-smile',\n",
       "  'non-smile',\n",
       "  'non-smile',\n",
       "  'non-smile',\n",
       "  'non-smile',\n",
       "  'non-smile',\n",
       "  'non-smile',\n",
       "  'non-smile',\n",
       "  'non-smile',\n",
       "  'non-smile',\n",
       "  'non-smile',\n",
       "  'non-smile',\n",
       "  'non-smile',\n",
       "  'non-smile',\n",
       "  'non-smile',\n",
       "  'non-smile',\n",
       "  'non-smile',\n",
       "  'non-smile',\n",
       "  'non-smile',\n",
       "  'non-smile',\n",
       "  'non-smile',\n",
       "  'non-smile',\n",
       "  'non-smile',\n",
       "  'non-smile',\n",
       "  'non-smile',\n",
       "  'non-smile',\n",
       "  'non-smile',\n",
       "  'non-smile',\n",
       "  'non-smile',\n",
       "  'non-smile',\n",
       "  'non-smile',\n",
       "  'non-smile',\n",
       "  'non-smile',\n",
       "  'non-smile',\n",
       "  'non-smile',\n",
       "  'non-smile',\n",
       "  'non-smile',\n",
       "  'non-smile',\n",
       "  'non-smile',\n",
       "  'non-smile',\n",
       "  'non-smile',\n",
       "  'non-smile',\n",
       "  'non-smile',\n",
       "  'non-smile',\n",
       "  'non-smile',\n",
       "  'non-smile',\n",
       "  'non-smile',\n",
       "  'non-smile',\n",
       "  'non-smile',\n",
       "  'non-smile',\n",
       "  'non-smile',\n",
       "  'non-smile',\n",
       "  'non-smile',\n",
       "  'non-smile',\n",
       "  'non-smile',\n",
       "  'non-smile',\n",
       "  'non-smile',\n",
       "  'non-smile',\n",
       "  'non-smile',\n",
       "  'non-smile',\n",
       "  'non-smile',\n",
       "  'non-smile',\n",
       "  'non-smile',\n",
       "  'non-smile',\n",
       "  'non-smile',\n",
       "  'non-smile',\n",
       "  'non-smile',\n",
       "  'non-smile',\n",
       "  'non-smile',\n",
       "  'non-smile',\n",
       "  'non-smile',\n",
       "  'non-smile',\n",
       "  'non-smile',\n",
       "  'non-smile',\n",
       "  'non-smile',\n",
       "  'non-smile',\n",
       "  'non-smile',\n",
       "  'non-smile',\n",
       "  'non-smile',\n",
       "  'non-smile',\n",
       "  'non-smile',\n",
       "  'non-smile',\n",
       "  'non-smile',\n",
       "  'non-smile',\n",
       "  'non-smile',\n",
       "  'non-smile',\n",
       "  'non-smile',\n",
       "  'non-smile',\n",
       "  'non-smile',\n",
       "  'non-smile',\n",
       "  'non-smile',\n",
       "  'non-smile',\n",
       "  'non-smile',\n",
       "  'non-smile',\n",
       "  'non-smile',\n",
       "  'non-smile',\n",
       "  'non-smile',\n",
       "  'non-smile',\n",
       "  'non-smile',\n",
       "  'non-smile',\n",
       "  'non-smile',\n",
       "  'non-smile',\n",
       "  'non-smile',\n",
       "  'non-smile',\n",
       "  'non-smile',\n",
       "  'non-smile',\n",
       "  'non-smile',\n",
       "  'non-smile',\n",
       "  'non-smile',\n",
       "  'non-smile',\n",
       "  'non-smile',\n",
       "  'non-smile',\n",
       "  'non-smile',\n",
       "  'non-smile',\n",
       "  'non-smile',\n",
       "  'non-smile',\n",
       "  'non-smile',\n",
       "  'non-smile',\n",
       "  'non-smile',\n",
       "  'non-smile',\n",
       "  'non-smile',\n",
       "  'non-smile',\n",
       "  'non-smile',\n",
       "  'non-smile',\n",
       "  'non-smile',\n",
       "  'non-smile',\n",
       "  'non-smile',\n",
       "  'non-smile',\n",
       "  'non-smile',\n",
       "  'non-smile',\n",
       "  'non-smile',\n",
       "  'non-smile',\n",
       "  'non-smile',\n",
       "  'non-smile',\n",
       "  'non-smile',\n",
       "  'non-smile',\n",
       "  'non-smile',\n",
       "  'non-smile',\n",
       "  'non-smile',\n",
       "  'non-smile',\n",
       "  'non-smile',\n",
       "  'non-smile',\n",
       "  'non-smile',\n",
       "  'non-smile',\n",
       "  'non-smile',\n",
       "  'non-smile',\n",
       "  'non-smile',\n",
       "  'non-smile',\n",
       "  'non-smile',\n",
       "  'non-smile',\n",
       "  'non-smile',\n",
       "  'non-smile',\n",
       "  'non-smile',\n",
       "  'non-smile',\n",
       "  'non-smile',\n",
       "  'non-smile',\n",
       "  'non-smile',\n",
       "  'non-smile',\n",
       "  'non-smile',\n",
       "  'non-smile',\n",
       "  'non-smile',\n",
       "  'non-smile',\n",
       "  'non-smile',\n",
       "  'non-smile',\n",
       "  'non-smile',\n",
       "  'non-smile',\n",
       "  'non-smile',\n",
       "  'non-smile',\n",
       "  'non-smile',\n",
       "  'non-smile',\n",
       "  'non-smile',\n",
       "  'non-smile',\n",
       "  'non-smile',\n",
       "  'non-smile',\n",
       "  'non-smile',\n",
       "  'non-smile',\n",
       "  'non-smile',\n",
       "  'non-smile',\n",
       "  'non-smile',\n",
       "  'non-smile',\n",
       "  'non-smile',\n",
       "  'non-smile',\n",
       "  'non-smile',\n",
       "  'non-smile',\n",
       "  'non-smile',\n",
       "  'non-smile',\n",
       "  'non-smile',\n",
       "  'non-smile',\n",
       "  'non-smile',\n",
       "  'non-smile',\n",
       "  'non-smile',\n",
       "  'non-smile',\n",
       "  'non-smile',\n",
       "  'non-smile',\n",
       "  'non-smile',\n",
       "  'non-smile',\n",
       "  'non-smile',\n",
       "  'non-smile',\n",
       "  'non-smile',\n",
       "  'non-smile',\n",
       "  'non-smile',\n",
       "  'non-smile',\n",
       "  'non-smile',\n",
       "  'non-smile',\n",
       "  'non-smile',\n",
       "  'non-smile',\n",
       "  'non-smile',\n",
       "  'non-smile',\n",
       "  'non-smile',\n",
       "  'non-smile',\n",
       "  'non-smile',\n",
       "  'non-smile',\n",
       "  'non-smile',\n",
       "  'non-smile',\n",
       "  'non-smile',\n",
       "  'non-smile',\n",
       "  'non-smile',\n",
       "  'non-smile',\n",
       "  'non-smile',\n",
       "  'non-smile',\n",
       "  'non-smile',\n",
       "  'non-smile',\n",
       "  'non-smile',\n",
       "  'non-smile',\n",
       "  'non-smile',\n",
       "  'non-smile',\n",
       "  'non-smile',\n",
       "  'non-smile',\n",
       "  'non-smile',\n",
       "  'non-smile',\n",
       "  'non-smile',\n",
       "  'non-smile',\n",
       "  'non-smile',\n",
       "  'non-smile',\n",
       "  'non-smile',\n",
       "  'non-smile',\n",
       "  'non-smile',\n",
       "  'non-smile',\n",
       "  'non-smile',\n",
       "  'non-smile',\n",
       "  'non-smile',\n",
       "  'non-smile',\n",
       "  'non-smile',\n",
       "  'non-smile',\n",
       "  'non-smile',\n",
       "  'non-smile',\n",
       "  'non-smile',\n",
       "  'non-smile',\n",
       "  'non-smile',\n",
       "  'non-smile',\n",
       "  'non-smile',\n",
       "  'non-smile',\n",
       "  'non-smile',\n",
       "  'non-smile',\n",
       "  'non-smile',\n",
       "  'non-smile',\n",
       "  'non-smile',\n",
       "  'non-smile',\n",
       "  'non-smile',\n",
       "  'non-smile',\n",
       "  'non-smile',\n",
       "  'non-smile',\n",
       "  'non-smile',\n",
       "  'non-smile',\n",
       "  'non-smile',\n",
       "  'non-smile',\n",
       "  'non-smile',\n",
       "  'non-smile',\n",
       "  'non-smile',\n",
       "  'non-smile',\n",
       "  'non-smile',\n",
       "  'non-smile',\n",
       "  'non-smile',\n",
       "  'non-smile',\n",
       "  'non-smile',\n",
       "  'non-smile',\n",
       "  'non-smile',\n",
       "  'non-smile',\n",
       "  'non-smile',\n",
       "  'non-smile',\n",
       "  'non-smile',\n",
       "  'non-smile',\n",
       "  'non-smile',\n",
       "  'non-smile',\n",
       "  'non-smile',\n",
       "  'non-smile',\n",
       "  'non-smile',\n",
       "  'non-smile',\n",
       "  'non-smile',\n",
       "  'non-smile',\n",
       "  'non-smile',\n",
       "  'non-smile',\n",
       "  'non-smile',\n",
       "  'non-smile',\n",
       "  'non-smile',\n",
       "  'non-smile',\n",
       "  'non-smile',\n",
       "  'non-smile',\n",
       "  'non-smile',\n",
       "  'non-smile',\n",
       "  'non-smile',\n",
       "  'non-smile',\n",
       "  'non-smile',\n",
       "  'non-smile',\n",
       "  'non-smile',\n",
       "  'non-smile',\n",
       "  'non-smile',\n",
       "  'non-smile',\n",
       "  'non-smile',\n",
       "  'non-smile',\n",
       "  'non-smile',\n",
       "  'non-smile',\n",
       "  'non-smile',\n",
       "  'non-smile',\n",
       "  'non-smile',\n",
       "  'non-smile',\n",
       "  'non-smile',\n",
       "  'non-smile',\n",
       "  'non-smile',\n",
       "  'non-smile',\n",
       "  'non-smile',\n",
       "  'non-smile',\n",
       "  'non-smile',\n",
       "  'non-smile',\n",
       "  'non-smile',\n",
       "  'non-smile',\n",
       "  'non-smile',\n",
       "  'non-smile',\n",
       "  'non-smile',\n",
       "  'non-smile',\n",
       "  'non-smile',\n",
       "  'non-smile',\n",
       "  'non-smile',\n",
       "  'non-smile',\n",
       "  'non-smile',\n",
       "  'non-smile',\n",
       "  'non-smile',\n",
       "  'non-smile',\n",
       "  'non-smile',\n",
       "  'non-smile',\n",
       "  'non-smile',\n",
       "  'non-smile',\n",
       "  'non-smile',\n",
       "  'non-smile',\n",
       "  'non-smile',\n",
       "  'non-smile',\n",
       "  'non-smile',\n",
       "  'non-smile',\n",
       "  'non-smile',\n",
       "  'non-smile',\n",
       "  'non-smile',\n",
       "  'non-smile',\n",
       "  'non-smile',\n",
       "  'non-smile',\n",
       "  'non-smile',\n",
       "  'non-smile',\n",
       "  'non-smile',\n",
       "  'non-smile',\n",
       "  'non-smile',\n",
       "  'non-smile',\n",
       "  'non-smile',\n",
       "  'non-smile',\n",
       "  'non-smile',\n",
       "  'non-smile',\n",
       "  'non-smile',\n",
       "  'non-smile',\n",
       "  'non-smile',\n",
       "  'non-smile'])"
      ]
     },
     "metadata": {},
     "output_type": "display_data"
    }
   ],
   "source": [
    "X_ns.shape , y_ns"
   ]
  },
  {
   "cell_type": "code",
   "execution_count": 35,
   "metadata": {},
   "outputs": [],
   "source": [
    "X = np.concatenate([X_sm , X_ns])\n",
    "y=np.asarray(y_sm+y_ns)"
   ]
  },
  {
   "cell_type": "code",
   "execution_count": 38,
   "metadata": {},
   "outputs": [
    {
     "data": {
      "text/plain": [
       "((1203, 4096), (1203,))"
      ]
     },
     "execution_count": 38,
     "metadata": {},
     "output_type": "execute_result"
    }
   ],
   "source": [
    "X.shape , y.shape "
   ]
  },
  {
   "cell_type": "code",
   "execution_count": 75,
   "metadata": {},
   "outputs": [
    {
     "name": "stdout",
     "output_type": "stream",
     "text": [
      "smile\n"
     ]
    },
    {
     "data": {
      "text/plain": [
       "(-0.5, 63.5, 63.5, -0.5)"
      ]
     },
     "execution_count": 75,
     "metadata": {},
     "output_type": "execute_result"
    },
    {
     "data": {
      "image/png": "[encoded data removed]",
      "text/plain": [
       "<Figure size 432x288 with 1 Axes>"
      ]
     },
     "metadata": {
      "needs_background": "light"
     },
     "output_type": "display_data"
    }
   ],
   "source": [
    "ind = np.random.randint(0,1203)\n",
    "print(y[ind])\n",
    "plt.imshow(np.reshape(X[ind,:],(64,64)),cmap=\"gray\")\n",
    "plt.axis(\"off\")"
   ]
  },
  {
   "cell_type": "code",
   "execution_count": 78,
   "metadata": {},
   "outputs": [],
   "source": [
    "from sklearn.model_selection import train_test_split "
   ]
  },
  {
   "cell_type": "code",
   "execution_count": 80,
   "metadata": {},
   "outputs": [],
   "source": [
    "X_train , X_test , y_train , y_test = train_test_split(X,y,test_size=.20)"
   ]
  },
  {
   "cell_type": "code",
   "execution_count": 81,
   "metadata": {},
   "outputs": [
    {
     "data": {
      "text/plain": [
       "((962, 4096), (241, 4096), (962,), (241,))"
      ]
     },
     "execution_count": 81,
     "metadata": {},
     "output_type": "execute_result"
    }
   ],
   "source": [
    "X_train.shape , X_test.shape , y_train.shape , y_test.shape"
   ]
  },
  {
   "cell_type": "code",
   "execution_count": 88,
   "metadata": {},
   "outputs": [],
   "source": [
    "from sklearn.pipeline import Pipeline\n",
    "from sklearn.decomposition import PCA \n",
    "from sklearn.ensemble import AdaBoostClassifier as ABC\n",
    "from sklearn.ensemble import RandomForestClassifier as RFC \n",
    "from sklearn.tree import DecisionTreeClassifier as DTC\n",
    "from sklearn.naive_bayes import GaussianNB \n",
    "from sklearn.metrics import accuracy_score , classification_report "
   ]
  },
  {
   "cell_type": "code",
   "execution_count": 98,
   "metadata": {},
   "outputs": [],
   "source": [
    "steps1 = [(\"dimention reduction\" ,PCA(n_components=0.95)) ,\n",
    "          (\"classifier\",ABC(n_estimators=30))] \n",
    "\n",
    "steps2 = [(\"dimention reduction\" ,PCA(n_components=0.95)) ,\n",
    "          (\"classifier\",ABC(base_estimator=DTC(max_depth=5) , n_estimators=30 ))] \n",
    "          \n",
    "steps3 = [(\"dimention reduction\" ,PCA(n_components=0.95)) ,\n",
    "          (\"classifier\",RFC(n_estimators=30))] \n",
    "\n",
    "steps4 = [(\"dimention reduction\" ,PCA(n_components=0.95)) ,\n",
    "          (\"classifier\",ABC(base_estimator=GaussianNB() , n_estimators=30 ))] \n",
    "          \n",
    "clf1 = Pipeline(steps=steps1).fit(X_train,y_train)\n",
    "clf2 = Pipeline(steps=steps2).fit(X_train,y_train)\n",
    "clf3 = Pipeline(steps=steps3).fit(X_train,y_train)\n",
    "clf4 = Pipeline(steps=steps4).fit(X_train,y_train)"
   ]
  },
  {
   "cell_type": "code",
   "execution_count": 99,
   "metadata": {},
   "outputs": [
    {
     "name": "stdout",
     "output_type": "stream",
     "text": [
      "              precision    recall  f1-score   support\n",
      "\n",
      "   non-smile       0.79      0.86      0.82       117\n",
      "       smile       0.86      0.78      0.82       124\n",
      "\n",
      "    accuracy                           0.82       241\n",
      "   macro avg       0.82      0.82      0.82       241\n",
      "weighted avg       0.82      0.82      0.82       241\n",
      "\n"
     ]
    }
   ],
   "source": [
    "print (classification_report(y_true =y_test , y_pred=clf1.predict(X_test )))"
   ]
  },
  {
   "cell_type": "code",
   "execution_count": 100,
   "metadata": {},
   "outputs": [
    {
     "name": "stdout",
     "output_type": "stream",
     "text": [
      "              precision    recall  f1-score   support\n",
      "\n",
      "   non-smile       0.77      0.81      0.79       117\n",
      "       smile       0.81      0.77      0.79       124\n",
      "\n",
      "    accuracy                           0.79       241\n",
      "   macro avg       0.79      0.79      0.79       241\n",
      "weighted avg       0.79      0.79      0.79       241\n",
      "\n"
     ]
    }
   ],
   "source": [
    "print (classification_report(y_true =y_test , y_pred=clf2.predict(X_test )))\n"
   ]
  },
  {
   "cell_type": "code",
   "execution_count": 101,
   "metadata": {},
   "outputs": [
    {
     "name": "stdout",
     "output_type": "stream",
     "text": [
      "              precision    recall  f1-score   support\n",
      "\n",
      "   non-smile       0.80      0.87      0.83       117\n",
      "       smile       0.87      0.79      0.83       124\n",
      "\n",
      "    accuracy                           0.83       241\n",
      "   macro avg       0.83      0.83      0.83       241\n",
      "weighted avg       0.83      0.83      0.83       241\n",
      "\n"
     ]
    }
   ],
   "source": [
    "print (classification_report(y_true =y_test , y_pred=clf3.predict(X_test )))\n"
   ]
  },
  {
   "cell_type": "code",
   "execution_count": 102,
   "metadata": {},
   "outputs": [
    {
     "name": "stdout",
     "output_type": "stream",
     "text": [
      "              precision    recall  f1-score   support\n",
      "\n",
      "   non-smile       0.88      0.18      0.30       117\n",
      "       smile       0.56      0.98      0.71       124\n",
      "\n",
      "    accuracy                           0.59       241\n",
      "   macro avg       0.72      0.58      0.50       241\n",
      "weighted avg       0.71      0.59      0.51       241\n",
      "\n"
     ]
    }
   ],
   "source": [
    "print (classification_report(y_true =y_test , y_pred=clf4.predict(X_test)))"
   ]
  },
  {
   "cell_type": "code",
   "execution_count": 103,
   "metadata": {},
   "outputs": [],
   "source": [
    "from sklearn.model_selection import KFold "
   ]
  },
  {
   "cell_type": "code",
   "execution_count": 108,
   "metadata": {},
   "outputs": [
    {
     "name": "stdout",
     "output_type": "stream",
     "text": [
      "1\n",
      "2\n",
      "3\n",
      "4\n",
      "5\n"
     ]
    }
   ],
   "source": [
    "kf = KFold(n_splits=5)\n",
    "abc_acc=[]\n",
    "rfc_acc = []\n",
    "k=1\n",
    "\n",
    "for train_index , test_index in kf.split(X): \n",
    "     X_train , X_test = X[train_index] , X[test_index]\n",
    "     y_train , y_test = y[train_index] , y[test_index]\n",
    "      \n",
    "     steps1 = [(\"dimention reduction\" , PCA(n_components=.95 )),\n",
    "               (\"classifier\" , ABC(n_estimators=30 ))\n",
    "               ]\n",
    "     steps3 = [(\"dimention reduction\" ,PCA(n_components=0.95)) ,\n",
    "          (\"classifier\",RFC(n_estimators=30))] \n",
    "\n",
    "     abc= Pipeline(steps=steps1).fit(X_train,y_train)\n",
    "     rfc= Pipeline(steps=steps3).fit(X_train,y_train)\n",
    "\n",
    "     abc_acc.append(accuracy_score(y_true=y_test,y_pred=abc.predict(X_test)))\n",
    "     rfc_acc.append(accuracy_score(y_true=y_test,y_pred=rfc.predict(X_test)))\n",
    "     print(k)\n",
    "     k+=1\n"
   ]
  },
  {
   "cell_type": "code",
   "execution_count": 109,
   "metadata": {},
   "outputs": [
    {
     "data": {
      "text/plain": [
       "(0.7838969571230983, 0.6833540802213001)"
      ]
     },
     "execution_count": 109,
     "metadata": {},
     "output_type": "execute_result"
    }
   ],
   "source": [
    "np.mean(abc_acc) , np.mean(rfc_acc) "
   ]
  },
  {
   "cell_type": "code",
   "execution_count": 113,
   "metadata": {},
   "outputs": [
    {
     "data": {
      "text/plain": [
       "(4.5674430270513415, 9.522295318990974)"
      ]
     },
     "execution_count": 113,
     "metadata": {},
     "output_type": "execute_result"
    }
   ],
   "source": [
    "np.std(abc_acc)*100 , np.std(rfc_acc)* 100  "
   ]
  },
  {
   "cell_type": "code",
   "execution_count": 114,
   "metadata": {},
   "outputs": [
    {
     "data": {
      "text/plain": [
       "([0.7344398340248963,\n",
       "  0.7634854771784232,\n",
       "  0.8257261410788381,\n",
       "  0.7458333333333333,\n",
       "  0.85],\n",
       " [0.6058091286307054,\n",
       "  0.5518672199170125,\n",
       "  0.8174273858921162,\n",
       "  0.6958333333333333,\n",
       "  0.7458333333333333])"
      ]
     },
     "execution_count": 114,
     "metadata": {},
     "output_type": "execute_result"
    }
   ],
   "source": [
    "abc_acc , rfc_acc "
   ]
  },
  {
   "cell_type": "code",
   "execution_count": null,
   "metadata": {},
   "outputs": [],
   "source": []
  }
 ],
 "metadata": {
  "kernelspec": {
   "display_name": "Python 3",
   "language": "python",
   "name": "python3"
  },
  "language_info": {
   "codemirror_mode": {
    "name": "ipython",
    "version": 3
   },
   "file_extension": ".py",
   "mimetype": "text/x-python",
   "name": "python",
   "nbconvert_exporter": "python",
   "pygments_lexer": "ipython3",
   "version": "3.10.6"
  },
  "orig_nbformat": 4,
  "vscode": {
   "interpreter": {
    "hash": "916dbcbb3f70747c44a77c7bcd40155683ae19c65e1c03b4aa3499c5328201f1"
   }
  }
 },
 "nbformat": 4,
 "nbformat_minor": 2
}
