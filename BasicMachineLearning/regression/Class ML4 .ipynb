{
 "cells": [
  {
   "cell_type": "code",
   "execution_count": 1,
   "id": "b980136c",
   "metadata": {},
   "outputs": [],
   "source": [
    "from sklearn.datasets import load_digits \n",
    "import matplotlib.pyplot as plt\n",
    "import numpy as np "
   ]
  },
  {
   "cell_type": "code",
   "execution_count": 2,
   "id": "76dca20c",
   "metadata": {},
   "outputs": [],
   "source": [
    "X,y = load_digits(return_X_y=True)"
   ]
  },
  {
   "cell_type": "code",
   "execution_count": 10,
   "id": "5e81f4e5",
   "metadata": {},
   "outputs": [
    {
     "data": {
      "text/plain": [
       "(numpy.ndarray, numpy.ndarray)"
      ]
     },
     "execution_count": 10,
     "metadata": {},
     "output_type": "execute_result"
    }
   ],
   "source": [
    "type(X) ,type(y)"
   ]
  },
  {
   "cell_type": "code",
   "execution_count": 11,
   "id": "87987d83",
   "metadata": {},
   "outputs": [
    {
     "data": {
      "text/plain": [
       "(1797, 64)"
      ]
     },
     "execution_count": 11,
     "metadata": {},
     "output_type": "execute_result"
    }
   ],
   "source": [
    "X.shape"
   ]
  },
  {
   "cell_type": "code",
   "execution_count": 13,
   "id": "677acb31",
   "metadata": {},
   "outputs": [
    {
     "name": "stdout",
     "output_type": "stream",
     "text": [
      "0\n"
     ]
    },
    {
     "data": {
      "text/plain": [
       "<matplotlib.image.AxesImage at 0x205330d8bb0>"
      ]
     },
     "execution_count": 13,
     "metadata": {},
     "output_type": "execute_result"
    },
    {
     "data": {
      "image/png": "[encoded data removed]",
      "text/plain": [
       "<Figure size 432x288 with 1 Axes>"
      ]
     },
     "metadata": {
      "needs_background": "light"
     },
     "output_type": "display_data"
    }
   ],
   "source": [
    "print (y[0])\n",
    "plt.imshow(np.reshape(X[0,:],(8,8)), cmap=\"gray\")"
   ]
  },
  {
   "cell_type": "code",
   "execution_count": 16,
   "id": "a27c19a0",
   "metadata": {},
   "outputs": [
    {
     "name": "stdout",
     "output_type": "stream",
     "text": [
      "1\n"
     ]
    },
    {
     "data": {
      "text/plain": [
       "<matplotlib.image.AxesImage at 0x2053291dbb0>"
      ]
     },
     "execution_count": 16,
     "metadata": {},
     "output_type": "execute_result"
    },
    {
     "data": {
      "image/png": "[encoded data removed]",
      "text/plain": [
       "<Figure size 432x288 with 1 Axes>"
      ]
     },
     "metadata": {
      "needs_background": "light"
     },
     "output_type": "display_data"
    }
   ],
   "source": [
    "print (y[1])\n",
    "plt.imshow(np.reshape(X[1,:],(8,8)), cmap=\"gray\")"
   ]
  },
  {
   "cell_type": "code",
   "execution_count": 17,
   "id": "1b1e7a7b",
   "metadata": {},
   "outputs": [
    {
     "name": "stdout",
     "output_type": "stream",
     "text": [
      "2\n"
     ]
    },
    {
     "data": {
      "text/plain": [
       "<matplotlib.image.AxesImage at 0x20532d0e9d0>"
      ]
     },
     "execution_count": 17,
     "metadata": {},
     "output_type": "execute_result"
    },
    {
     "data": {
      "image/png": "[encoded data removed]",
      "text/plain": [
       "<Figure size 432x288 with 1 Axes>"
      ]
     },
     "metadata": {
      "needs_background": "light"
     },
     "output_type": "display_data"
    }
   ],
   "source": [
    "print (y[2])\n",
    "plt.imshow(np.reshape(X[2,:],(8,8)), cmap=\"gray\")"
   ]
  },
  {
   "cell_type": "code",
   "execution_count": 18,
   "id": "fda9c39a",
   "metadata": {},
   "outputs": [
    {
     "name": "stdout",
     "output_type": "stream",
     "text": [
      "3\n"
     ]
    },
    {
     "data": {
      "text/plain": [
       "<matplotlib.image.AxesImage at 0x20532e43310>"
      ]
     },
     "execution_count": 18,
     "metadata": {},
     "output_type": "execute_result"
    },
    {
     "data": {
      "image/png": "[encoded data removed]",
      "text/plain": [
       "<Figure size 432x288 with 1 Axes>"
      ]
     },
     "metadata": {
      "needs_background": "light"
     },
     "output_type": "display_data"
    }
   ],
   "source": [
    "print (y[3])\n",
    "plt.imshow(np.reshape(X[3,:],(8,8)), cmap=\"gray\")"
   ]
  },
  {
   "cell_type": "code",
   "execution_count": 19,
   "id": "d1bd2155",
   "metadata": {},
   "outputs": [
    {
     "name": "stdout",
     "output_type": "stream",
     "text": [
      "4\n"
     ]
    },
    {
     "data": {
      "text/plain": [
       "<matplotlib.image.AxesImage at 0x20532e806a0>"
      ]
     },
     "execution_count": 19,
     "metadata": {},
     "output_type": "execute_result"
    },
    {
     "data": {
      "image/png": "[encoded data removed]",
      "text/plain": [
       "<Figure size 432x288 with 1 Axes>"
      ]
     },
     "metadata": {
      "needs_background": "light"
     },
     "output_type": "display_data"
    }
   ],
   "source": [
    "print (y[4])\n",
    "plt.imshow(np.reshape(X[4,:],(8,8)), cmap=\"gray\")"
   ]
  },
  {
   "cell_type": "code",
   "execution_count": 20,
   "id": "74ff8955",
   "metadata": {},
   "outputs": [
    {
     "name": "stdout",
     "output_type": "stream",
     "text": [
      "5\n"
     ]
    },
    {
     "data": {
      "text/plain": [
       "<matplotlib.image.AxesImage at 0x20533164760>"
      ]
     },
     "execution_count": 20,
     "metadata": {},
     "output_type": "execute_result"
    },
    {
     "data": {
      "image/png": "[encoded data removed]",
      "text/plain": [
       "<Figure size 432x288 with 1 Axes>"
      ]
     },
     "metadata": {
      "needs_background": "light"
     },
     "output_type": "display_data"
    }
   ],
   "source": [
    "print (y[5])\n",
    "plt.imshow(np.reshape(X[5,:],(8,8)), cmap=\"gray\")"
   ]
  },
  {
   "cell_type": "code",
   "execution_count": 21,
   "id": "836680ce",
   "metadata": {},
   "outputs": [
    {
     "name": "stdout",
     "output_type": "stream",
     "text": [
      "6\n"
     ]
    },
    {
     "data": {
      "text/plain": [
       "<matplotlib.image.AxesImage at 0x205331cdd30>"
      ]
     },
     "execution_count": 21,
     "metadata": {},
     "output_type": "execute_result"
    },
    {
     "data": {
      "image/png": "[encoded data removed]",
      "text/plain": [
       "<Figure size 432x288 with 1 Axes>"
      ]
     },
     "metadata": {
      "needs_background": "light"
     },
     "output_type": "display_data"
    }
   ],
   "source": [
    "print (y[6])\n",
    "plt.imshow(np.reshape(X[6,:],(8,8)), cmap=\"gray\")"
   ]
  },
  {
   "cell_type": "code",
   "execution_count": 22,
   "id": "2851e006",
   "metadata": {},
   "outputs": [
    {
     "name": "stdout",
     "output_type": "stream",
     "text": [
      "7\n"
     ]
    },
    {
     "data": {
      "text/plain": [
       "<matplotlib.image.AxesImage at 0x20533238e50>"
      ]
     },
     "execution_count": 22,
     "metadata": {},
     "output_type": "execute_result"
    },
    {
     "data": {
      "image/png": "[encoded data removed]",
      "text/plain": [
       "<Figure size 432x288 with 1 Axes>"
      ]
     },
     "metadata": {
      "needs_background": "light"
     },
     "output_type": "display_data"
    }
   ],
   "source": [
    "print (y[7])\n",
    "plt.imshow(np.reshape(X[7,:],(8,8)), cmap=\"gray\")"
   ]
  },
  {
   "cell_type": "code",
   "execution_count": 23,
   "id": "94f55744",
   "metadata": {},
   "outputs": [
    {
     "name": "stdout",
     "output_type": "stream",
     "text": [
      "8\n"
     ]
    },
    {
     "data": {
      "text/plain": [
       "<matplotlib.image.AxesImage at 0x205332a6f10>"
      ]
     },
     "execution_count": 23,
     "metadata": {},
     "output_type": "execute_result"
    },
    {
     "data": {
      "image/png": "[encoded data removed]",
      "text/plain": [
       "<Figure size 432x288 with 1 Axes>"
      ]
     },
     "metadata": {
      "needs_background": "light"
     },
     "output_type": "display_data"
    }
   ],
   "source": [
    "print (y[8])\n",
    "plt.imshow(np.reshape(X[8,:],(8,8)), cmap=\"gray\")"
   ]
  },
  {
   "cell_type": "code",
   "execution_count": 25,
   "id": "e31529b4",
   "metadata": {},
   "outputs": [
    {
     "name": "stdout",
     "output_type": "stream",
     "text": [
      "9\n"
     ]
    },
    {
     "data": {
      "text/plain": [
       "<matplotlib.image.AxesImage at 0x20533383430>"
      ]
     },
     "execution_count": 25,
     "metadata": {},
     "output_type": "execute_result"
    },
    {
     "data": {
      "image/png": "[encoded data removed]",
      "text/plain": [
       "<Figure size 432x288 with 1 Axes>"
      ]
     },
     "metadata": {
      "needs_background": "light"
     },
     "output_type": "display_data"
    }
   ],
   "source": [
    "print (y[9])\n",
    "plt.imshow(np.reshape(X[9,:],(8,8)), cmap=\"gray\")"
   ]
  },
  {
   "cell_type": "code",
   "execution_count": 30,
   "id": "1388b17e",
   "metadata": {},
   "outputs": [
    {
     "data": {
      "text/plain": [
       "(array([0, 1, 2, ..., 8, 9, 8]), dtype('int32'))"
      ]
     },
     "execution_count": 30,
     "metadata": {},
     "output_type": "execute_result"
    }
   ],
   "source": [
    "y,y.dtype"
   ]
  },
  {
   "cell_type": "code",
   "execution_count": 33,
   "id": "464472e2",
   "metadata": {},
   "outputs": [
    {
     "data": {
      "text/plain": [
       "(178, 182, 177, 183, 181, 182, 181, 179, 174, 180)"
      ]
     },
     "execution_count": 33,
     "metadata": {},
     "output_type": "execute_result"
    }
   ],
   "source": [
    "np.sum(y==0),np.sum(y==1),np.sum(y==2),np.sum(y==3),np.sum(y==4),np.sum(y==5),np.sum(y==6),np.sum(y==7),np.sum(y==8),np.sum(y==9)"
   ]
  },
  {
   "cell_type": "code",
   "execution_count": 35,
   "id": "8d97f2a0",
   "metadata": {},
   "outputs": [
    {
     "name": "stdout",
     "output_type": "stream",
     "text": [
      "There are 178 instants for class 0 \n",
      "There are 182 instants for class 1 \n",
      "There are 177 instants for class 2 \n",
      "There are 183 instants for class 3 \n",
      "There are 181 instants for class 4 \n",
      "There are 182 instants for class 5 \n",
      "There are 181 instants for class 6 \n",
      "There are 179 instants for class 7 \n",
      "There are 174 instants for class 8 \n",
      "There are 180 instants for class 9 \n"
     ]
    }
   ],
   "source": [
    "for i in range(10):\n",
    "    print (\"There are {} instants for class {} \".format(np.sum(y==i),i))\n",
    "#pashm ha khazan shavad \n",
    "    "
   ]
  },
  {
   "cell_type": "markdown",
   "id": "e0810b59",
   "metadata": {},
   "source": [
    "Mean distance "
   ]
  },
  {
   "cell_type": "code",
   "execution_count": 36,
   "id": "3eab1584",
   "metadata": {},
   "outputs": [],
   "source": [
    "from sklearn.model_selection import train_test_split"
   ]
  },
  {
   "cell_type": "code",
   "execution_count": 37,
   "id": "4340df83",
   "metadata": {},
   "outputs": [],
   "source": [
    "X_train,X_test,y_train,y_test = train_test_split(X,y,test_size=0.25)"
   ]
  },
  {
   "cell_type": "code",
   "execution_count": 38,
   "id": "db99e3ed",
   "metadata": {},
   "outputs": [
    {
     "data": {
      "text/plain": [
       "((1347, 64), (450, 64), (1347,), (450,))"
      ]
     },
     "execution_count": 38,
     "metadata": {},
     "output_type": "execute_result"
    }
   ],
   "source": [
    "X_train.shape , X_test.shape, y_train.shape, y_test.shape"
   ]
  },
  {
   "cell_type": "code",
   "execution_count": 44,
   "id": "72f1e31f",
   "metadata": {},
   "outputs": [
    {
     "data": {
      "text/plain": [
       "array([[ 0.,  0.,  0., ..., 12.,  0.,  0.],\n",
       "       [ 0.,  0.,  0., ...,  4.,  0.,  0.],\n",
       "       [ 0.,  0.,  5., ..., 16.,  3.,  0.],\n",
       "       ...,\n",
       "       [ 0.,  0.,  2., ...,  0.,  0.,  0.],\n",
       "       [ 0.,  0.,  0., ...,  0.,  0.,  0.],\n",
       "       [ 0.,  0.,  4., ..., 16.,  8.,  0.]])"
      ]
     },
     "execution_count": 44,
     "metadata": {},
     "output_type": "execute_result"
    }
   ],
   "source": [
    "X_train[y_train==1]"
   ]
  },
  {
   "cell_type": "code",
   "execution_count": 76,
   "id": "23a7a89d",
   "metadata": {},
   "outputs": [],
   "source": [
    "centers = {}\n",
    "for i in range (10):\n",
    "    centers[str(i)]= X_train[y_train==i].mean(axis=0)"
   ]
  },
  {
   "cell_type": "code",
   "execution_count": null,
   "id": "c9951b2d",
   "metadata": {},
   "outputs": [],
   "source": []
  },
  {
   "cell_type": "code",
   "execution_count": 117,
   "id": "adade593",
   "metadata": {
    "scrolled": false
   },
   "outputs": [
    {
     "data": {
      "text/plain": [
       "{'0': array([0.00000000e+00, 1.52671756e-02, 4.11450382e+00, 1.30763359e+01,\n",
       "        1.12213740e+01, 2.91603053e+00, 3.81679389e-02, 0.00000000e+00,\n",
       "        0.00000000e+00, 7.93893130e-01, 1.23664122e+01, 1.36183206e+01,\n",
       "        1.16870229e+01, 1.12595420e+01, 1.06870229e+00, 0.00000000e+00,\n",
       "        0.00000000e+00, 3.70992366e+00, 1.41297710e+01, 5.49618321e+00,\n",
       "        2.23664122e+00, 1.21832061e+01, 3.47328244e+00, 0.00000000e+00,\n",
       "        0.00000000e+00, 5.16030534e+00, 1.28625954e+01, 2.22137405e+00,\n",
       "        1.60305344e-01, 9.06106870e+00, 6.36641221e+00, 0.00000000e+00,\n",
       "        0.00000000e+00, 5.79389313e+00, 1.16030534e+01, 1.03053435e+00,\n",
       "        6.10687023e-02, 8.98473282e+00, 7.09160305e+00, 0.00000000e+00,\n",
       "        0.00000000e+00, 3.40458015e+00, 1.33053435e+01, 1.88549618e+00,\n",
       "        1.75572519e+00, 1.12595420e+01, 6.06870229e+00, 0.00000000e+00,\n",
       "        0.00000000e+00, 7.70992366e-01, 1.29541985e+01, 1.01221374e+01,\n",
       "        1.04809160e+01, 1.30305344e+01, 2.55725191e+00, 0.00000000e+00,\n",
       "        0.00000000e+00, 7.63358779e-03, 4.04580153e+00, 1.35038168e+01,\n",
       "        1.31984733e+01, 5.53435115e+00, 3.05343511e-01, 0.00000000e+00]),\n",
       " '1': array([0.00000000e+00, 7.04225352e-03, 2.25352113e+00, 8.64788732e+00,\n",
       "        1.01408451e+01, 6.55633803e+00, 1.16901408e+00, 0.00000000e+00,\n",
       "        0.00000000e+00, 9.85915493e-02, 3.88732394e+00, 1.22746479e+01,\n",
       "        1.36619718e+01, 8.81690141e+00, 1.42957746e+00, 0.00000000e+00,\n",
       "        1.40845070e-02, 1.16197183e+00, 6.92253521e+00, 1.47323944e+01,\n",
       "        1.39225352e+01, 7.70422535e+00, 7.88732394e-01, 0.00000000e+00,\n",
       "        7.04225352e-03, 2.19014085e+00, 9.13380282e+00, 1.41901408e+01,\n",
       "        1.36549296e+01, 6.34507042e+00, 3.94366197e-01, 0.00000000e+00,\n",
       "        0.00000000e+00, 1.24647887e+00, 6.74647887e+00, 1.15915493e+01,\n",
       "        1.35633803e+01, 5.63380282e+00, 4.36619718e-01, 0.00000000e+00,\n",
       "        0.00000000e+00, 3.52112676e-01, 4.66197183e+00, 9.83098592e+00,\n",
       "        1.34859155e+01, 6.21126761e+00, 4.43661972e-01, 0.00000000e+00,\n",
       "        0.00000000e+00, 7.74647887e-02, 4.26056338e+00, 1.04929577e+01,\n",
       "        1.36197183e+01, 8.11267606e+00, 2.27464789e+00, 7.11267606e-01,\n",
       "        0.00000000e+00, 7.04225352e-03, 2.00704225e+00, 8.73943662e+00,\n",
       "        1.29084507e+01, 9.05633803e+00, 3.45774648e+00, 1.63380282e+00]),\n",
       " '2': array([0.00000000e+00, 8.90625000e-01, 9.61718750e+00, 1.42187500e+01,\n",
       "        9.78906250e+00, 2.42968750e+00, 1.01562500e-01, 0.00000000e+00,\n",
       "        1.56250000e-02, 5.18750000e+00, 1.38828125e+01, 1.22812500e+01,\n",
       "        1.26640625e+01, 5.62500000e+00, 4.37500000e-01, 0.00000000e+00,\n",
       "        7.81250000e-03, 4.45312500e+00, 7.65625000e+00, 4.57812500e+00,\n",
       "        1.16484375e+01, 5.96875000e+00, 5.00000000e-01, 0.00000000e+00,\n",
       "        0.00000000e+00, 7.96875000e-01, 1.58593750e+00, 4.91406250e+00,\n",
       "        1.20546875e+01, 4.52343750e+00, 2.73437500e-01, 0.00000000e+00,\n",
       "        0.00000000e+00, 3.12500000e-02, 1.08593750e+00, 8.74218750e+00,\n",
       "        1.04765625e+01, 2.42187500e+00, 7.03125000e-02, 0.00000000e+00,\n",
       "        0.00000000e+00, 5.54687500e-01, 5.39062500e+00, 1.19531250e+01,\n",
       "        7.30468750e+00, 2.19531250e+00, 1.14062500e+00, 1.56250000e-02,\n",
       "        2.34375000e-02, 1.45312500e+00, 1.15312500e+01, 1.43828125e+01,\n",
       "        1.21171875e+01, 1.06796875e+01, 7.01562500e+00, 7.10937500e-01,\n",
       "        7.81250000e-03, 8.98437500e-01, 1.01093750e+01, 1.39609375e+01,\n",
       "        1.30156250e+01, 1.16484375e+01, 7.65625000e+00, 1.99218750e+00]),\n",
       " '3': array([0.00000000e+00, 6.61870504e-01, 8.20863309e+00, 1.39856115e+01,\n",
       "        1.40935252e+01, 7.44604317e+00, 7.76978417e-01, 0.00000000e+00,\n",
       "        1.43884892e-02, 4.05035971e+00, 1.23956835e+01, 9.08633094e+00,\n",
       "        1.14532374e+01, 1.21079137e+01, 2.18705036e+00, 1.43884892e-02,\n",
       "        7.19424460e-03, 2.20863309e+00, 3.64748201e+00, 3.22302158e+00,\n",
       "        1.20143885e+01, 9.46762590e+00, 8.20143885e-01, 0.00000000e+00,\n",
       "        0.00000000e+00, 3.23741007e-01, 1.38129496e+00, 8.89928058e+00,\n",
       "        1.43021583e+01, 5.50359712e+00, 8.63309353e-02, 0.00000000e+00,\n",
       "        0.00000000e+00, 7.19424460e-02, 1.11510791e+00, 5.51079137e+00,\n",
       "        1.22014388e+01, 1.10215827e+01, 1.95683453e+00, 0.00000000e+00,\n",
       "        0.00000000e+00, 4.31654676e-01, 1.50359712e+00, 9.20863309e-01,\n",
       "        4.51079137e+00, 1.22446043e+01, 6.07194245e+00, 0.00000000e+00,\n",
       "        0.00000000e+00, 8.63309353e-01, 7.30215827e+00, 6.38129496e+00,\n",
       "        8.35971223e+00, 1.29352518e+01, 5.88489209e+00, 7.91366906e-02,\n",
       "        0.00000000e+00, 5.32374101e-01, 9.11510791e+00, 1.45251799e+01,\n",
       "        1.39712230e+01, 8.82733813e+00, 1.56115108e+00, 8.63309353e-02]),\n",
       " '4': array([0.00000000e+00, 0.00000000e+00, 4.05797101e-01, 6.79710145e+00,\n",
       "        1.16304348e+01, 2.15217391e+00, 1.15942029e-01, 7.24637681e-03,\n",
       "        0.00000000e+00, 7.24637681e-02, 3.27536232e+00, 1.31956522e+01,\n",
       "        8.78260870e+00, 2.00000000e+00, 9.78260870e-01, 2.60869565e-01,\n",
       "        0.00000000e+00, 6.81159420e-01, 1.00869565e+01, 1.17028986e+01,\n",
       "        5.00000000e+00, 5.46376812e+00, 3.95652174e+00, 3.40579710e-01,\n",
       "        7.24637681e-03, 4.49275362e+00, 1.44275362e+01, 6.37681159e+00,\n",
       "        7.33333333e+00, 1.03260870e+01, 6.16666667e+00, 1.44927536e-02,\n",
       "        0.00000000e+00, 8.63043478e+00, 1.47681159e+01, 9.63043478e+00,\n",
       "        1.29492754e+01, 1.40434783e+01, 5.41304348e+00, 0.00000000e+00,\n",
       "        7.24637681e-02, 6.60144928e+00, 1.17971014e+01, 1.26376812e+01,\n",
       "        1.45652174e+01, 1.05507246e+01, 1.70289855e+00, 0.00000000e+00,\n",
       "        7.24637681e-02, 1.12318841e+00, 2.97101449e+00, 7.70289855e+00,\n",
       "        1.35724638e+01, 4.19565217e+00, 2.89855072e-02, 0.00000000e+00,\n",
       "        0.00000000e+00, 2.89855072e-02, 5.36231884e-01, 7.55797101e+00,\n",
       "        1.20724638e+01, 1.95652174e+00, 0.00000000e+00, 0.00000000e+00]),\n",
       " '5': array([0.00000000e+00, 9.92647059e-01, 1.00588235e+01, 1.29485294e+01,\n",
       "        1.37426471e+01, 1.20441176e+01, 4.08823529e+00, 4.41176471e-02,\n",
       "        7.35294118e-03, 4.07352941e+00, 1.47720588e+01, 1.16176471e+01,\n",
       "        8.05147059e+00, 5.97794118e+00, 1.97794118e+00, 2.20588235e-02,\n",
       "        0.00000000e+00, 5.56617647e+00, 1.42132353e+01, 5.51470588e+00,\n",
       "        1.85294118e+00, 6.61764706e-01, 7.35294118e-02, 0.00000000e+00,\n",
       "        0.00000000e+00, 5.19852941e+00, 1.41985294e+01, 1.21102941e+01,\n",
       "        9.02205882e+00, 4.41176471e+00, 4.33823529e-01, 0.00000000e+00,\n",
       "        0.00000000e+00, 1.75000000e+00, 7.18382353e+00, 8.14705882e+00,\n",
       "        8.58088235e+00, 7.80882353e+00, 1.97058824e+00, 0.00000000e+00,\n",
       "        0.00000000e+00, 2.50000000e-01, 1.08823529e+00, 3.38970588e+00,\n",
       "        7.00000000e+00, 8.36029412e+00, 2.54411765e+00, 0.00000000e+00,\n",
       "        0.00000000e+00, 8.97058824e-01, 5.79411765e+00, 8.05147059e+00,\n",
       "        1.07132353e+01, 7.51470588e+00, 1.52941176e+00, 0.00000000e+00,\n",
       "        0.00000000e+00, 9.63235294e-01, 1.06911765e+01, 1.48382353e+01,\n",
       "        9.56617647e+00, 2.77941176e+00, 2.35294118e-01, 0.00000000e+00]),\n",
       " '6': array([0.00000000e+00, 0.00000000e+00, 1.20588235e+00, 1.11544118e+01,\n",
       "        9.08088235e+00, 1.27941176e+00, 7.35294118e-03, 0.00000000e+00,\n",
       "        0.00000000e+00, 3.67647059e-02, 7.20588235e+00, 1.43750000e+01,\n",
       "        5.92647059e+00, 7.20588235e-01, 2.94117647e-02, 0.00000000e+00,\n",
       "        0.00000000e+00, 7.20588235e-01, 1.25808824e+01, 9.30147059e+00,\n",
       "        1.00000000e+00, 1.39705882e-01, 7.35294118e-03, 0.00000000e+00,\n",
       "        0.00000000e+00, 2.34558824e+00, 1.37573529e+01, 7.83823529e+00,\n",
       "        3.44852941e+00, 1.81617647e+00, 1.25000000e-01, 0.00000000e+00,\n",
       "        0.00000000e+00, 3.61029412e+00, 1.47058824e+01, 1.26838235e+01,\n",
       "        1.18897059e+01, 9.97794118e+00, 2.74264706e+00, 0.00000000e+00,\n",
       "        0.00000000e+00, 1.94117647e+00, 1.46764706e+01, 1.05294118e+01,\n",
       "        5.73529412e+00, 1.00220588e+01, 8.97058824e+00, 1.83823529e-01,\n",
       "        0.00000000e+00, 1.98529412e-01, 1.03676471e+01, 1.24779412e+01,\n",
       "        5.41911765e+00, 1.11764706e+01, 1.06397059e+01, 4.77941176e-01,\n",
       "        0.00000000e+00, 0.00000000e+00, 1.44852941e+00, 1.06764706e+01,\n",
       "        1.50294118e+01, 1.29705882e+01, 4.41176471e+00, 6.61764706e-02]),\n",
       " '7': array([ 0.        ,  0.14925373,  5.31343284, 13.17164179, 14.09701493,\n",
       "        10.95522388,  5.09701493,  0.87313433,  0.        ,  1.02985075,\n",
       "        10.32835821, 11.55223881, 11.19402985, 12.34328358,  5.35820896,\n",
       "         0.59701493,  0.        ,  0.67910448,  4.61940299,  2.35820896,\n",
       "         7.17910448, 11.17910448,  3.12686567,  0.10447761,  0.        ,\n",
       "         0.6119403 ,  4.3358209 ,  6.41044776, 12.32835821, 12.30597015,\n",
       "         5.23134328,  0.        ,  0.        ,  1.50746269,  9.14925373,\n",
       "        13.49253731, 14.7761194 , 11.36567164,  4.50746269,  0.        ,\n",
       "         0.        ,  1.07462687,  5.45522388, 11.76865672, 10.88059701,\n",
       "         3.76865672,  0.56716418,  0.        ,  0.        ,  0.10447761,\n",
       "         3.20895522, 12.36567164,  5.85074627,  0.19402985,  0.        ,\n",
       "         0.        ,  0.        ,  0.09701493,  6.64925373, 11.60447761,\n",
       "         2.19402985,  0.01492537,  0.        ,  0.        ]),\n",
       " '8': array([0.00000000e+00, 1.60305344e-01, 5.09160305e+00, 1.13816794e+01,\n",
       "        1.22671756e+01, 6.38167939e+00, 5.57251908e-01, 0.00000000e+00,\n",
       "        3.81679389e-02, 2.00763359e+00, 1.22748092e+01, 1.14045802e+01,\n",
       "        9.34351145e+00, 1.15572519e+01, 2.69465649e+00, 0.00000000e+00,\n",
       "        7.63358779e-03, 2.90076336e+00, 1.13816794e+01, 7.50381679e+00,\n",
       "        8.04580153e+00, 1.13435115e+01, 2.13740458e+00, 0.00000000e+00,\n",
       "        0.00000000e+00, 1.22137405e+00, 8.54198473e+00, 1.31450382e+01,\n",
       "        1.32824427e+01, 7.20610687e+00, 5.87786260e-01, 0.00000000e+00,\n",
       "        0.00000000e+00, 4.88549618e-01, 7.15267176e+00, 1.40992366e+01,\n",
       "        1.27404580e+01, 4.42748092e+00, 9.16030534e-02, 0.00000000e+00,\n",
       "        0.00000000e+00, 1.16030534e+00, 1.06488550e+01, 8.54198473e+00,\n",
       "        8.82442748e+00, 8.29770992e+00, 1.29770992e+00, 0.00000000e+00,\n",
       "        0.00000000e+00, 9.77099237e-01, 1.08931298e+01, 8.14503817e+00,\n",
       "        8.41984733e+00, 9.26717557e+00, 2.31297710e+00, 7.63358779e-03,\n",
       "        0.00000000e+00, 1.67938931e-01, 5.00763359e+00, 1.25648855e+01,\n",
       "        1.28091603e+01, 6.50381679e+00, 1.10687023e+00, 0.00000000e+00]),\n",
       " '9': array([ 0.        ,  0.18181818,  5.81060606, 12.46212121, 11.54545455,\n",
       "         5.53030303,  1.15151515,  0.13636364,  0.        ,  2.29545455,\n",
       "        13.0530303 ,  9.43939394, 10.15909091, 11.53030303,  2.13636364,\n",
       "         0.11363636,  0.        ,  3.31060606, 12.49242424,  5.79545455,\n",
       "         8.63636364, 14.36363636,  2.97727273,  0.03030303,  0.        ,\n",
       "         1.61363636,  9.48484848, 11.97727273, 12.9469697 , 14.13636364,\n",
       "         3.75757576,  0.        ,  0.        ,  0.12878788,  2.37878788,\n",
       "         4.78030303,  4.92424242, 11.61363636,  5.02272727,  0.        ,\n",
       "         0.        ,  0.1969697 ,  0.5530303 ,  0.65151515,  2.25      ,\n",
       "         9.70454545,  6.21969697,  0.03030303,  0.        ,  0.79545455,\n",
       "         6.57575758,  5.38636364,  5.72727273, 10.66666667,  5.64393939,\n",
       "         0.12878788,  0.        ,  0.10606061,  5.85606061, 12.72727273,\n",
       "        13.38636364,  9.31060606,  2.17424242,  0.06818182])}"
      ]
     },
     "execution_count": 117,
     "metadata": {},
     "output_type": "execute_result"
    }
   ],
   "source": [
    "centers"
   ]
  },
  {
   "cell_type": "code",
   "execution_count": null,
   "id": "d631f385",
   "metadata": {},
   "outputs": [],
   "source": []
  },
  {
   "cell_type": "code",
   "execution_count": 131,
   "id": "a6270eac",
   "metadata": {},
   "outputs": [],
   "source": [
    "y_pred =np.array([],dtype= np.int64)\n",
    "for n in range(X_test.shape[0]):\n",
    "    label = -1\n",
    "    min_dist = np.inf\n",
    "    for i in range(10):\n",
    "        d = np.linalg.norm(X_test[n,:]-centers[str(i)]) #fasele ye data nemone az data centers \n",
    "        if d < min_dist:\n",
    "            min_dist=d \n",
    "            label=i\n",
    "        \n",
    "    y_pred= np.append(y_pred,label)\n",
    "    "
   ]
  },
  {
   "cell_type": "code",
   "execution_count": 133,
   "id": "e7b6b38f",
   "metadata": {},
   "outputs": [
    {
     "data": {
      "text/plain": [
       "(array([7, 7, 7, 4, 6, 0, 8, 9, 0, 1, 0, 8, 2, 6, 2, 7, 3, 0, 6, 2, 9, 0,\n",
       "        6, 4, 4, 0, 7, 2, 2, 0, 7, 8, 1, 4, 7, 6, 7, 8, 0, 1, 1, 5, 3, 9,\n",
       "        7, 7, 2, 4, 1, 6, 5, 2, 7, 7, 3, 2, 6, 9, 3, 3, 3, 6, 5, 3, 3, 6,\n",
       "        9, 9, 3, 0, 3, 8, 5, 2, 0, 2, 8, 3, 5, 8, 4, 3, 2, 3, 6, 0, 3, 9,\n",
       "        2, 6, 2, 3, 9, 7, 6, 1, 0, 7, 6, 5, 8, 2, 2, 6, 4, 8, 7, 5, 8, 0,\n",
       "        5, 5, 9, 7, 9, 3, 0, 9, 6, 7, 7, 2, 2, 2, 7, 9, 2, 2, 0, 5, 8, 0,\n",
       "        5, 6, 6, 6, 2, 1, 3, 7, 6, 7, 1, 2, 2, 4, 6, 9, 9, 1, 3, 1, 4, 6,\n",
       "        2, 0, 5, 6, 1, 1, 7, 2, 0, 0, 0, 4, 9, 8, 5, 7, 5, 9, 2, 4, 8, 8,\n",
       "        6, 9, 8, 1, 1, 4, 8, 3, 8, 9, 1, 2, 4, 3, 3, 6, 0, 4, 7, 1, 0, 3,\n",
       "        2, 3, 7, 4, 4, 7, 7, 4, 6, 7, 5, 9, 7, 9, 6, 4, 5, 6, 9, 3, 0, 9,\n",
       "        4, 1, 5, 1, 6, 1, 6, 0, 7, 1, 4, 5, 9, 8, 2, 7, 3, 0, 9, 7, 9, 2,\n",
       "        6, 6, 8, 4, 7, 0, 6, 8, 1, 1, 3, 9, 5, 8, 9, 8, 9, 2, 5, 4, 8, 1,\n",
       "        8, 3, 9, 0, 7, 8, 0, 8, 3, 0, 7, 9, 2, 1, 7, 9, 9, 7, 4, 1, 7, 4,\n",
       "        5, 3, 7, 9, 4, 5, 4, 7, 8, 5, 5, 5, 8, 6, 8, 9, 9, 7, 6, 2, 4, 1,\n",
       "        8, 8, 5, 3, 0, 8, 4, 4, 6, 7, 5, 7, 0, 2, 8, 7, 2, 2, 3, 4, 8, 5,\n",
       "        1, 5, 1, 0, 8, 1, 2, 8, 4, 6, 8, 3, 3, 5, 4, 3, 5, 2, 9, 6, 1, 5,\n",
       "        5, 5, 4, 3, 4, 5, 9, 7, 0, 7, 1, 8, 6, 5, 5, 5, 4, 1, 2, 4, 7, 9,\n",
       "        3, 9, 0, 2, 9, 5, 8, 9, 5, 4, 2, 3, 7, 3, 1, 0, 3, 0, 6, 0, 6, 6,\n",
       "        5, 9, 5, 5, 5, 5, 9, 4, 8, 8, 9, 2, 8, 0, 0, 0, 8, 6, 8, 8, 9, 1,\n",
       "        9, 1, 9, 0, 7, 0, 3, 4, 0, 6, 0, 0, 1, 4, 6, 6, 3, 0, 1, 2, 8, 6,\n",
       "        4, 5, 0, 8, 7, 4, 4, 6, 4, 1], dtype=int64),\n",
       " array([7, 7, 7, 4, 6, 0, 8, 9, 0, 1, 0, 8, 2, 6, 2, 7, 3, 0, 6, 2, 9, 0,\n",
       "        6, 4, 4, 0, 7, 2, 2, 0, 7, 8, 1, 4, 7, 6, 7, 3, 0, 1, 1, 5, 3, 9,\n",
       "        4, 7, 2, 4, 1, 6, 5, 2, 2, 7, 3, 2, 6, 2, 3, 3, 3, 1, 5, 3, 3, 6,\n",
       "        8, 9, 3, 0, 3, 8, 5, 2, 0, 2, 8, 3, 5, 4, 9, 3, 2, 3, 6, 0, 3, 5,\n",
       "        2, 6, 2, 3, 9, 7, 6, 1, 0, 7, 6, 5, 8, 2, 2, 6, 4, 8, 7, 5, 8, 0,\n",
       "        5, 7, 9, 7, 3, 3, 0, 9, 6, 7, 7, 2, 2, 2, 7, 9, 2, 2, 0, 5, 1, 0,\n",
       "        5, 6, 6, 6, 3, 1, 3, 7, 6, 7, 9, 2, 2, 4, 6, 9, 9, 1, 3, 1, 4, 6,\n",
       "        2, 0, 5, 6, 1, 1, 7, 2, 0, 0, 0, 4, 9, 8, 5, 7, 5, 9, 2, 4, 1, 1,\n",
       "        6, 9, 8, 3, 1, 4, 2, 3, 2, 8, 1, 2, 4, 3, 3, 6, 0, 4, 3, 1, 0, 2,\n",
       "        2, 3, 7, 4, 9, 3, 7, 4, 6, 7, 8, 9, 7, 9, 6, 4, 5, 6, 9, 3, 0, 9,\n",
       "        4, 1, 5, 8, 6, 1, 6, 0, 7, 1, 4, 5, 1, 8, 2, 7, 3, 0, 9, 7, 9, 2,\n",
       "        6, 6, 8, 4, 7, 0, 6, 8, 1, 1, 3, 9, 5, 8, 9, 8, 8, 2, 5, 4, 8, 1,\n",
       "        8, 3, 9, 0, 9, 8, 0, 8, 3, 0, 7, 9, 2, 1, 7, 9, 9, 7, 4, 2, 7, 4,\n",
       "        5, 3, 7, 9, 4, 5, 4, 9, 8, 5, 5, 5, 8, 6, 1, 9, 9, 7, 6, 2, 9, 8,\n",
       "        8, 8, 5, 9, 0, 8, 4, 4, 6, 7, 5, 7, 0, 2, 8, 7, 2, 2, 3, 4, 8, 5,\n",
       "        1, 5, 1, 0, 8, 9, 2, 1, 4, 5, 8, 3, 3, 5, 4, 3, 5, 2, 9, 6, 1, 5,\n",
       "        5, 5, 4, 3, 4, 5, 8, 7, 0, 7, 1, 1, 6, 5, 9, 5, 4, 1, 2, 4, 7, 9,\n",
       "        3, 9, 0, 2, 5, 5, 8, 9, 5, 4, 2, 2, 7, 3, 1, 0, 3, 0, 6, 0, 6, 6,\n",
       "        5, 9, 5, 5, 5, 5, 9, 9, 8, 8, 9, 2, 1, 0, 0, 0, 8, 6, 8, 8, 9, 8,\n",
       "        9, 1, 9, 0, 7, 0, 3, 4, 0, 6, 0, 0, 1, 4, 6, 6, 3, 0, 1, 2, 8, 6,\n",
       "        4, 5, 0, 4, 7, 4, 4, 6, 4, 1]))"
      ]
     },
     "execution_count": 133,
     "metadata": {},
     "output_type": "execute_result"
    }
   ],
   "source": [
    "y_pred,y_test"
   ]
  },
  {
   "cell_type": "code",
   "execution_count": 136,
   "id": "5700a20e",
   "metadata": {},
   "outputs": [
    {
     "name": "stdout",
     "output_type": "stream",
     "text": [
      "accuracy is : 0.8955555555555555 \n"
     ]
    }
   ],
   "source": [
    "ACC = np.sum(y_pred== y_test)/y_test.shape[0]\n",
    "print(\"accuracy is : {} \".format(ACC))"
   ]
  },
  {
   "cell_type": "code",
   "execution_count": null,
   "id": "eddaf398",
   "metadata": {},
   "outputs": [],
   "source": []
  }
 ],
 "metadata": {
  "kernelspec": {
   "display_name": "Python 3 (ipykernel)",
   "language": "python",
   "name": "python3"
  },
  "language_info": {
   "codemirror_mode": {
    "name": "ipython",
    "version": 3
   },
   "file_extension": ".py",
   "mimetype": "text/x-python",
   "name": "python",
   "nbconvert_exporter": "python",
   "pygments_lexer": "ipython3",
   "version": "3.10.6"
  }
 },
 "nbformat": 4,
 "nbformat_minor": 5
}
