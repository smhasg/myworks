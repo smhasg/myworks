{
 "cells": [
  {
   "cell_type": "markdown",
   "id": "2f17fc9d",
   "metadata": {},
   "source": [
    "# Calssification:\n",
    "\n",
    "## Example 1:\n",
    "Digital payments are evolving, but so are cyber criminals.\n",
    "\n",
    "According to the Data Breach Index, more than 5 million records are being stolen on a daily basis, a concerning statistic that shows - fraud is still very common both for Card-Present and Card-not Present type of payments.\n",
    "\n",
    "In today’s digital world where trillions of Card transaction happens per day, detection of fraud is challenging.\n",
    "\n",
    "This Dataset sourced by some unnamed institute.\n",
    "\n",
    "Feature Explanation:\n",
    "\n",
    "distancefromhome - the distance from home where the transaction happened.\n",
    "\n",
    "distancefromlast_transaction - the distance from last transaction happened.\n",
    "\n",
    "ratiotomedianpurchaseprice - Ratio of purchased price transaction to median purchase price.\n",
    "\n",
    "repeat_retailer - Is the transaction happened from same retailer.\n",
    "\n",
    "used_chip - Is the transaction through chip (credit card).\n",
    "\n",
    "usedpinnumber - Is the transaction happened by using PIN number.\n",
    "\n",
    "online_order - Is the transaction an online order.\n",
    "\n",
    "fraud - Is the transaction fraudulent.\n",
    "\n",
    "https://www.kaggle.com/datasets/dhanushnarayananr/credit-card-fraud"
   ]
  },
  {
   "cell_type": "code",
   "execution_count": 1,
   "id": "801ed433",
   "metadata": {},
   "outputs": [],
   "source": [
    "import numpy as np\n",
    "import pandas as pd\n",
    "import random\n",
    "\n",
    "import seaborn as sns\n",
    "import matplotlib.pyplot as plt\n",
    "from sklearn.metrics import accuracy_score , precision_score , recall_score , f1_score ,confusion_matrix"
   ]
  },
  {
   "cell_type": "code",
   "execution_count": null,
   "id": "fe7bc50d",
   "metadata": {},
   "outputs": [],
   "source": []
  },
  {
   "cell_type": "code",
   "execution_count": 2,
   "id": "f2aa92fe",
   "metadata": {},
   "outputs": [],
   "source": [
    "data = pd.read_csv('../DATA/card_transdata.csv')"
   ]
  },
  {
   "cell_type": "code",
   "execution_count": 3,
   "id": "f1ddd375",
   "metadata": {},
   "outputs": [
    {
     "data": {
      "text/html": [
       "<div>\n",
       "<style scoped>\n",
       "    .dataframe tbody tr th:only-of-type {\n",
       "        vertical-align: middle;\n",
       "    }\n",
       "\n",
       "    .dataframe tbody tr th {\n",
       "        vertical-align: top;\n",
       "    }\n",
       "\n",
       "    .dataframe thead th {\n",
       "        text-align: right;\n",
       "    }\n",
       "</style>\n",
       "<table border=\"1\" class=\"dataframe\">\n",
       "  <thead>\n",
       "    <tr style=\"text-align: right;\">\n",
       "      <th></th>\n",
       "      <th>distance_from_home</th>\n",
       "      <th>distance_from_last_transaction</th>\n",
       "      <th>ratio_to_median_purchase_price</th>\n",
       "      <th>repeat_retailer</th>\n",
       "      <th>used_chip</th>\n",
       "      <th>used_pin_number</th>\n",
       "      <th>online_order</th>\n",
       "      <th>fraud</th>\n",
       "    </tr>\n",
       "  </thead>\n",
       "  <tbody>\n",
       "    <tr>\n",
       "      <th>0</th>\n",
       "      <td>57.877857</td>\n",
       "      <td>0.311140</td>\n",
       "      <td>1.945940</td>\n",
       "      <td>1.0</td>\n",
       "      <td>1.0</td>\n",
       "      <td>0.0</td>\n",
       "      <td>0.0</td>\n",
       "      <td>0.0</td>\n",
       "    </tr>\n",
       "    <tr>\n",
       "      <th>1</th>\n",
       "      <td>10.829943</td>\n",
       "      <td>0.175592</td>\n",
       "      <td>1.294219</td>\n",
       "      <td>1.0</td>\n",
       "      <td>0.0</td>\n",
       "      <td>0.0</td>\n",
       "      <td>0.0</td>\n",
       "      <td>0.0</td>\n",
       "    </tr>\n",
       "    <tr>\n",
       "      <th>2</th>\n",
       "      <td>5.091079</td>\n",
       "      <td>0.805153</td>\n",
       "      <td>0.427715</td>\n",
       "      <td>1.0</td>\n",
       "      <td>0.0</td>\n",
       "      <td>0.0</td>\n",
       "      <td>1.0</td>\n",
       "      <td>0.0</td>\n",
       "    </tr>\n",
       "    <tr>\n",
       "      <th>3</th>\n",
       "      <td>2.247564</td>\n",
       "      <td>5.600044</td>\n",
       "      <td>0.362663</td>\n",
       "      <td>1.0</td>\n",
       "      <td>1.0</td>\n",
       "      <td>0.0</td>\n",
       "      <td>1.0</td>\n",
       "      <td>0.0</td>\n",
       "    </tr>\n",
       "    <tr>\n",
       "      <th>4</th>\n",
       "      <td>44.190936</td>\n",
       "      <td>0.566486</td>\n",
       "      <td>2.222767</td>\n",
       "      <td>1.0</td>\n",
       "      <td>1.0</td>\n",
       "      <td>0.0</td>\n",
       "      <td>1.0</td>\n",
       "      <td>0.0</td>\n",
       "    </tr>\n",
       "    <tr>\n",
       "      <th>...</th>\n",
       "      <td>...</td>\n",
       "      <td>...</td>\n",
       "      <td>...</td>\n",
       "      <td>...</td>\n",
       "      <td>...</td>\n",
       "      <td>...</td>\n",
       "      <td>...</td>\n",
       "      <td>...</td>\n",
       "    </tr>\n",
       "    <tr>\n",
       "      <th>999995</th>\n",
       "      <td>2.207101</td>\n",
       "      <td>0.112651</td>\n",
       "      <td>1.626798</td>\n",
       "      <td>1.0</td>\n",
       "      <td>1.0</td>\n",
       "      <td>0.0</td>\n",
       "      <td>0.0</td>\n",
       "      <td>0.0</td>\n",
       "    </tr>\n",
       "    <tr>\n",
       "      <th>999996</th>\n",
       "      <td>19.872726</td>\n",
       "      <td>2.683904</td>\n",
       "      <td>2.778303</td>\n",
       "      <td>1.0</td>\n",
       "      <td>1.0</td>\n",
       "      <td>0.0</td>\n",
       "      <td>0.0</td>\n",
       "      <td>0.0</td>\n",
       "    </tr>\n",
       "    <tr>\n",
       "      <th>999997</th>\n",
       "      <td>2.914857</td>\n",
       "      <td>1.472687</td>\n",
       "      <td>0.218075</td>\n",
       "      <td>1.0</td>\n",
       "      <td>1.0</td>\n",
       "      <td>0.0</td>\n",
       "      <td>1.0</td>\n",
       "      <td>0.0</td>\n",
       "    </tr>\n",
       "    <tr>\n",
       "      <th>999998</th>\n",
       "      <td>4.258729</td>\n",
       "      <td>0.242023</td>\n",
       "      <td>0.475822</td>\n",
       "      <td>1.0</td>\n",
       "      <td>0.0</td>\n",
       "      <td>0.0</td>\n",
       "      <td>1.0</td>\n",
       "      <td>0.0</td>\n",
       "    </tr>\n",
       "    <tr>\n",
       "      <th>999999</th>\n",
       "      <td>58.108125</td>\n",
       "      <td>0.318110</td>\n",
       "      <td>0.386920</td>\n",
       "      <td>1.0</td>\n",
       "      <td>1.0</td>\n",
       "      <td>0.0</td>\n",
       "      <td>1.0</td>\n",
       "      <td>0.0</td>\n",
       "    </tr>\n",
       "  </tbody>\n",
       "</table>\n",
       "<p>1000000 rows × 8 columns</p>\n",
       "</div>"
      ],
      "text/plain": [
       "        distance_from_home  distance_from_last_transaction  \\\n",
       "0                57.877857                        0.311140   \n",
       "1                10.829943                        0.175592   \n",
       "2                 5.091079                        0.805153   \n",
       "3                 2.247564                        5.600044   \n",
       "4                44.190936                        0.566486   \n",
       "...                    ...                             ...   \n",
       "999995            2.207101                        0.112651   \n",
       "999996           19.872726                        2.683904   \n",
       "999997            2.914857                        1.472687   \n",
       "999998            4.258729                        0.242023   \n",
       "999999           58.108125                        0.318110   \n",
       "\n",
       "        ratio_to_median_purchase_price  repeat_retailer  used_chip  \\\n",
       "0                             1.945940              1.0        1.0   \n",
       "1                             1.294219              1.0        0.0   \n",
       "2                             0.427715              1.0        0.0   \n",
       "3                             0.362663              1.0        1.0   \n",
       "4                             2.222767              1.0        1.0   \n",
       "...                                ...              ...        ...   \n",
       "999995                        1.626798              1.0        1.0   \n",
       "999996                        2.778303              1.0        1.0   \n",
       "999997                        0.218075              1.0        1.0   \n",
       "999998                        0.475822              1.0        0.0   \n",
       "999999                        0.386920              1.0        1.0   \n",
       "\n",
       "        used_pin_number  online_order  fraud  \n",
       "0                   0.0           0.0    0.0  \n",
       "1                   0.0           0.0    0.0  \n",
       "2                   0.0           1.0    0.0  \n",
       "3                   0.0           1.0    0.0  \n",
       "4                   0.0           1.0    0.0  \n",
       "...                 ...           ...    ...  \n",
       "999995              0.0           0.0    0.0  \n",
       "999996              0.0           0.0    0.0  \n",
       "999997              0.0           1.0    0.0  \n",
       "999998              0.0           1.0    0.0  \n",
       "999999              0.0           1.0    0.0  \n",
       "\n",
       "[1000000 rows x 8 columns]"
      ]
     },
     "execution_count": 3,
     "metadata": {},
     "output_type": "execute_result"
    }
   ],
   "source": [
    "data"
   ]
  },
  {
   "cell_type": "code",
   "execution_count": 4,
   "id": "2992327e",
   "metadata": {},
   "outputs": [
    {
     "name": "stdout",
     "output_type": "stream",
     "text": [
      "<class 'pandas.core.frame.DataFrame'>\n",
      "RangeIndex: 1000000 entries, 0 to 999999\n",
      "Data columns (total 8 columns):\n",
      " #   Column                          Non-Null Count    Dtype  \n",
      "---  ------                          --------------    -----  \n",
      " 0   distance_from_home              1000000 non-null  float64\n",
      " 1   distance_from_last_transaction  1000000 non-null  float64\n",
      " 2   ratio_to_median_purchase_price  1000000 non-null  float64\n",
      " 3   repeat_retailer                 1000000 non-null  float64\n",
      " 4   used_chip                       1000000 non-null  float64\n",
      " 5   used_pin_number                 1000000 non-null  float64\n",
      " 6   online_order                    1000000 non-null  float64\n",
      " 7   fraud                           1000000 non-null  float64\n",
      "dtypes: float64(8)\n",
      "memory usage: 61.0 MB\n"
     ]
    }
   ],
   "source": [
    "data.info()"
   ]
  },
  {
   "cell_type": "code",
   "execution_count": 5,
   "id": "2b2603f3",
   "metadata": {},
   "outputs": [
    {
     "data": {
      "text/html": [
       "<div>\n",
       "<style scoped>\n",
       "    .dataframe tbody tr th:only-of-type {\n",
       "        vertical-align: middle;\n",
       "    }\n",
       "\n",
       "    .dataframe tbody tr th {\n",
       "        vertical-align: top;\n",
       "    }\n",
       "\n",
       "    .dataframe thead th {\n",
       "        text-align: right;\n",
       "    }\n",
       "</style>\n",
       "<table border=\"1\" class=\"dataframe\">\n",
       "  <thead>\n",
       "    <tr style=\"text-align: right;\">\n",
       "      <th></th>\n",
       "      <th>distance_from_home</th>\n",
       "      <th>distance_from_last_transaction</th>\n",
       "      <th>ratio_to_median_purchase_price</th>\n",
       "      <th>repeat_retailer</th>\n",
       "      <th>used_chip</th>\n",
       "      <th>used_pin_number</th>\n",
       "      <th>online_order</th>\n",
       "      <th>fraud</th>\n",
       "    </tr>\n",
       "  </thead>\n",
       "  <tbody>\n",
       "    <tr>\n",
       "      <th>count</th>\n",
       "      <td>1000000.000000</td>\n",
       "      <td>1000000.000000</td>\n",
       "      <td>1000000.000000</td>\n",
       "      <td>1000000.000000</td>\n",
       "      <td>1000000.000000</td>\n",
       "      <td>1000000.000000</td>\n",
       "      <td>1000000.000000</td>\n",
       "      <td>1000000.000000</td>\n",
       "    </tr>\n",
       "    <tr>\n",
       "      <th>mean</th>\n",
       "      <td>26.628792</td>\n",
       "      <td>5.036519</td>\n",
       "      <td>1.824182</td>\n",
       "      <td>0.881536</td>\n",
       "      <td>0.350399</td>\n",
       "      <td>0.100608</td>\n",
       "      <td>0.650552</td>\n",
       "      <td>0.087403</td>\n",
       "    </tr>\n",
       "    <tr>\n",
       "      <th>std</th>\n",
       "      <td>65.390784</td>\n",
       "      <td>25.843093</td>\n",
       "      <td>2.799589</td>\n",
       "      <td>0.323157</td>\n",
       "      <td>0.477095</td>\n",
       "      <td>0.300809</td>\n",
       "      <td>0.476796</td>\n",
       "      <td>0.282425</td>\n",
       "    </tr>\n",
       "    <tr>\n",
       "      <th>min</th>\n",
       "      <td>0.004874</td>\n",
       "      <td>0.000118</td>\n",
       "      <td>0.004399</td>\n",
       "      <td>0.000000</td>\n",
       "      <td>0.000000</td>\n",
       "      <td>0.000000</td>\n",
       "      <td>0.000000</td>\n",
       "      <td>0.000000</td>\n",
       "    </tr>\n",
       "    <tr>\n",
       "      <th>25%</th>\n",
       "      <td>3.878008</td>\n",
       "      <td>0.296671</td>\n",
       "      <td>0.475673</td>\n",
       "      <td>1.000000</td>\n",
       "      <td>0.000000</td>\n",
       "      <td>0.000000</td>\n",
       "      <td>0.000000</td>\n",
       "      <td>0.000000</td>\n",
       "    </tr>\n",
       "    <tr>\n",
       "      <th>50%</th>\n",
       "      <td>9.967760</td>\n",
       "      <td>0.998650</td>\n",
       "      <td>0.997717</td>\n",
       "      <td>1.000000</td>\n",
       "      <td>0.000000</td>\n",
       "      <td>0.000000</td>\n",
       "      <td>1.000000</td>\n",
       "      <td>0.000000</td>\n",
       "    </tr>\n",
       "    <tr>\n",
       "      <th>75%</th>\n",
       "      <td>25.743985</td>\n",
       "      <td>3.355748</td>\n",
       "      <td>2.096370</td>\n",
       "      <td>1.000000</td>\n",
       "      <td>1.000000</td>\n",
       "      <td>0.000000</td>\n",
       "      <td>1.000000</td>\n",
       "      <td>0.000000</td>\n",
       "    </tr>\n",
       "    <tr>\n",
       "      <th>max</th>\n",
       "      <td>10632.723672</td>\n",
       "      <td>11851.104565</td>\n",
       "      <td>267.802942</td>\n",
       "      <td>1.000000</td>\n",
       "      <td>1.000000</td>\n",
       "      <td>1.000000</td>\n",
       "      <td>1.000000</td>\n",
       "      <td>1.000000</td>\n",
       "    </tr>\n",
       "  </tbody>\n",
       "</table>\n",
       "</div>"
      ],
      "text/plain": [
       "       distance_from_home  distance_from_last_transaction  \\\n",
       "count      1000000.000000                  1000000.000000   \n",
       "mean            26.628792                        5.036519   \n",
       "std             65.390784                       25.843093   \n",
       "min              0.004874                        0.000118   \n",
       "25%              3.878008                        0.296671   \n",
       "50%              9.967760                        0.998650   \n",
       "75%             25.743985                        3.355748   \n",
       "max          10632.723672                    11851.104565   \n",
       "\n",
       "       ratio_to_median_purchase_price  repeat_retailer       used_chip  \\\n",
       "count                  1000000.000000   1000000.000000  1000000.000000   \n",
       "mean                         1.824182         0.881536        0.350399   \n",
       "std                          2.799589         0.323157        0.477095   \n",
       "min                          0.004399         0.000000        0.000000   \n",
       "25%                          0.475673         1.000000        0.000000   \n",
       "50%                          0.997717         1.000000        0.000000   \n",
       "75%                          2.096370         1.000000        1.000000   \n",
       "max                        267.802942         1.000000        1.000000   \n",
       "\n",
       "       used_pin_number    online_order           fraud  \n",
       "count   1000000.000000  1000000.000000  1000000.000000  \n",
       "mean          0.100608        0.650552        0.087403  \n",
       "std           0.300809        0.476796        0.282425  \n",
       "min           0.000000        0.000000        0.000000  \n",
       "25%           0.000000        0.000000        0.000000  \n",
       "50%           0.000000        1.000000        0.000000  \n",
       "75%           0.000000        1.000000        0.000000  \n",
       "max           1.000000        1.000000        1.000000  "
      ]
     },
     "execution_count": 5,
     "metadata": {},
     "output_type": "execute_result"
    }
   ],
   "source": [
    "data.describe()"
   ]
  },
  {
   "attachments": {},
   "cell_type": "markdown",
   "id": "71ae1dd8",
   "metadata": {},
   "source": [
    "# visualization"
   ]
  },
  {
   "cell_type": "code",
   "execution_count": 6,
   "id": "9242ddc9",
   "metadata": {},
   "outputs": [
    {
     "name": "stdout",
     "output_type": "stream",
     "text": [
      "Percentage of fraud id equal to 8.7403 %\n"
     ]
    },
    {
     "data": {
      "image/png": "[encoded data removed]",
      "text/plain": [
       "<Figure size 432x288 with 1 Axes>"
      ]
     },
     "metadata": {
      "needs_background": "light"
     },
     "output_type": "display_data"
    }
   ],
   "source": [
    "print('Percentage of fraud id equal to {} %'.format(100*data[data['fraud'] == 1].shape[0]/data.shape[0]))\n",
    "sns.countplot(x='fraud', data=data);"
   ]
  },
  {
   "cell_type": "code",
   "execution_count": 8,
   "id": "ae4ca253",
   "metadata": {},
   "outputs": [
    {
     "data": {
      "image/png": "[encoded data removed]",
      "text/plain": [
       "<Figure size 432x288 with 1 Axes>"
      ]
     },
     "metadata": {
      "needs_background": "light"
     },
     "output_type": "display_data"
    }
   ],
   "source": [
    "sns.countplot(x='online_order', data=data, hue='fraud');"
   ]
  },
  {
   "cell_type": "code",
   "execution_count": 7,
   "id": "a9dbca5b",
   "metadata": {},
   "outputs": [],
   "source": [
    "fraud_data = data[data['fraud'] == 1]"
   ]
  },
  {
   "cell_type": "code",
   "execution_count": 8,
   "id": "92a52980",
   "metadata": {},
   "outputs": [],
   "source": [
    "N = fraud_data.shape[0]\n",
    "online_fraud_percent = fraud_data[fraud_data['online_order'] == 1].shape[0]/N * 100\n",
    "used_pin_number_percent = fraud_data[fraud_data['used_pin_number'] == 1].shape[0]/N * 100\n",
    "repeat_retailer_percent = fraud_data[fraud_data['repeat_retailer'] == 1].shape[0]/N * 100\n",
    "used_chip_percent = fraud_data[fraud_data['used_chip'] == 1].shape[0]/N * 100"
   ]
  },
  {
   "cell_type": "code",
   "execution_count": 9,
   "id": "834adb3a",
   "metadata": {},
   "outputs": [
    {
     "data": {
      "text/plain": [
       "(94.63176321178906, 0.31234625813759254, 88.0118531400524, 25.639852178986995)"
      ]
     },
     "execution_count": 9,
     "metadata": {},
     "output_type": "execute_result"
    }
   ],
   "source": [
    "online_fraud_percent, used_pin_number_percent, repeat_retailer_percent, used_chip_percent"
   ]
  },
  {
   "cell_type": "code",
   "execution_count": 12,
   "id": "c70dd04c",
   "metadata": {},
   "outputs": [
    {
     "data": {
      "text/plain": [
       "<AxesSubplot:xlabel='ratio_to_median_purchase_price', ylabel='Count'>"
      ]
     },
     "execution_count": 12,
     "metadata": {},
     "output_type": "execute_result"
    },
    {
     "data": {
      "image/png": "[encoded data removed]",
      "text/plain": [
       "<Figure size 432x288 with 1 Axes>"
      ]
     },
     "metadata": {
      "needs_background": "light"
     },
     "output_type": "display_data"
    }
   ],
   "source": [
    "sns.histplot(x='ratio_to_median_purchase_price', data=fraud_data)"
   ]
  },
  {
   "cell_type": "code",
   "execution_count": 13,
   "id": "8cd77ead",
   "metadata": {},
   "outputs": [
    {
     "data": {
      "text/plain": [
       "<AxesSubplot:xlabel='ratio_to_median_purchase_price', ylabel='Count'>"
      ]
     },
     "execution_count": 13,
     "metadata": {},
     "output_type": "execute_result"
    },
    {
     "data": {
      "image/png": "[encoded data removed]",
      "text/plain": [
       "<Figure size 432x288 with 1 Axes>"
      ]
     },
     "metadata": {
      "needs_background": "light"
     },
     "output_type": "display_data"
    }
   ],
   "source": [
    "sns.histplot(x='ratio_to_median_purchase_price', data=data[data['fraud']!=1])"
   ]
  },
  {
   "cell_type": "code",
   "execution_count": 10,
   "id": "f9e9b546",
   "metadata": {},
   "outputs": [
    {
     "data": {
      "text/html": [
       "<div>\n",
       "<style scoped>\n",
       "    .dataframe tbody tr th:only-of-type {\n",
       "        vertical-align: middle;\n",
       "    }\n",
       "\n",
       "    .dataframe tbody tr th {\n",
       "        vertical-align: top;\n",
       "    }\n",
       "\n",
       "    .dataframe thead th {\n",
       "        text-align: right;\n",
       "    }\n",
       "</style>\n",
       "<table border=\"1\" class=\"dataframe\">\n",
       "  <thead>\n",
       "    <tr style=\"text-align: right;\">\n",
       "      <th></th>\n",
       "      <th>distance_from_home</th>\n",
       "      <th>distance_from_last_transaction</th>\n",
       "      <th>ratio_to_median_purchase_price</th>\n",
       "      <th>repeat_retailer</th>\n",
       "      <th>used_chip</th>\n",
       "      <th>used_pin_number</th>\n",
       "      <th>online_order</th>\n",
       "      <th>fraud</th>\n",
       "    </tr>\n",
       "  </thead>\n",
       "  <tbody>\n",
       "    <tr>\n",
       "      <th>distance_from_home</th>\n",
       "      <td>1.000000</td>\n",
       "      <td>0.000193</td>\n",
       "      <td>-0.001374</td>\n",
       "      <td>0.143124</td>\n",
       "      <td>-0.000697</td>\n",
       "      <td>-0.001622</td>\n",
       "      <td>-0.001301</td>\n",
       "      <td>0.187571</td>\n",
       "    </tr>\n",
       "    <tr>\n",
       "      <th>distance_from_last_transaction</th>\n",
       "      <td>0.000193</td>\n",
       "      <td>1.000000</td>\n",
       "      <td>0.001013</td>\n",
       "      <td>-0.000928</td>\n",
       "      <td>0.002055</td>\n",
       "      <td>-0.000899</td>\n",
       "      <td>0.000141</td>\n",
       "      <td>0.091917</td>\n",
       "    </tr>\n",
       "    <tr>\n",
       "      <th>ratio_to_median_purchase_price</th>\n",
       "      <td>-0.001374</td>\n",
       "      <td>0.001013</td>\n",
       "      <td>1.000000</td>\n",
       "      <td>0.001374</td>\n",
       "      <td>0.000587</td>\n",
       "      <td>0.000942</td>\n",
       "      <td>-0.000330</td>\n",
       "      <td>0.462305</td>\n",
       "    </tr>\n",
       "    <tr>\n",
       "      <th>repeat_retailer</th>\n",
       "      <td>0.143124</td>\n",
       "      <td>-0.000928</td>\n",
       "      <td>0.001374</td>\n",
       "      <td>1.000000</td>\n",
       "      <td>-0.001345</td>\n",
       "      <td>-0.000417</td>\n",
       "      <td>-0.000532</td>\n",
       "      <td>-0.001357</td>\n",
       "    </tr>\n",
       "    <tr>\n",
       "      <th>used_chip</th>\n",
       "      <td>-0.000697</td>\n",
       "      <td>0.002055</td>\n",
       "      <td>0.000587</td>\n",
       "      <td>-0.001345</td>\n",
       "      <td>1.000000</td>\n",
       "      <td>-0.001393</td>\n",
       "      <td>-0.000219</td>\n",
       "      <td>-0.060975</td>\n",
       "    </tr>\n",
       "    <tr>\n",
       "      <th>used_pin_number</th>\n",
       "      <td>-0.001622</td>\n",
       "      <td>-0.000899</td>\n",
       "      <td>0.000942</td>\n",
       "      <td>-0.000417</td>\n",
       "      <td>-0.001393</td>\n",
       "      <td>1.000000</td>\n",
       "      <td>-0.000291</td>\n",
       "      <td>-0.100293</td>\n",
       "    </tr>\n",
       "    <tr>\n",
       "      <th>online_order</th>\n",
       "      <td>-0.001301</td>\n",
       "      <td>0.000141</td>\n",
       "      <td>-0.000330</td>\n",
       "      <td>-0.000532</td>\n",
       "      <td>-0.000219</td>\n",
       "      <td>-0.000291</td>\n",
       "      <td>1.000000</td>\n",
       "      <td>0.191973</td>\n",
       "    </tr>\n",
       "    <tr>\n",
       "      <th>fraud</th>\n",
       "      <td>0.187571</td>\n",
       "      <td>0.091917</td>\n",
       "      <td>0.462305</td>\n",
       "      <td>-0.001357</td>\n",
       "      <td>-0.060975</td>\n",
       "      <td>-0.100293</td>\n",
       "      <td>0.191973</td>\n",
       "      <td>1.000000</td>\n",
       "    </tr>\n",
       "  </tbody>\n",
       "</table>\n",
       "</div>"
      ],
      "text/plain": [
       "                                distance_from_home  \\\n",
       "distance_from_home                        1.000000   \n",
       "distance_from_last_transaction            0.000193   \n",
       "ratio_to_median_purchase_price           -0.001374   \n",
       "repeat_retailer                           0.143124   \n",
       "used_chip                                -0.000697   \n",
       "used_pin_number                          -0.001622   \n",
       "online_order                             -0.001301   \n",
       "fraud                                     0.187571   \n",
       "\n",
       "                                distance_from_last_transaction  \\\n",
       "distance_from_home                                    0.000193   \n",
       "distance_from_last_transaction                        1.000000   \n",
       "ratio_to_median_purchase_price                        0.001013   \n",
       "repeat_retailer                                      -0.000928   \n",
       "used_chip                                             0.002055   \n",
       "used_pin_number                                      -0.000899   \n",
       "online_order                                          0.000141   \n",
       "fraud                                                 0.091917   \n",
       "\n",
       "                                ratio_to_median_purchase_price  \\\n",
       "distance_from_home                                   -0.001374   \n",
       "distance_from_last_transaction                        0.001013   \n",
       "ratio_to_median_purchase_price                        1.000000   \n",
       "repeat_retailer                                       0.001374   \n",
       "used_chip                                             0.000587   \n",
       "used_pin_number                                       0.000942   \n",
       "online_order                                         -0.000330   \n",
       "fraud                                                 0.462305   \n",
       "\n",
       "                                repeat_retailer  used_chip  used_pin_number  \\\n",
       "distance_from_home                     0.143124  -0.000697        -0.001622   \n",
       "distance_from_last_transaction        -0.000928   0.002055        -0.000899   \n",
       "ratio_to_median_purchase_price         0.001374   0.000587         0.000942   \n",
       "repeat_retailer                        1.000000  -0.001345        -0.000417   \n",
       "used_chip                             -0.001345   1.000000        -0.001393   \n",
       "used_pin_number                       -0.000417  -0.001393         1.000000   \n",
       "online_order                          -0.000532  -0.000219        -0.000291   \n",
       "fraud                                 -0.001357  -0.060975        -0.100293   \n",
       "\n",
       "                                online_order     fraud  \n",
       "distance_from_home                 -0.001301  0.187571  \n",
       "distance_from_last_transaction      0.000141  0.091917  \n",
       "ratio_to_median_purchase_price     -0.000330  0.462305  \n",
       "repeat_retailer                    -0.000532 -0.001357  \n",
       "used_chip                          -0.000219 -0.060975  \n",
       "used_pin_number                    -0.000291 -0.100293  \n",
       "online_order                        1.000000  0.191973  \n",
       "fraud                               0.191973  1.000000  "
      ]
     },
     "execution_count": 10,
     "metadata": {},
     "output_type": "execute_result"
    }
   ],
   "source": [
    "corr = data.corr()\n",
    "\n",
    "corr"
   ]
  },
  {
   "cell_type": "code",
   "execution_count": 11,
   "id": "09d1f0db",
   "metadata": {},
   "outputs": [],
   "source": [
    "from sklearn.model_selection import train_test_split"
   ]
  },
  {
   "cell_type": "code",
   "execution_count": 12,
   "id": "12f95769",
   "metadata": {},
   "outputs": [],
   "source": [
    "non_fraud = data.loc[data['fraud']==0, :].iloc[random.sample(range(912597), fraud_data.shape[0])]\n",
    "df = pd.concat([non_fraud, fraud_data]).reset_index(drop=True)\n",
    "\n",
    "X = df.drop(columns=['fraud'])\n",
    "y = df['fraud']"
   ]
  },
  {
   "cell_type": "code",
   "execution_count": 13,
   "id": "589ada11",
   "metadata": {},
   "outputs": [],
   "source": [
    "X_train, X_test, y_train, y_test = train_test_split(X, y, test_size=0.4)"
   ]
  },
  {
   "cell_type": "code",
   "execution_count": 14,
   "id": "0fee7823",
   "metadata": {},
   "outputs": [
    {
     "data": {
      "text/plain": [
       "((104883, 7), (69923, 7), (104883,), (69923,))"
      ]
     },
     "execution_count": 14,
     "metadata": {},
     "output_type": "execute_result"
    }
   ],
   "source": [
    "X_train.shape, X_test.shape, y_train.shape, y_test.shape"
   ]
  },
  {
   "cell_type": "code",
   "execution_count": 15,
   "id": "d8037f45",
   "metadata": {},
   "outputs": [],
   "source": [
    "from sklearn.svm import SVC\n",
    "from sklearn.metrics import accuracy_score"
   ]
  },
  {
   "cell_type": "code",
   "execution_count": 16,
   "id": "a727f50a",
   "metadata": {},
   "outputs": [],
   "source": [
    "X = data.drop(columns=[\"fraud\"])\n",
    "y= data[\"fraud\"]"
   ]
  },
  {
   "cell_type": "code",
   "execution_count": 17,
   "id": "bd6e0bcd",
   "metadata": {},
   "outputs": [
    {
     "data": {
      "text/plain": [
       "((1000000, 7), (1000000,))"
      ]
     },
     "execution_count": 17,
     "metadata": {},
     "output_type": "execute_result"
    }
   ],
   "source": [
    "X.shape , y.shape "
   ]
  },
  {
   "attachments": {},
   "cell_type": "markdown",
   "id": "e6a64cd5",
   "metadata": {},
   "source": [
    "# DecisionTreeClassifier"
   ]
  },
  {
   "cell_type": "code",
   "execution_count": 18,
   "id": "6faefab6",
   "metadata": {},
   "outputs": [],
   "source": [
    "from sklearn.tree import DecisionTreeClassifier as DTC"
   ]
  },
  {
   "cell_type": "code",
   "execution_count": 20,
   "id": "404c4053",
   "metadata": {},
   "outputs": [
    {
     "data": {
      "text/plain": [
       "DecisionTreeClassifier()"
      ]
     },
     "execution_count": 20,
     "metadata": {},
     "output_type": "execute_result"
    }
   ],
   "source": [
    "clf = DTC(criterion=\"gini\")\n",
    "clf.fit(X_train,y_train)\n",
    "## so fast \n"
   ]
  },
  {
   "cell_type": "code",
   "execution_count": 21,
   "id": "24919c2c",
   "metadata": {},
   "outputs": [],
   "source": [
    "y_pred = clf.predict(X_test)"
   ]
  },
  {
   "cell_type": "code",
   "execution_count": 29,
   "id": "f6069008",
   "metadata": {},
   "outputs": [],
   "source": [
    "from sklearn.metrics import accuracy_score , precision_score , recall_score , f1_score ,confusion_matrix"
   ]
  },
  {
   "cell_type": "code",
   "execution_count": 28,
   "id": "83939740",
   "metadata": {},
   "outputs": [
    {
     "name": "stdout",
     "output_type": "stream",
     "text": [
      "the accuracy_score is : 0.9998998898788668 \n",
      "the precision_score is : 0.999885697956851 \n",
      "the recall_score is : 0.9999142710178888 \n",
      "the f1_score  is : 0.9998999842832444 \n"
     ]
    }
   ],
   "source": [
    "acc = accuracy_score(y_test , y_pred)\n",
    "print (\"the {} is : {} \".format(\"accuracy_score\",acc))\n",
    "\n",
    "pre = precision_score(y_test , y_pred)\n",
    "print (\"the {} is : {} \".format(\"precision_score\",pre))\n",
    "\n",
    "rec = recall_score(y_test , y_pred)\n",
    "print (\"the {} is : {} \".format(\"recall_score\",rec))\n",
    "\n",
    "f1 = f1_score (y_test , y_pred)\n",
    "print (\"the {} is : {} \".format(\"f1_score \",f1))"
   ]
  },
  {
   "cell_type": "code",
   "execution_count": 42,
   "id": "19e547a0",
   "metadata": {},
   "outputs": [
    {
     "data": {
      "text/plain": [
       "array([[34927,     2],\n",
       "       [    1, 34993]])"
      ]
     },
     "execution_count": 42,
     "metadata": {},
     "output_type": "execute_result"
    }
   ],
   "source": [
    "confusion_matrix(y_test,y_pred)"
   ]
  },
  {
   "attachments": {},
   "cell_type": "markdown",
   "id": "f6daffbc",
   "metadata": {},
   "source": [
    "# RandomForestClassifier "
   ]
  },
  {
   "cell_type": "code",
   "execution_count": 34,
   "id": "206a786b",
   "metadata": {},
   "outputs": [],
   "source": [
    "from sklearn.ensemble import RandomForestClassifier as RFC"
   ]
  },
  {
   "cell_type": "code",
   "execution_count": 44,
   "id": "8416ac5b",
   "metadata": {},
   "outputs": [],
   "source": [
    "clf = RFC ( n_estimators=10,criterion=\"gini\")\n",
    "clf.fit(X_train,y_train)\n",
    "y_pred= clf.predict(X_test)"
   ]
  },
  {
   "cell_type": "code",
   "execution_count": 45,
   "id": "87541448",
   "metadata": {},
   "outputs": [
    {
     "name": "stdout",
     "output_type": "stream",
     "text": [
      "the accuracy_score is : 0.9999713971082477 \n",
      "the precision_score is : 0.9999428506114985 \n",
      "the recall_score is : 1.0 \n",
      "the f1_score  is : 0.9999714244892127 \n"
     ]
    }
   ],
   "source": [
    "acc = accuracy_score(y_test , y_pred)\n",
    "print (\"the {} is : {} \".format(\"accuracy_score\",acc))\n",
    "\n",
    "pre = precision_score(y_test , y_pred)\n",
    "print (\"the {} is : {} \".format(\"precision_score\",pre))\n",
    "\n",
    "rec = recall_score(y_test , y_pred)\n",
    "print (\"the {} is : {} \".format(\"recall_score\",rec))\n",
    "\n",
    "f1 = f1_score (y_test , y_pred)\n",
    "print (\"the {} is : {} \".format(\"f1_score \",f1))"
   ]
  },
  {
   "cell_type": "code",
   "execution_count": 46,
   "id": "bb47288d",
   "metadata": {},
   "outputs": [
    {
     "data": {
      "text/plain": [
       "array([[34927,     2],\n",
       "       [    0, 34994]])"
      ]
     },
     "execution_count": 46,
     "metadata": {},
     "output_type": "execute_result"
    }
   ],
   "source": [
    "confusion_matrix(y_test,y_pred)"
   ]
  },
  {
   "cell_type": "code",
   "execution_count": null,
   "id": "b113cb98",
   "metadata": {},
   "outputs": [],
   "source": []
  }
 ],
 "metadata": {
  "kernelspec": {
   "display_name": "smhasg",
   "language": "python",
   "name": "python3"
  },
  "language_info": {
   "codemirror_mode": {
    "name": "ipython",
    "version": 3
   },
   "file_extension": ".py",
   "mimetype": "text/x-python",
   "name": "python",
   "nbconvert_exporter": "python",
   "pygments_lexer": "ipython3",
   "version": "3.6.13 |Anaconda, Inc.| (default, Jun  4 2021, 14:25:59) \n[GCC 7.5.0]"
  },
  "vscode": {
   "interpreter": {
    "hash": "b407113d009f22f97abf58a828fe6d3e31109c4c0a03ad6ab5fc72489dbaaeb5"
   }
  }
 },
 "nbformat": 4,
 "nbformat_minor": 5
}
