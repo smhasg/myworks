{
 "cells": [
  {
   "cell_type": "code",
   "execution_count": 1,
   "metadata": {},
   "outputs": [],
   "source": [
    "#!pip install imbalanced-learn"
   ]
  },
  {
   "cell_type": "code",
   "execution_count": 2,
   "metadata": {},
   "outputs": [],
   "source": [
    "import numpy as np \n",
    "import seaborn as sns \n",
    "import pandas as pd \n",
    "import matplotlib.pyplot as plt "
   ]
  },
  {
   "cell_type": "code",
   "execution_count": 3,
   "metadata": {},
   "outputs": [
    {
     "data": {
      "text/html": [
       "<div>\n",
       "<style scoped>\n",
       "    .dataframe tbody tr th:only-of-type {\n",
       "        vertical-align: middle;\n",
       "    }\n",
       "\n",
       "    .dataframe tbody tr th {\n",
       "        vertical-align: top;\n",
       "    }\n",
       "\n",
       "    .dataframe thead th {\n",
       "        text-align: right;\n",
       "    }\n",
       "</style>\n",
       "<table border=\"1\" class=\"dataframe\">\n",
       "  <thead>\n",
       "    <tr style=\"text-align: right;\">\n",
       "      <th></th>\n",
       "      <th>distance_from_home</th>\n",
       "      <th>distance_from_last_transaction</th>\n",
       "      <th>ratio_to_median_purchase_price</th>\n",
       "      <th>repeat_retailer</th>\n",
       "      <th>used_chip</th>\n",
       "      <th>used_pin_number</th>\n",
       "      <th>online_order</th>\n",
       "      <th>fraud</th>\n",
       "    </tr>\n",
       "  </thead>\n",
       "  <tbody>\n",
       "    <tr>\n",
       "      <th>0</th>\n",
       "      <td>57.877857</td>\n",
       "      <td>0.311140</td>\n",
       "      <td>1.945940</td>\n",
       "      <td>1.0</td>\n",
       "      <td>1.0</td>\n",
       "      <td>0.0</td>\n",
       "      <td>0.0</td>\n",
       "      <td>0.0</td>\n",
       "    </tr>\n",
       "    <tr>\n",
       "      <th>1</th>\n",
       "      <td>10.829943</td>\n",
       "      <td>0.175592</td>\n",
       "      <td>1.294219</td>\n",
       "      <td>1.0</td>\n",
       "      <td>0.0</td>\n",
       "      <td>0.0</td>\n",
       "      <td>0.0</td>\n",
       "      <td>0.0</td>\n",
       "    </tr>\n",
       "    <tr>\n",
       "      <th>2</th>\n",
       "      <td>5.091079</td>\n",
       "      <td>0.805153</td>\n",
       "      <td>0.427715</td>\n",
       "      <td>1.0</td>\n",
       "      <td>0.0</td>\n",
       "      <td>0.0</td>\n",
       "      <td>1.0</td>\n",
       "      <td>0.0</td>\n",
       "    </tr>\n",
       "    <tr>\n",
       "      <th>3</th>\n",
       "      <td>2.247564</td>\n",
       "      <td>5.600044</td>\n",
       "      <td>0.362663</td>\n",
       "      <td>1.0</td>\n",
       "      <td>1.0</td>\n",
       "      <td>0.0</td>\n",
       "      <td>1.0</td>\n",
       "      <td>0.0</td>\n",
       "    </tr>\n",
       "    <tr>\n",
       "      <th>4</th>\n",
       "      <td>44.190936</td>\n",
       "      <td>0.566486</td>\n",
       "      <td>2.222767</td>\n",
       "      <td>1.0</td>\n",
       "      <td>1.0</td>\n",
       "      <td>0.0</td>\n",
       "      <td>1.0</td>\n",
       "      <td>0.0</td>\n",
       "    </tr>\n",
       "    <tr>\n",
       "      <th>...</th>\n",
       "      <td>...</td>\n",
       "      <td>...</td>\n",
       "      <td>...</td>\n",
       "      <td>...</td>\n",
       "      <td>...</td>\n",
       "      <td>...</td>\n",
       "      <td>...</td>\n",
       "      <td>...</td>\n",
       "    </tr>\n",
       "    <tr>\n",
       "      <th>999995</th>\n",
       "      <td>2.207101</td>\n",
       "      <td>0.112651</td>\n",
       "      <td>1.626798</td>\n",
       "      <td>1.0</td>\n",
       "      <td>1.0</td>\n",
       "      <td>0.0</td>\n",
       "      <td>0.0</td>\n",
       "      <td>0.0</td>\n",
       "    </tr>\n",
       "    <tr>\n",
       "      <th>999996</th>\n",
       "      <td>19.872726</td>\n",
       "      <td>2.683904</td>\n",
       "      <td>2.778303</td>\n",
       "      <td>1.0</td>\n",
       "      <td>1.0</td>\n",
       "      <td>0.0</td>\n",
       "      <td>0.0</td>\n",
       "      <td>0.0</td>\n",
       "    </tr>\n",
       "    <tr>\n",
       "      <th>999997</th>\n",
       "      <td>2.914857</td>\n",
       "      <td>1.472687</td>\n",
       "      <td>0.218075</td>\n",
       "      <td>1.0</td>\n",
       "      <td>1.0</td>\n",
       "      <td>0.0</td>\n",
       "      <td>1.0</td>\n",
       "      <td>0.0</td>\n",
       "    </tr>\n",
       "    <tr>\n",
       "      <th>999998</th>\n",
       "      <td>4.258729</td>\n",
       "      <td>0.242023</td>\n",
       "      <td>0.475822</td>\n",
       "      <td>1.0</td>\n",
       "      <td>0.0</td>\n",
       "      <td>0.0</td>\n",
       "      <td>1.0</td>\n",
       "      <td>0.0</td>\n",
       "    </tr>\n",
       "    <tr>\n",
       "      <th>999999</th>\n",
       "      <td>58.108125</td>\n",
       "      <td>0.318110</td>\n",
       "      <td>0.386920</td>\n",
       "      <td>1.0</td>\n",
       "      <td>1.0</td>\n",
       "      <td>0.0</td>\n",
       "      <td>1.0</td>\n",
       "      <td>0.0</td>\n",
       "    </tr>\n",
       "  </tbody>\n",
       "</table>\n",
       "<p>1000000 rows × 8 columns</p>\n",
       "</div>"
      ],
      "text/plain": [
       "        distance_from_home  distance_from_last_transaction  \\\n",
       "0                57.877857                        0.311140   \n",
       "1                10.829943                        0.175592   \n",
       "2                 5.091079                        0.805153   \n",
       "3                 2.247564                        5.600044   \n",
       "4                44.190936                        0.566486   \n",
       "...                    ...                             ...   \n",
       "999995            2.207101                        0.112651   \n",
       "999996           19.872726                        2.683904   \n",
       "999997            2.914857                        1.472687   \n",
       "999998            4.258729                        0.242023   \n",
       "999999           58.108125                        0.318110   \n",
       "\n",
       "        ratio_to_median_purchase_price  repeat_retailer  used_chip  \\\n",
       "0                             1.945940              1.0        1.0   \n",
       "1                             1.294219              1.0        0.0   \n",
       "2                             0.427715              1.0        0.0   \n",
       "3                             0.362663              1.0        1.0   \n",
       "4                             2.222767              1.0        1.0   \n",
       "...                                ...              ...        ...   \n",
       "999995                        1.626798              1.0        1.0   \n",
       "999996                        2.778303              1.0        1.0   \n",
       "999997                        0.218075              1.0        1.0   \n",
       "999998                        0.475822              1.0        0.0   \n",
       "999999                        0.386920              1.0        1.0   \n",
       "\n",
       "        used_pin_number  online_order  fraud  \n",
       "0                   0.0           0.0    0.0  \n",
       "1                   0.0           0.0    0.0  \n",
       "2                   0.0           1.0    0.0  \n",
       "3                   0.0           1.0    0.0  \n",
       "4                   0.0           1.0    0.0  \n",
       "...                 ...           ...    ...  \n",
       "999995              0.0           0.0    0.0  \n",
       "999996              0.0           0.0    0.0  \n",
       "999997              0.0           1.0    0.0  \n",
       "999998              0.0           1.0    0.0  \n",
       "999999              0.0           1.0    0.0  \n",
       "\n",
       "[1000000 rows x 8 columns]"
      ]
     },
     "execution_count": 3,
     "metadata": {},
     "output_type": "execute_result"
    }
   ],
   "source": [
    "data = pd.read_csv(\"../DATA/card_transdata.csv\")\n",
    "data"
   ]
  },
  {
   "cell_type": "code",
   "execution_count": 4,
   "metadata": {},
   "outputs": [
    {
     "data": {
      "text/plain": [
       "distance_from_home                912597\n",
       "distance_from_last_transaction    912597\n",
       "ratio_to_median_purchase_price    912597\n",
       "repeat_retailer                   912597\n",
       "used_chip                         912597\n",
       "used_pin_number                   912597\n",
       "online_order                      912597\n",
       "fraud                             912597\n",
       "dtype: int64"
      ]
     },
     "execution_count": 4,
     "metadata": {},
     "output_type": "execute_result"
    }
   ],
   "source": [
    "data[data[\"fraud\"]==0].count()"
   ]
  },
  {
   "cell_type": "code",
   "execution_count": 5,
   "metadata": {},
   "outputs": [
    {
     "data": {
      "text/plain": [
       "distance_from_home                87403\n",
       "distance_from_last_transaction    87403\n",
       "ratio_to_median_purchase_price    87403\n",
       "repeat_retailer                   87403\n",
       "used_chip                         87403\n",
       "used_pin_number                   87403\n",
       "online_order                      87403\n",
       "fraud                             87403\n",
       "dtype: int64"
      ]
     },
     "execution_count": 5,
     "metadata": {},
     "output_type": "execute_result"
    }
   ],
   "source": [
    "data[data[\"fraud\"]==1].count()"
   ]
  },
  {
   "cell_type": "code",
   "execution_count": 6,
   "metadata": {},
   "outputs": [
    {
     "data": {
      "text/plain": [
       "0.0    91.2597\n",
       "1.0     8.7403\n",
       "Name: fraud, dtype: float64"
      ]
     },
     "execution_count": 6,
     "metadata": {},
     "output_type": "execute_result"
    }
   ],
   "source": [
    "data[\"fraud\"].value_counts()/data.shape[0]*100"
   ]
  },
  {
   "cell_type": "code",
   "execution_count": 7,
   "metadata": {},
   "outputs": [
    {
     "data": {
      "text/plain": [
       "<AxesSubplot: xlabel='fraud', ylabel='count'>"
      ]
     },
     "execution_count": 7,
     "metadata": {},
     "output_type": "execute_result"
    },
    {
     "data": {
      "image/png": "[encoded data removed]",
      "text/plain": [
       "<Figure size 432x288 with 1 Axes>"
      ]
     },
     "metadata": {
      "needs_background": "light"
     },
     "output_type": "display_data"
    }
   ],
   "source": [
    "sns.countplot(x=\"fraud\" ,data=data)"
   ]
  },
  {
   "cell_type": "code",
   "execution_count": 8,
   "metadata": {},
   "outputs": [],
   "source": [
    "from sklearn.model_selection import train_test_split \n",
    "from imblearn.over_sampling import SMOTE  \n",
    "from imblearn.over_sampling import RandomOverSampler as ROS  \n",
    "from imblearn.under_sampling import RandomUnderSampler as RUS "
   ]
  },
  {
   "cell_type": "code",
   "execution_count": 9,
   "metadata": {},
   "outputs": [],
   "source": [
    "X=data.drop(columns=[\"fraud\"])\n",
    "y= data.fraud "
   ]
  },
  {
   "cell_type": "code",
   "execution_count": 10,
   "metadata": {},
   "outputs": [],
   "source": [
    "X_train , X_test , y_train , y_test = train_test_split(X,y,test_size=.4)"
   ]
  },
  {
   "cell_type": "code",
   "execution_count": 11,
   "metadata": {},
   "outputs": [
    {
     "data": {
      "text/plain": [
       "8.708333333333334"
      ]
     },
     "execution_count": 11,
     "metadata": {},
     "output_type": "execute_result"
    }
   ],
   "source": [
    "X_train[y_train==1].shape[0]/X_train.shape[0]*100\n"
   ]
  },
  {
   "cell_type": "code",
   "execution_count": 12,
   "metadata": {},
   "outputs": [
    {
     "data": {
      "text/plain": [
       "9.539023277042446"
      ]
     },
     "execution_count": 12,
     "metadata": {},
     "output_type": "execute_result"
    }
   ],
   "source": [
    "X_train[y_train==1].shape[0]/X_train[y_train==0].shape[0]*100"
   ]
  },
  {
   "cell_type": "code",
   "execution_count": 13,
   "metadata": {},
   "outputs": [
    {
     "data": {
      "text/plain": [
       "0.9936482580252548"
      ]
     },
     "execution_count": 13,
     "metadata": {},
     "output_type": "execute_result"
    }
   ],
   "source": [
    "X_train[y_train==1].shape[0]/X_train[y_train==0].shape[0]*100 /9.6"
   ]
  },
  {
   "cell_type": "code",
   "execution_count": 14,
   "metadata": {},
   "outputs": [],
   "source": [
    "ros = ROS(sampling_strategy=35/65) ##moehme haaaaa \n",
    "rus = RUS (sampling_strategy=35/65)\n",
    "smote = SMOTE(sampling_strategy=35/65)"
   ]
  },
  {
   "cell_type": "code",
   "execution_count": 15,
   "metadata": {},
   "outputs": [],
   "source": [
    "X_train_ros , y_train_ros = ros.fit_resample(X_train,y_train)\n",
    "X_train_rus , y_train_rus = rus.fit_resample(X_train,y_train)\n",
    "X_train_smote , y_train_smote = smote.fit_resample(X_train,y_train)"
   ]
  },
  {
   "cell_type": "code",
   "execution_count": 16,
   "metadata": {},
   "outputs": [
    {
     "name": "stdout",
     "output_type": "stream",
     "text": [
      "in ros model ( X[1]/X[total])  :   34.999976266536294\n",
      "in rus model ( X[1]/X[total])  :   35.000167464916096\n",
      "in smote model ( X[1]/X[total])  :   34.999976266536294\n"
     ]
    }
   ],
   "source": [
    "print (\"in ros model ( X[1]/X[total])  :  \" ,format(X_train_ros[y_train_ros == 1].shape[0]/ X_train_ros.shape[0] * 100) )  \n",
    "print (\"in rus model ( X[1]/X[total])  :  \" ,format(X_train_rus[y_train_rus == 1].shape[0]/ X_train_rus.shape[0] * 100) )  \n",
    "print (\"in smote model ( X[1]/X[total])  :  \" ,format(X_train_smote[y_train_smote == 1].shape[0]/ X_train_smote.shape[0] * 100) )  "
   ]
  },
  {
   "cell_type": "code",
   "execution_count": 17,
   "metadata": {},
   "outputs": [
    {
     "name": "stdout",
     "output_type": "stream",
     "text": [
      "in ros model ( X[1]/X[0])  :   53.846097672295755\n",
      "in rus model ( X[1]/X[0])  :   53.84655021384037\n",
      "in smote model ( X[1]/X[0])  :   53.846097672295755\n"
     ]
    }
   ],
   "source": [
    "print (\"in ros model ( X[1]/X[0])  :  \" ,format(X_train_ros[y_train_ros == 1].shape[0]/ X_train_ros[y_train_ros==0].shape[0] * 100 ) )  \n",
    "print (\"in rus model ( X[1]/X[0])  :  \" ,format(X_train_rus[y_train_rus == 1].shape[0]/ X_train_rus[y_train_rus==0].shape[0] * 100 ) )  \n",
    "print (\"in smote model ( X[1]/X[0])  :  \" ,format(X_train_smote[y_train_smote == 1].shape[0]/ X_train_smote[y_train_smote==0].shape[0] * 100 ) )  "
   ]
  },
  {
   "cell_type": "code",
   "execution_count": 18,
   "metadata": {},
   "outputs": [
    {
     "name": "stdout",
     "output_type": "stream",
     "text": [
      "X_train_ros.shape :   842692\n",
      "X_train_rus.shape :   149285\n",
      "X_train_smote.shape :   842692\n"
     ]
    }
   ],
   "source": [
    "print (\"X_train_ros.shape :  \", format(X_train_ros.shape[0]))\n",
    "print (\"X_train_rus.shape :  \", format(X_train_rus.shape[0]))\n",
    "print (\"X_train_smote.shape :  \", format(X_train_smote.shape[0]))\n",
    "# in ros we have more data "
   ]
  },
  {
   "cell_type": "code",
   "execution_count": 19,
   "metadata": {},
   "outputs": [
    {
     "name": "stdout",
     "output_type": "stream",
     "text": [
      "[0. 1.]\n",
      "[0. 1.]\n",
      "[0.00000000e+00 7.51305123e-04 1.26669383e-03 ... 9.99389361e-01\n",
      " 9.99500999e-01 1.00000000e+00]\n"
     ]
    }
   ],
   "source": [
    "print( np.unique(X_train_ros[\"repeat_retailer\"]) ) \n",
    "print ( np.unique(X_train_rus[\"repeat_retailer\"]) ) \n",
    "print ( np.unique(X_train_smote[\"repeat_retailer\"])) \n",
    "## defrence betwean \"ros\" && \"smote\" is in data \n",
    "## yeki az rah haye estefade as smote ine ke data ro round konim "
   ]
  },
  {
   "cell_type": "code",
   "execution_count": 20,
   "metadata": {},
   "outputs": [
    {
     "data": {
      "text/plain": [
       "array([0., 1.])"
      ]
     },
     "execution_count": 20,
     "metadata": {},
     "output_type": "execute_result"
    }
   ],
   "source": [
    "np.unique(np.round(X_train_smote[\"online_order\"])) ## dorost mishe \n"
   ]
  },
  {
   "cell_type": "code",
   "execution_count": 21,
   "metadata": {},
   "outputs": [
    {
     "data": {
      "text/html": [
       "<div>\n",
       "<style scoped>\n",
       "    .dataframe tbody tr th:only-of-type {\n",
       "        vertical-align: middle;\n",
       "    }\n",
       "\n",
       "    .dataframe tbody tr th {\n",
       "        vertical-align: top;\n",
       "    }\n",
       "\n",
       "    .dataframe thead th {\n",
       "        text-align: right;\n",
       "    }\n",
       "</style>\n",
       "<table border=\"1\" class=\"dataframe\">\n",
       "  <thead>\n",
       "    <tr style=\"text-align: right;\">\n",
       "      <th></th>\n",
       "      <th>distance_from_home</th>\n",
       "      <th>distance_from_last_transaction</th>\n",
       "      <th>ratio_to_median_purchase_price</th>\n",
       "      <th>repeat_retailer</th>\n",
       "      <th>used_chip</th>\n",
       "      <th>used_pin_number</th>\n",
       "      <th>online_order</th>\n",
       "    </tr>\n",
       "  </thead>\n",
       "  <tbody>\n",
       "    <tr>\n",
       "      <th>0</th>\n",
       "      <td>2.537818</td>\n",
       "      <td>1.953887</td>\n",
       "      <td>0.080669</td>\n",
       "      <td>1.0</td>\n",
       "      <td>0.0</td>\n",
       "      <td>0.0</td>\n",
       "      <td>1.0</td>\n",
       "    </tr>\n",
       "    <tr>\n",
       "      <th>1</th>\n",
       "      <td>72.560825</td>\n",
       "      <td>1.365107</td>\n",
       "      <td>1.976618</td>\n",
       "      <td>1.0</td>\n",
       "      <td>1.0</td>\n",
       "      <td>0.0</td>\n",
       "      <td>0.0</td>\n",
       "    </tr>\n",
       "    <tr>\n",
       "      <th>2</th>\n",
       "      <td>65.463109</td>\n",
       "      <td>1.334018</td>\n",
       "      <td>6.435051</td>\n",
       "      <td>1.0</td>\n",
       "      <td>0.0</td>\n",
       "      <td>0.0</td>\n",
       "      <td>0.0</td>\n",
       "    </tr>\n",
       "    <tr>\n",
       "      <th>3</th>\n",
       "      <td>0.768289</td>\n",
       "      <td>0.355852</td>\n",
       "      <td>0.251090</td>\n",
       "      <td>0.0</td>\n",
       "      <td>0.0</td>\n",
       "      <td>0.0</td>\n",
       "      <td>1.0</td>\n",
       "    </tr>\n",
       "    <tr>\n",
       "      <th>4</th>\n",
       "      <td>76.878279</td>\n",
       "      <td>0.442263</td>\n",
       "      <td>3.662887</td>\n",
       "      <td>1.0</td>\n",
       "      <td>0.0</td>\n",
       "      <td>1.0</td>\n",
       "      <td>0.0</td>\n",
       "    </tr>\n",
       "    <tr>\n",
       "      <th>...</th>\n",
       "      <td>...</td>\n",
       "      <td>...</td>\n",
       "      <td>...</td>\n",
       "      <td>...</td>\n",
       "      <td>...</td>\n",
       "      <td>...</td>\n",
       "      <td>...</td>\n",
       "    </tr>\n",
       "    <tr>\n",
       "      <th>842687</th>\n",
       "      <td>54.468344</td>\n",
       "      <td>0.186105</td>\n",
       "      <td>4.444912</td>\n",
       "      <td>1.0</td>\n",
       "      <td>1.0</td>\n",
       "      <td>0.0</td>\n",
       "      <td>1.0</td>\n",
       "    </tr>\n",
       "    <tr>\n",
       "      <th>842688</th>\n",
       "      <td>21.886542</td>\n",
       "      <td>2.226786</td>\n",
       "      <td>6.019302</td>\n",
       "      <td>1.0</td>\n",
       "      <td>0.0</td>\n",
       "      <td>0.0</td>\n",
       "      <td>1.0</td>\n",
       "    </tr>\n",
       "    <tr>\n",
       "      <th>842689</th>\n",
       "      <td>4.695170</td>\n",
       "      <td>0.487706</td>\n",
       "      <td>19.559422</td>\n",
       "      <td>1.0</td>\n",
       "      <td>0.0</td>\n",
       "      <td>0.0</td>\n",
       "      <td>1.0</td>\n",
       "    </tr>\n",
       "    <tr>\n",
       "      <th>842690</th>\n",
       "      <td>12.063546</td>\n",
       "      <td>0.404609</td>\n",
       "      <td>6.164339</td>\n",
       "      <td>1.0</td>\n",
       "      <td>0.0</td>\n",
       "      <td>0.0</td>\n",
       "      <td>1.0</td>\n",
       "    </tr>\n",
       "    <tr>\n",
       "      <th>842691</th>\n",
       "      <td>27.874958</td>\n",
       "      <td>0.265421</td>\n",
       "      <td>16.920875</td>\n",
       "      <td>1.0</td>\n",
       "      <td>0.0</td>\n",
       "      <td>0.0</td>\n",
       "      <td>1.0</td>\n",
       "    </tr>\n",
       "  </tbody>\n",
       "</table>\n",
       "<p>842692 rows × 7 columns</p>\n",
       "</div>"
      ],
      "text/plain": [
       "        distance_from_home  distance_from_last_transaction  \\\n",
       "0                 2.537818                        1.953887   \n",
       "1                72.560825                        1.365107   \n",
       "2                65.463109                        1.334018   \n",
       "3                 0.768289                        0.355852   \n",
       "4                76.878279                        0.442263   \n",
       "...                    ...                             ...   \n",
       "842687           54.468344                        0.186105   \n",
       "842688           21.886542                        2.226786   \n",
       "842689            4.695170                        0.487706   \n",
       "842690           12.063546                        0.404609   \n",
       "842691           27.874958                        0.265421   \n",
       "\n",
       "        ratio_to_median_purchase_price  repeat_retailer  used_chip  \\\n",
       "0                             0.080669              1.0        0.0   \n",
       "1                             1.976618              1.0        1.0   \n",
       "2                             6.435051              1.0        0.0   \n",
       "3                             0.251090              0.0        0.0   \n",
       "4                             3.662887              1.0        0.0   \n",
       "...                                ...              ...        ...   \n",
       "842687                        4.444912              1.0        1.0   \n",
       "842688                        6.019302              1.0        0.0   \n",
       "842689                       19.559422              1.0        0.0   \n",
       "842690                        6.164339              1.0        0.0   \n",
       "842691                       16.920875              1.0        0.0   \n",
       "\n",
       "        used_pin_number  online_order  \n",
       "0                   0.0           1.0  \n",
       "1                   0.0           0.0  \n",
       "2                   0.0           0.0  \n",
       "3                   0.0           1.0  \n",
       "4                   1.0           0.0  \n",
       "...                 ...           ...  \n",
       "842687              0.0           1.0  \n",
       "842688              0.0           1.0  \n",
       "842689              0.0           1.0  \n",
       "842690              0.0           1.0  \n",
       "842691              0.0           1.0  \n",
       "\n",
       "[842692 rows x 7 columns]"
      ]
     },
     "execution_count": 21,
     "metadata": {},
     "output_type": "execute_result"
    }
   ],
   "source": [
    "X_train_smote"
   ]
  },
  {
   "cell_type": "code",
   "execution_count": 22,
   "metadata": {},
   "outputs": [],
   "source": [
    "X_train_smote[\"repeat_retailer\"] = np.round(X_train_smote[\"repeat_retailer\"])  \n",
    "X_train_smote[\"used_chip\"] = np.round(X_train_smote[\"used_chip\"]) \n",
    "X_train_smote[\"used_pin_number\"] = np.round(X_train_smote[\"used_pin_number\"]) \n",
    "X_train_smote[\"online_order\"] = np.round(X_train_smote[\"online_order\"])"
   ]
  },
  {
   "cell_type": "code",
   "execution_count": 23,
   "metadata": {},
   "outputs": [
    {
     "data": {
      "text/plain": [
       "array([0., 1.])"
      ]
     },
     "execution_count": 23,
     "metadata": {},
     "output_type": "execute_result"
    }
   ],
   "source": [
    "np.unique(np.round(X_train_smote[\"repeat_retailer\"]))  \n",
    "np.unique(np.round(X_train_smote[\"used_chip\"]))  \n",
    "np.unique(np.round(X_train_smote[\"used_pin_number\"]))  \n",
    "np.unique(np.round(X_train_smote[\"online_order\"])) \n"
   ]
  },
  {
   "cell_type": "code",
   "execution_count": 24,
   "metadata": {},
   "outputs": [],
   "source": [
    "from sklearn.ensemble import RandomForestClassifier as RFC \n",
    "from sklearn.pipeline import Pipeline \n",
    "from sklearn.metrics import classification_report , recall_score , f1_score ,precision_score "
   ]
  },
  {
   "cell_type": "code",
   "execution_count": 25,
   "metadata": {},
   "outputs": [],
   "source": [
    "rfc_ros  = RFC(n_estimators=10).fit(X_train_ros,y_train_ros)\n",
    "rfc_rus  = RFC(n_estimators=10).fit(X_train_rus,y_train_rus)\n",
    "rfc_smote  = RFC(n_estimators=10).fit(X_train_smote ,y_train_smote )"
   ]
  },
  {
   "cell_type": "code",
   "execution_count": 26,
   "metadata": {},
   "outputs": [
    {
     "name": "stdout",
     "output_type": "stream",
     "text": [
      "              precision    recall  f1-score   support\n",
      "\n",
      "         0.0       1.00      1.00      1.00    364847\n",
      "         1.0       1.00      1.00      1.00     35153\n",
      "\n",
      "    accuracy                           1.00    400000\n",
      "   macro avg       1.00      1.00      1.00    400000\n",
      "weighted avg       1.00      1.00      1.00    400000\n",
      "\n"
     ]
    }
   ],
   "source": [
    "print ( classification_report(y_true=y_test, y_pred=rfc_ros.predict(X_test))) "
   ]
  },
  {
   "cell_type": "code",
   "execution_count": 27,
   "metadata": {},
   "outputs": [
    {
     "name": "stdout",
     "output_type": "stream",
     "text": [
      "              precision    recall  f1-score   support\n",
      "\n",
      "         0.0       1.00      1.00      1.00    364847\n",
      "         1.0       1.00      1.00      1.00     35153\n",
      "\n",
      "    accuracy                           1.00    400000\n",
      "   macro avg       1.00      1.00      1.00    400000\n",
      "weighted avg       1.00      1.00      1.00    400000\n",
      "\n"
     ]
    }
   ],
   "source": [
    "print ( classification_report(y_true=y_test, y_pred=rfc_rus.predict(X_test))) "
   ]
  },
  {
   "cell_type": "code",
   "execution_count": 28,
   "metadata": {},
   "outputs": [
    {
     "name": "stdout",
     "output_type": "stream",
     "text": [
      "              precision    recall  f1-score   support\n",
      "\n",
      "         0.0       1.00      1.00      1.00    364847\n",
      "         1.0       1.00      1.00      1.00     35153\n",
      "\n",
      "    accuracy                           1.00    400000\n",
      "   macro avg       1.00      1.00      1.00    400000\n",
      "weighted avg       1.00      1.00      1.00    400000\n",
      "\n"
     ]
    }
   ],
   "source": [
    "print ( classification_report(y_true=y_test, y_pred=rfc_smote.predict(X_test))) "
   ]
  },
  {
   "cell_type": "code",
   "execution_count": 29,
   "metadata": {},
   "outputs": [],
   "source": [
    "from sklearn.naive_bayes import GaussianNB "
   ]
  },
  {
   "cell_type": "code",
   "execution_count": 30,
   "metadata": {},
   "outputs": [],
   "source": [
    "gb_ros  = GaussianNB().fit(X_train_ros,y_train_ros)\n",
    "gb_rus  = GaussianNB().fit(X_train_rus,y_train_rus)\n",
    "gb_smote  = GaussianNB().fit(X_train_smote ,y_train_smote )"
   ]
  },
  {
   "cell_type": "code",
   "execution_count": 31,
   "metadata": {},
   "outputs": [
    {
     "name": "stdout",
     "output_type": "stream",
     "text": [
      "              precision    recall  f1-score   support\n",
      "\n",
      "         0.0       1.00      0.94      0.97    364847\n",
      "         1.0       0.62      0.96      0.75     35153\n",
      "\n",
      "    accuracy                           0.94    400000\n",
      "   macro avg       0.81      0.95      0.86    400000\n",
      "weighted avg       0.96      0.94      0.95    400000\n",
      "\n"
     ]
    }
   ],
   "source": [
    "print ( classification_report(y_true=y_test, y_pred=gb_ros.predict(X_test))) "
   ]
  },
  {
   "cell_type": "code",
   "execution_count": 32,
   "metadata": {},
   "outputs": [
    {
     "name": "stdout",
     "output_type": "stream",
     "text": [
      "              precision    recall  f1-score   support\n",
      "\n",
      "         0.0       0.99      0.96      0.98    364847\n",
      "         1.0       0.69      0.93      0.79     35153\n",
      "\n",
      "    accuracy                           0.96    400000\n",
      "   macro avg       0.84      0.94      0.88    400000\n",
      "weighted avg       0.97      0.96      0.96    400000\n",
      "\n"
     ]
    }
   ],
   "source": [
    "print ( classification_report(y_true=y_test, y_pred=gb_rus.predict(X_test))) "
   ]
  },
  {
   "cell_type": "code",
   "execution_count": 33,
   "metadata": {},
   "outputs": [
    {
     "name": "stdout",
     "output_type": "stream",
     "text": [
      "              precision    recall  f1-score   support\n",
      "\n",
      "         0.0       1.00      0.93      0.96    364847\n",
      "         1.0       0.57      0.96      0.72     35153\n",
      "\n",
      "    accuracy                           0.93    400000\n",
      "   macro avg       0.79      0.95      0.84    400000\n",
      "weighted avg       0.96      0.93      0.94    400000\n",
      "\n"
     ]
    }
   ],
   "source": [
    "print ( classification_report(y_true=y_test, y_pred=gb_smote.predict(X_test))) "
   ]
  },
  {
   "cell_type": "code",
   "execution_count": null,
   "metadata": {},
   "outputs": [],
   "source": []
  }
 ],
 "metadata": {
  "kernelspec": {
   "display_name": "Python 3",
   "language": "python",
   "name": "python3"
  },
  "language_info": {
   "codemirror_mode": {
    "name": "ipython",
    "version": 3
   },
   "file_extension": ".py",
   "mimetype": "text/x-python",
   "name": "python",
   "nbconvert_exporter": "python",
   "pygments_lexer": "ipython3",
   "version": "3.10.6 (main, Nov 14 2022, 16:10:14) [GCC 11.3.0]"
  },
  "orig_nbformat": 4,
  "vscode": {
   "interpreter": {
    "hash": "916dbcbb3f70747c44a77c7bcd40155683ae19c65e1c03b4aa3499c5328201f1"
   }
  }
 },
 "nbformat": 4,
 "nbformat_minor": 2
}
