{
 "cells": [
  {
   "cell_type": "code",
   "execution_count": 1,
   "id": "52be4037",
   "metadata": {},
   "outputs": [],
   "source": [
    "import sqlite3"
   ]
  },
  {
   "cell_type": "code",
   "execution_count": 2,
   "id": "fe7f05fa",
   "metadata": {},
   "outputs": [],
   "source": [
    "db_con = sqlite3.connect('sql.db')"
   ]
  },
  {
   "cell_type": "code",
   "execution_count": 3,
   "id": "14e72587",
   "metadata": {},
   "outputs": [],
   "source": [
    "cursor = db_con.cursor()"
   ]
  },
  {
   "cell_type": "code",
   "execution_count": 4,
   "id": "d7395e7d",
   "metadata": {},
   "outputs": [
    {
     "data": {
      "text/plain": [
       "<sqlite3.Cursor at 0x7f846d6efa40>"
      ]
     },
     "execution_count": 4,
     "metadata": {},
     "output_type": "execute_result"
    }
   ],
   "source": [
    "q = 'select sqlite_version();'\n",
    "cursor.execute(q)"
   ]
  },
  {
   "cell_type": "code",
   "execution_count": 5,
   "id": "0a76ab7e",
   "metadata": {},
   "outputs": [],
   "source": [
    "result = cursor.fetchall()"
   ]
  },
  {
   "cell_type": "code",
   "execution_count": 7,
   "id": "303a4d01",
   "metadata": {},
   "outputs": [
    {
     "name": "stdout",
     "output_type": "stream",
     "text": [
      "SQLite version is 3.36.0\n"
     ]
    }
   ],
   "source": [
    "print('SQLite version is {}'.format(result[0][0]))"
   ]
  },
  {
   "cell_type": "code",
   "execution_count": 8,
   "id": "ffe5b51a",
   "metadata": {},
   "outputs": [],
   "source": [
    "db_con.close()"
   ]
  },
  {
   "cell_type": "code",
   "execution_count": 9,
   "id": "1ad800d7",
   "metadata": {},
   "outputs": [],
   "source": [
    "from sqlite3 import Error"
   ]
  },
  {
   "cell_type": "code",
   "execution_count": 16,
   "id": "2cfa9613",
   "metadata": {},
   "outputs": [
    {
     "name": "stdout",
     "output_type": "stream",
     "text": [
      "DB initialized!\n",
      "SQLite version is 3.36.0\n",
      "DB connection is closed!\n"
     ]
    }
   ],
   "source": [
    "try: \n",
    "    db_con = sqlite3.connect('sql.db')\n",
    "    cursor = db_con.cursor()\n",
    "    print('DB initialized!')\n",
    "    \n",
    "    q = 'select sqlite_version();'\n",
    "    cursor.execute(q)\n",
    "    \n",
    "    result = cursor.fetchall()\n",
    "    print('SQLite version is {}'.format(result[0][0]))\n",
    "    \n",
    "    cursor.close()\n",
    "except Error as err:\n",
    "    print(err)\n",
    "    \n",
    "finally:\n",
    "    if db_con:\n",
    "        db_con.close()\n",
    "        print('DB connection is closed!')"
   ]
  },
  {
   "cell_type": "markdown",
   "id": "b83bbed4",
   "metadata": {},
   "source": [
    "# Datatypes\n",
    "\n",
    "+ NULL: None\n",
    "\n",
    "+ INTEGER: int\n",
    "\n",
    "+ REAL: float\n",
    "\n",
    "+ TEXT: str\n",
    "\n",
    "+ BLOB: bytes"
   ]
  },
  {
   "cell_type": "code",
   "execution_count": 25,
   "id": "7fd3adf4",
   "metadata": {},
   "outputs": [],
   "source": [
    "db_con = sqlite3.connect('example.db')\n",
    "cur = db_con.cursor()"
   ]
  },
  {
   "cell_type": "code",
   "execution_count": 26,
   "id": "fb7ae4e9",
   "metadata": {},
   "outputs": [
    {
     "data": {
      "text/plain": [
       "<sqlite3.Cursor at 0x7f846e585960>"
      ]
     },
     "execution_count": 26,
     "metadata": {},
     "output_type": "execute_result"
    }
   ],
   "source": [
    "cur.execute('''CREATE TABLE stocks (date TEXT, trans TEXT, symbol TEXT, price REAL, count INTEGER)''')"
   ]
  },
  {
   "cell_type": "code",
   "execution_count": 27,
   "id": "35d511f0",
   "metadata": {},
   "outputs": [
    {
     "data": {
      "text/plain": [
       "<sqlite3.Cursor at 0x7f846e585960>"
      ]
     },
     "execution_count": 27,
     "metadata": {},
     "output_type": "execute_result"
    }
   ],
   "source": [
    "cur.execute(\"INSERT INTO stocks VALUES ('2020-02-04', 'Buy', 'Rhat', 43.22, 12)\")"
   ]
  },
  {
   "cell_type": "code",
   "execution_count": 28,
   "id": "c0be2ae1",
   "metadata": {},
   "outputs": [
    {
     "data": {
      "text/plain": [
       "<sqlite3.Cursor at 0x7f846e585960>"
      ]
     },
     "execution_count": 28,
     "metadata": {},
     "output_type": "execute_result"
    }
   ],
   "source": [
    "cur.execute(\"INSERT INTO stocks VALUES ('2020-01-01', 'Sell', 'Sharp', 5.11, 19)\")\n",
    "cur.execute(\"INSERT INTO stocks VALUES ('2020-02-01', 'Buy', 'H', 44.44, 1)\")\n",
    "cur.execute(\"INSERT INTO stocks VALUES ('2020-03-02', 'Sell', 'Sharp', 78.57, 10)\")\n",
    "cur.execute(\"INSERT INTO stocks VALUES ('2020-02-02', 'Buy', 'H', 65.21, 21)\")\n",
    "cur.execute(\"INSERT INTO stocks VALUES ('2020-03-03', 'Buy', 'Sharp', 33.22, 32)\")\n",
    "cur.execute(\"INSERT INTO stocks VALUES ('2020-01-09', 'Buy', 'Rhat', 79.22, 3)\")\n",
    "cur.execute(\"INSERT INTO stocks VALUES ('2020-02-14', 'Sell', 'Rhat', 19.19, 11)\")"
   ]
  },
  {
   "cell_type": "code",
   "execution_count": 29,
   "id": "e5a7b718",
   "metadata": {},
   "outputs": [],
   "source": [
    "db_con.commit()"
   ]
  },
  {
   "cell_type": "code",
   "execution_count": 30,
   "id": "c8a16272",
   "metadata": {},
   "outputs": [],
   "source": [
    "db_con.close()"
   ]
  },
  {
   "cell_type": "code",
   "execution_count": null,
   "id": "b276a7f2",
   "metadata": {},
   "outputs": [],
   "source": []
  },
  {
   "cell_type": "code",
   "execution_count": 31,
   "id": "0bcbe87a",
   "metadata": {},
   "outputs": [],
   "source": [
    "db = sqlite3.connect('example.db')\n",
    "cur = db.cursor()"
   ]
  },
  {
   "cell_type": "code",
   "execution_count": 32,
   "id": "8ac42688",
   "metadata": {},
   "outputs": [
    {
     "data": {
      "text/plain": [
       "<sqlite3.Cursor at 0x7f846e47c8f0>"
      ]
     },
     "execution_count": 32,
     "metadata": {},
     "output_type": "execute_result"
    }
   ],
   "source": [
    "cur.execute('SELECT * FROM stocks')"
   ]
  },
  {
   "cell_type": "code",
   "execution_count": 36,
   "id": "ab7ae0cb",
   "metadata": {},
   "outputs": [],
   "source": [
    "cur.execute('SELECT * FROM stocks')\n",
    "result = cur.fetchall()"
   ]
  },
  {
   "cell_type": "code",
   "execution_count": 37,
   "id": "d952276f",
   "metadata": {},
   "outputs": [
    {
     "data": {
      "text/plain": [
       "[('2020-02-04', 'Buy', 'Rhat', 43.22, 12),\n",
       " ('2020-01-01', 'Sell', 'Sharp', 5.11, 19),\n",
       " ('2020-02-01', 'Buy', 'H', 44.44, 1),\n",
       " ('2020-03-02', 'Sell', 'Sharp', 78.57, 10),\n",
       " ('2020-02-02', 'Buy', 'H', 65.21, 21),\n",
       " ('2020-03-03', 'Buy', 'Sharp', 33.22, 32),\n",
       " ('2020-01-09', 'Buy', 'Rhat', 79.22, 3),\n",
       " ('2020-02-14', 'Sell', 'Rhat', 19.19, 11)]"
      ]
     },
     "execution_count": 37,
     "metadata": {},
     "output_type": "execute_result"
    }
   ],
   "source": [
    "result"
   ]
  },
  {
   "cell_type": "code",
   "execution_count": null,
   "id": "bbdc6380",
   "metadata": {},
   "outputs": [],
   "source": []
  }
 ],
 "metadata": {
  "kernelspec": {
   "display_name": "Python 3 (ipykernel)",
   "language": "python",
   "name": "python3"
  },
  "language_info": {
   "codemirror_mode": {
    "name": "ipython",
    "version": 3
   },
   "file_extension": ".py",
   "mimetype": "text/x-python",
   "name": "python",
   "nbconvert_exporter": "python",
   "pygments_lexer": "ipython3",
   "version": "3.9.5"
  }
 },
 "nbformat": 4,
 "nbformat_minor": 5
}
