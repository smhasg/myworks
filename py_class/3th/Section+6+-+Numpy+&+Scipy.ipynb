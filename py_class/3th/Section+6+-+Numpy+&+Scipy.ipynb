{
 "cells": [
  {
   "cell_type": "markdown",
   "id": "26a9eacd",
   "metadata": {},
   "source": [
    "# Numpy\n",
    "\n",
    "[NumPy](https://numpy.org/) is the fundamental package for scientific computing with Python.\n",
    "\n",
    "### Installation:\n",
    "\n",
    "<div class=\"alert alert-block alert-warning\">\n",
    "$ pip install numpy\n",
    "</div>\n",
    "\n",
    "or\n",
    "\n",
    "<div class=\"alert alert-block alert-warning\">\n",
    "$ conda install numpy\n",
    "</div>"
   ]
  },
  {
   "cell_type": "code",
   "execution_count": 1,
   "id": "dc258484",
   "metadata": {},
   "outputs": [],
   "source": [
    "import numpy as np"
   ]
  },
  {
   "cell_type": "code",
   "execution_count": 70,
   "id": "c86960b9",
   "metadata": {},
   "outputs": [],
   "source": [
    "N = 1000000\n",
    "my_arr = np.arange(N)\n",
    "my_list = [i for i in range(N)]"
   ]
  },
  {
   "cell_type": "code",
   "execution_count": 71,
   "id": "883f58b4",
   "metadata": {},
   "outputs": [
    {
     "name": "stdout",
     "output_type": "stream",
     "text": [
      "CPU times: user 21.6 ms, sys: 11 ms, total: 32.6 ms\n",
      "Wall time: 31 ms\n"
     ]
    }
   ],
   "source": [
    "%time for _ in range(10): my_arr2 = 2*my_arr"
   ]
  },
  {
   "cell_type": "code",
   "execution_count": 72,
   "id": "28cd7a0a",
   "metadata": {},
   "outputs": [
    {
     "name": "stdout",
     "output_type": "stream",
     "text": [
      "CPU times: user 724 ms, sys: 189 ms, total: 913 ms\n",
      "Wall time: 943 ms\n"
     ]
    }
   ],
   "source": [
    "%time for _ in range(10): my_arr2 = [2*x for x in my_list]"
   ]
  },
  {
   "cell_type": "code",
   "execution_count": 74,
   "id": "d3657edd",
   "metadata": {},
   "outputs": [
    {
     "data": {
      "text/plain": [
       "30.419354838709676"
      ]
     },
     "execution_count": 74,
     "metadata": {},
     "output_type": "execute_result"
    }
   ],
   "source": [
    "943/31"
   ]
  },
  {
   "cell_type": "markdown",
   "id": "b6df6023",
   "metadata": {},
   "source": [
    "## Basics:\n",
    "___\n",
    "\n",
    "One of the most commonly used functions of NumPy are *NumPy arrays*: The essential difference between lists and NumPy arrays is functionality and speed. lists give you basic operation, but NumPy adds FFTs, convolutions, fast searching, basic statistics, linear algebra, histograms, etc.\n",
    "\n",
    "The most important difference for data science is the ability to do **element-wise calculations** with *NumPy* arrays.\n",
    "\n",
    "`axis 0` always refers to row <br>\n",
    "`axis 1` always refers to column\n",
    "\n",
    "+ `np.array([1,2,3])`\n",
    "+ `np.array([(1,2,3),(4,5,6)])`\n",
    "+ `np.arange(start,stop,step)`\n",
    "\n",
    "**Placeholders**:\n",
    "- `np.linspace(0,2,9)`\n",
    "- `np.zeros((1,2))`\n",
    "- `np.ones((1,2))`\n",
    "- `np.random.random((5,5))`\n",
    "- `np.empty((2,2))`"
   ]
  },
  {
   "cell_type": "code",
   "execution_count": 8,
   "id": "081c196b",
   "metadata": {},
   "outputs": [],
   "source": [
    "arr_1d = np.array([1, 2, 3, 4])"
   ]
  },
  {
   "cell_type": "code",
   "execution_count": 11,
   "id": "b7b835f6",
   "metadata": {},
   "outputs": [
    {
     "data": {
      "text/plain": [
       "(1, 3)"
      ]
     },
     "execution_count": 11,
     "metadata": {},
     "output_type": "execute_result"
    }
   ],
   "source": [
    "arr_1d[0], arr_1d[2]"
   ]
  },
  {
   "cell_type": "code",
   "execution_count": 12,
   "id": "8f7e9f13",
   "metadata": {},
   "outputs": [],
   "source": [
    "arr_2d = np.array([[1, 2, 3, 4],\n",
    "                   [4, 5, 6, 7]])"
   ]
  },
  {
   "cell_type": "code",
   "execution_count": 13,
   "id": "8a68384d",
   "metadata": {},
   "outputs": [
    {
     "data": {
      "text/plain": [
       "array([[1, 2, 3, 4],\n",
       "       [4, 5, 6, 7]])"
      ]
     },
     "execution_count": 13,
     "metadata": {},
     "output_type": "execute_result"
    }
   ],
   "source": [
    "arr_2d"
   ]
  },
  {
   "cell_type": "code",
   "execution_count": 16,
   "id": "2d2d20b8",
   "metadata": {},
   "outputs": [
    {
     "data": {
      "text/plain": [
       "((4,), 1)"
      ]
     },
     "execution_count": 16,
     "metadata": {},
     "output_type": "execute_result"
    }
   ],
   "source": [
    "arr_1d.shape, arr_1d.ndim"
   ]
  },
  {
   "cell_type": "code",
   "execution_count": 17,
   "id": "29c68bc7",
   "metadata": {},
   "outputs": [
    {
     "data": {
      "text/plain": [
       "((2, 4), 2)"
      ]
     },
     "execution_count": 17,
     "metadata": {},
     "output_type": "execute_result"
    }
   ],
   "source": [
    "arr_2d.shape, arr_2d.ndim"
   ]
  },
  {
   "cell_type": "code",
   "execution_count": 19,
   "id": "2b922ffd",
   "metadata": {},
   "outputs": [
    {
     "data": {
      "text/plain": [
       "(2, 2)"
      ]
     },
     "execution_count": 19,
     "metadata": {},
     "output_type": "execute_result"
    }
   ],
   "source": [
    "arr_2d[0][1], arr_2d[0, 1]"
   ]
  },
  {
   "cell_type": "code",
   "execution_count": 21,
   "id": "0ef99dfd",
   "metadata": {},
   "outputs": [],
   "source": [
    "a = np.array([[[1, 2, 3],\n",
    "           [4, 5, 6]],\n",
    "          [[-1, -2, -3],\n",
    "           [-4, -5, -6]],\n",
    "          [[10, 11, 12],\n",
    "           [13, 14, 15]]])"
   ]
  },
  {
   "cell_type": "code",
   "execution_count": 23,
   "id": "2ab89bf9",
   "metadata": {},
   "outputs": [
    {
     "data": {
      "text/plain": [
       "3"
      ]
     },
     "execution_count": 23,
     "metadata": {},
     "output_type": "execute_result"
    }
   ],
   "source": [
    "a.ndim"
   ]
  },
  {
   "cell_type": "code",
   "execution_count": 27,
   "id": "11dbb3d3",
   "metadata": {},
   "outputs": [
    {
     "data": {
      "text/plain": [
       "(array([[1, 2, 3],\n",
       "        [4, 5, 6]]),\n",
       " array([[-1, -2, -3],\n",
       "        [-4, -5, -6]]),\n",
       " array([[10, 11, 12],\n",
       "        [13, 14, 15]]))"
      ]
     },
     "execution_count": 27,
     "metadata": {},
     "output_type": "execute_result"
    }
   ],
   "source": [
    "a[0, :, :], a[1, :, :], a[2, :, :]"
   ]
  },
  {
   "cell_type": "code",
   "execution_count": 28,
   "id": "d001daf3",
   "metadata": {},
   "outputs": [
    {
     "data": {
      "text/plain": [
       "array([[1., 0., 0., 0.],\n",
       "       [0., 1., 0., 0.],\n",
       "       [0., 0., 1., 0.],\n",
       "       [0., 0., 0., 1.]])"
      ]
     },
     "execution_count": 28,
     "metadata": {},
     "output_type": "execute_result"
    }
   ],
   "source": [
    "I = np.eye(4)\n",
    "I"
   ]
  },
  {
   "cell_type": "code",
   "execution_count": 29,
   "id": "1020cfde",
   "metadata": {},
   "outputs": [
    {
     "data": {
      "text/plain": [
       "array([[0., 0.],\n",
       "       [0., 0.],\n",
       "       [0., 0.],\n",
       "       [0., 0.]])"
      ]
     },
     "execution_count": 29,
     "metadata": {},
     "output_type": "execute_result"
    }
   ],
   "source": [
    "np.zeros((4, 2))"
   ]
  },
  {
   "cell_type": "code",
   "execution_count": 30,
   "id": "8b606bd1",
   "metadata": {},
   "outputs": [
    {
     "data": {
      "text/plain": [
       "array([[1., 1., 1., 1., 1.],\n",
       "       [1., 1., 1., 1., 1.],\n",
       "       [1., 1., 1., 1., 1.]])"
      ]
     },
     "execution_count": 30,
     "metadata": {},
     "output_type": "execute_result"
    }
   ],
   "source": [
    "np.ones((3, 5))"
   ]
  },
  {
   "cell_type": "code",
   "execution_count": 31,
   "id": "151c87b5",
   "metadata": {},
   "outputs": [
    {
     "data": {
      "text/plain": [
       "array([[-7, -7, -7, -7, -7, -7],\n",
       "       [-7, -7, -7, -7, -7, -7],\n",
       "       [-7, -7, -7, -7, -7, -7],\n",
       "       [-7, -7, -7, -7, -7, -7]])"
      ]
     },
     "execution_count": 31,
     "metadata": {},
     "output_type": "execute_result"
    }
   ],
   "source": [
    "np.full((4, 6), -7)"
   ]
  },
  {
   "cell_type": "code",
   "execution_count": 32,
   "id": "577cf11a",
   "metadata": {},
   "outputs": [
    {
     "data": {
      "text/plain": [
       "array([[0.94458335, 0.43943726, 0.35628981, 0.47134549],\n",
       "       [0.99300566, 0.44859896, 0.23321315, 0.86299761],\n",
       "       [0.44581564, 0.02543552, 0.18986724, 0.97633476],\n",
       "       [0.77773267, 0.74815909, 0.21378286, 0.34824403]])"
      ]
     },
     "execution_count": 32,
     "metadata": {},
     "output_type": "execute_result"
    }
   ],
   "source": [
    "np.random.random((4, 4))"
   ]
  },
  {
   "cell_type": "code",
   "execution_count": 33,
   "id": "19d56acf",
   "metadata": {},
   "outputs": [
    {
     "data": {
      "text/plain": [
       "array([[-1.20323854, -0.34851236,  1.29619516,  0.18127526],\n",
       "       [-1.7565859 ,  0.0992279 ,  1.11456447,  0.12180711],\n",
       "       [-1.26505452,  0.74914046, -1.01563608,  0.3595074 ],\n",
       "       [ 0.88871653, -0.25397159,  0.85305924, -0.12508382]])"
      ]
     },
     "execution_count": 33,
     "metadata": {},
     "output_type": "execute_result"
    }
   ],
   "source": [
    "np.random.normal(0, 1, (4, 4))"
   ]
  },
  {
   "cell_type": "code",
   "execution_count": 34,
   "id": "bedd14d4",
   "metadata": {},
   "outputs": [
    {
     "data": {
      "text/plain": [
       "array([[0.67180187, 0.80593523, 0.99649754, 0.57312714],\n",
       "       [0.67362217, 0.47907258, 0.51548894, 0.5439919 ],\n",
       "       [0.99690028, 0.63561149, 0.18482203, 0.93211356],\n",
       "       [0.43707805, 0.51598691, 0.27378695, 0.09266483]])"
      ]
     },
     "execution_count": 34,
     "metadata": {},
     "output_type": "execute_result"
    }
   ],
   "source": [
    "np.random.uniform(0, 1, (4, 4))"
   ]
  },
  {
   "cell_type": "code",
   "execution_count": 37,
   "id": "ffe9d4c9",
   "metadata": {},
   "outputs": [],
   "source": [
    "x = np.empty((5, 5))\n",
    "for i in range(5):\n",
    "    for j in range(5):\n",
    "        x[i, j] = np.sin(i*np.pi/2)*np.cos(j*np.pi/2)"
   ]
  },
  {
   "cell_type": "code",
   "execution_count": 40,
   "id": "fb857700",
   "metadata": {},
   "outputs": [
    {
     "data": {
      "text/plain": [
       "array([[ 0.00000000e+00,  0.00000000e+00, -0.00000000e+00,\n",
       "        -0.00000000e+00,  0.00000000e+00],\n",
       "       [ 1.00000000e+00,  6.12323400e-17, -1.00000000e+00,\n",
       "        -1.83697020e-16,  1.00000000e+00],\n",
       "       [ 1.22464680e-16,  7.49879891e-33, -1.22464680e-16,\n",
       "        -2.24963967e-32,  1.22464680e-16],\n",
       "       [-1.00000000e+00, -6.12323400e-17,  1.00000000e+00,\n",
       "         1.83697020e-16, -1.00000000e+00],\n",
       "       [-2.44929360e-16, -1.49975978e-32,  2.44929360e-16,\n",
       "         4.49927935e-32, -2.44929360e-16]])"
      ]
     },
     "execution_count": 40,
     "metadata": {},
     "output_type": "execute_result"
    }
   ],
   "source": [
    "x"
   ]
  },
  {
   "cell_type": "code",
   "execution_count": 39,
   "id": "d49f3117",
   "metadata": {},
   "outputs": [
    {
     "data": {
      "text/plain": [
       "array([[ True,  True,  True,  True,  True],\n",
       "       [False, False, False, False, False],\n",
       "       [False, False, False, False, False],\n",
       "       [False, False, False, False, False],\n",
       "       [False, False, False, False, False]])"
      ]
     },
     "execution_count": 39,
     "metadata": {},
     "output_type": "execute_result"
    }
   ],
   "source": [
    "x == 0"
   ]
  },
  {
   "cell_type": "code",
   "execution_count": 44,
   "id": "7e88b236",
   "metadata": {},
   "outputs": [],
   "source": [
    "bool_inx = np.isclose(x, 0)"
   ]
  },
  {
   "cell_type": "code",
   "execution_count": 45,
   "id": "c8bf2667",
   "metadata": {},
   "outputs": [
    {
     "data": {
      "text/plain": [
       "array([[ True,  True,  True,  True,  True],\n",
       "       [False,  True, False,  True, False],\n",
       "       [ True,  True,  True,  True,  True],\n",
       "       [False,  True, False,  True, False],\n",
       "       [ True,  True,  True,  True,  True]])"
      ]
     },
     "execution_count": 45,
     "metadata": {},
     "output_type": "execute_result"
    }
   ],
   "source": [
    "bool_inx"
   ]
  },
  {
   "cell_type": "code",
   "execution_count": 47,
   "id": "bce9a800",
   "metadata": {},
   "outputs": [
    {
     "data": {
      "text/plain": [
       "array([ 0.00000000e+00,  0.00000000e+00, -0.00000000e+00, -0.00000000e+00,\n",
       "        0.00000000e+00,  6.12323400e-17, -1.83697020e-16,  1.22464680e-16,\n",
       "        7.49879891e-33, -1.22464680e-16, -2.24963967e-32,  1.22464680e-16,\n",
       "       -6.12323400e-17,  1.83697020e-16, -2.44929360e-16, -1.49975978e-32,\n",
       "        2.44929360e-16,  4.49927935e-32, -2.44929360e-16])"
      ]
     },
     "execution_count": 47,
     "metadata": {},
     "output_type": "execute_result"
    }
   ],
   "source": [
    "x[bool_inx] # close to zero"
   ]
  },
  {
   "cell_type": "code",
   "execution_count": 50,
   "id": "aa629157",
   "metadata": {},
   "outputs": [
    {
     "data": {
      "text/plain": [
       "array([1, 2, 0], dtype=int8)"
      ]
     },
     "execution_count": 50,
     "metadata": {},
     "output_type": "execute_result"
    }
   ],
   "source": [
    "np.array([1, 2, 256], dtype=np.int8)"
   ]
  },
  {
   "cell_type": "code",
   "execution_count": 52,
   "id": "a01613d4",
   "metadata": {},
   "outputs": [],
   "source": [
    "x[bool_inx] = 0"
   ]
  },
  {
   "cell_type": "code",
   "execution_count": 54,
   "id": "a30daf5a",
   "metadata": {},
   "outputs": [
    {
     "data": {
      "text/plain": [
       "array([[0., 0., 0., 0., 0.],\n",
       "       [1., 0., 1., 0., 1.],\n",
       "       [0., 0., 0., 0., 0.],\n",
       "       [1., 0., 1., 0., 1.],\n",
       "       [0., 0., 0., 0., 0.]])"
      ]
     },
     "execution_count": 54,
     "metadata": {},
     "output_type": "execute_result"
    }
   ],
   "source": [
    "x**2"
   ]
  },
  {
   "cell_type": "code",
   "execution_count": 55,
   "id": "8591fa59",
   "metadata": {},
   "outputs": [
    {
     "data": {
      "text/plain": [
       "array([[ 0.,  1.,  0., -1.,  0.],\n",
       "       [ 0.,  0.,  0.,  0.,  0.],\n",
       "       [ 0., -1.,  0.,  1.,  0.],\n",
       "       [ 0.,  0.,  0.,  0.,  0.],\n",
       "       [ 0.,  1.,  0., -1.,  0.]])"
      ]
     },
     "execution_count": 55,
     "metadata": {},
     "output_type": "execute_result"
    }
   ],
   "source": [
    "x.transpose()"
   ]
  },
  {
   "cell_type": "code",
   "execution_count": 57,
   "id": "40dbe956",
   "metadata": {},
   "outputs": [
    {
     "data": {
      "text/plain": [
       "array([[ 0.,  1.,  0., -1.,  0.],\n",
       "       [ 0.,  0.,  0.,  0.,  0.],\n",
       "       [ 0., -1.,  0.,  1.,  0.],\n",
       "       [ 0.,  0.,  0.,  0.,  0.],\n",
       "       [ 0.,  1.,  0., -1.,  0.]])"
      ]
     },
     "execution_count": 57,
     "metadata": {},
     "output_type": "execute_result"
    }
   ],
   "source": [
    "x.T"
   ]
  },
  {
   "cell_type": "code",
   "execution_count": 58,
   "id": "4363f20c",
   "metadata": {},
   "outputs": [
    {
     "data": {
      "text/plain": [
       "array([[1.        , 1.        , 1.        , 1.        , 1.        ],\n",
       "       [2.71828183, 1.        , 0.36787944, 1.        , 2.71828183],\n",
       "       [1.        , 1.        , 1.        , 1.        , 1.        ],\n",
       "       [0.36787944, 1.        , 2.71828183, 1.        , 0.36787944],\n",
       "       [1.        , 1.        , 1.        , 1.        , 1.        ]])"
      ]
     },
     "execution_count": 58,
     "metadata": {},
     "output_type": "execute_result"
    }
   ],
   "source": [
    "np.exp(x)"
   ]
  },
  {
   "cell_type": "code",
   "execution_count": 59,
   "id": "9b36a519",
   "metadata": {},
   "outputs": [
    {
     "data": {
      "text/plain": [
       "array([[0., 0., 0., 0., 0.],\n",
       "       [1., 0., 1., 0., 1.],\n",
       "       [0., 0., 0., 0., 0.],\n",
       "       [1., 0., 1., 0., 1.],\n",
       "       [0., 0., 0., 0., 0.]])"
      ]
     },
     "execution_count": 59,
     "metadata": {},
     "output_type": "execute_result"
    }
   ],
   "source": [
    "x*x # element wise"
   ]
  },
  {
   "cell_type": "code",
   "execution_count": 60,
   "id": "d9686891",
   "metadata": {},
   "outputs": [
    {
     "data": {
      "text/plain": [
       "array([[0., 0., 0., 0., 0.],\n",
       "       [0., 0., 0., 0., 0.],\n",
       "       [0., 0., 0., 0., 0.],\n",
       "       [0., 0., 0., 0., 0.],\n",
       "       [0., 0., 0., 0., 0.]])"
      ]
     },
     "execution_count": 60,
     "metadata": {},
     "output_type": "execute_result"
    }
   ],
   "source": [
    "x.dot(x) # matrix product"
   ]
  },
  {
   "cell_type": "markdown",
   "id": "e59a714e",
   "metadata": {},
   "source": [
    "## Array:\n",
    "\n",
    "+ `array.shape`\t\n",
    "+ `len(array)`\n",
    "+ `array.ndim\t`\n",
    "+ `array.size`\t\n",
    "+ `array.dtype`\t\n",
    "+ `array.astype(type)`\t\n",
    "\n",
    "\n",
    "+ `np.copy(array)`\t\n",
    "+ `other = array.copy()`\t\n",
    "+ `array.sort()`\n",
    "+ `array.sort(axis=0)`"
   ]
  },
  {
   "cell_type": "code",
   "execution_count": 64,
   "id": "e748270f",
   "metadata": {},
   "outputs": [
    {
     "data": {
      "text/plain": [
       "array([[ 0.,  0.,  0.,  0.,  0.],\n",
       "       [ 1.,  0., -1.,  0.,  1.],\n",
       "       [ 0.,  0.,  0.,  0.,  0.],\n",
       "       [-1.,  0.,  1.,  0., -1.],\n",
       "       [ 0.,  0.,  0.,  0.,  0.]])"
      ]
     },
     "execution_count": 64,
     "metadata": {},
     "output_type": "execute_result"
    }
   ],
   "source": [
    "x"
   ]
  },
  {
   "cell_type": "code",
   "execution_count": 62,
   "id": "13a0817b",
   "metadata": {},
   "outputs": [
    {
     "data": {
      "text/plain": [
       "array([0., 0., 0., 0., 0.])"
      ]
     },
     "execution_count": 62,
     "metadata": {},
     "output_type": "execute_result"
    }
   ],
   "source": [
    "x.mean(axis=0)"
   ]
  },
  {
   "cell_type": "code",
   "execution_count": 63,
   "id": "978d67f7",
   "metadata": {},
   "outputs": [
    {
     "data": {
      "text/plain": [
       "array([ 0. ,  0.2,  0. , -0.2,  0. ])"
      ]
     },
     "execution_count": 63,
     "metadata": {},
     "output_type": "execute_result"
    }
   ],
   "source": [
    "x.mean(axis=1)"
   ]
  },
  {
   "cell_type": "code",
   "execution_count": 68,
   "id": "56818ff1",
   "metadata": {},
   "outputs": [
    {
     "data": {
      "text/plain": [
       "(array([0.  , 0.56, 0.  , 0.56, 0.  ]),\n",
       " array([ 0.,  1.,  0., -1.,  0.]),\n",
       " array([0.        , 0.74833148, 0.        , 0.74833148, 0.        ]))"
      ]
     },
     "execution_count": 68,
     "metadata": {},
     "output_type": "execute_result"
    }
   ],
   "source": [
    "x.var(axis=1), x.sum(axis=1), x.std(axis=1)"
   ]
  },
  {
   "cell_type": "code",
   "execution_count": null,
   "id": "e2db5a98",
   "metadata": {},
   "outputs": [],
   "source": []
  },
  {
   "cell_type": "code",
   "execution_count": null,
   "id": "64876e63",
   "metadata": {},
   "outputs": [],
   "source": []
  },
  {
   "cell_type": "markdown",
   "id": "642d6ee7",
   "metadata": {},
   "source": [
    "## Linear Algebra:"
   ]
  },
  {
   "cell_type": "code",
   "execution_count": null,
   "id": "0bba9875",
   "metadata": {},
   "outputs": [],
   "source": []
  },
  {
   "cell_type": "code",
   "execution_count": null,
   "id": "8a2756d9",
   "metadata": {},
   "outputs": [],
   "source": []
  },
  {
   "cell_type": "markdown",
   "id": "7dd78203",
   "metadata": {},
   "source": [
    "# Scipy\n",
    "\n",
    "[Scipy](https://scipy.org/) is the fundamental package for scientific computing with Python.\n",
    "\n",
    "### Installation:\n",
    "\n",
    "<div class=\"alert alert-block alert-warning\">\n",
    "$ pip install scipy\n",
    "</div>"
   ]
  },
  {
   "cell_type": "code",
   "execution_count": null,
   "id": "4ff8b0c1",
   "metadata": {},
   "outputs": [],
   "source": []
  }
 ],
 "metadata": {
  "kernelspec": {
   "display_name": "Python 3 (ipykernel)",
   "language": "python",
   "name": "python3"
  },
  "language_info": {
   "codemirror_mode": {
    "name": "ipython",
    "version": 3
   },
   "file_extension": ".py",
   "mimetype": "text/x-python",
   "name": "python",
   "nbconvert_exporter": "python",
   "pygments_lexer": "ipython3",
   "version": "3.9.5"
  }
 },
 "nbformat": 4,
 "nbformat_minor": 5
}
