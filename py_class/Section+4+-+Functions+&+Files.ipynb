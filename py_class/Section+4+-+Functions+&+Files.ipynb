{
 "cells": [
  {
   "cell_type": "markdown",
   "id": "ea81c7ce",
   "metadata": {},
   "source": [
    "# Functions\n",
    "\n",
    "- Normal funcions\n",
    "\n",
    "- Anonymous function"
   ]
  },
  {
   "cell_type": "code",
   "execution_count": 2,
   "id": "e6e0183d",
   "metadata": {},
   "outputs": [],
   "source": [
    "# def name(inputs):\n",
    "#     command1\n",
    "#     command2\n",
    "#     command3\n",
    "#     ...\n",
    "#     return sth"
   ]
  },
  {
   "cell_type": "code",
   "execution_count": 3,
   "id": "18bfdece",
   "metadata": {},
   "outputs": [],
   "source": [
    "def double(x):\n",
    "    return 2*x"
   ]
  },
  {
   "cell_type": "code",
   "execution_count": 6,
   "id": "d166ddb1",
   "metadata": {},
   "outputs": [
    {
     "data": {
      "text/plain": [
       "8"
      ]
     },
     "execution_count": 6,
     "metadata": {},
     "output_type": "execute_result"
    }
   ],
   "source": [
    "double(4)"
   ]
  },
  {
   "cell_type": "code",
   "execution_count": 10,
   "id": "ac920ec9",
   "metadata": {},
   "outputs": [],
   "source": [
    "def change_value(ll):\n",
    "    ll[0] = -1\n",
    "    return"
   ]
  },
  {
   "cell_type": "code",
   "execution_count": 11,
   "id": "23441b7c",
   "metadata": {},
   "outputs": [
    {
     "name": "stdout",
     "output_type": "stream",
     "text": [
      "[-1, 2, 3]\n"
     ]
    }
   ],
   "source": [
    "l = [1, 2, 3]\n",
    "change_value(l)\n",
    "print(l)"
   ]
  },
  {
   "cell_type": "code",
   "execution_count": 13,
   "id": "7064ca5b",
   "metadata": {},
   "outputs": [],
   "source": [
    "# 1, 1, 2, 3, 5, 8, 13, 21, 34, ... \n",
    "# fibo(n) = fibo(n-1) + fibo(n-2)\n",
    "# fibo(1) = 1, fibo (2) = 1\n",
    "def fibo(n):\n",
    "    if n == 1:\n",
    "        return 1\n",
    "    if n == 2:\n",
    "        return 1\n",
    "    else:\n",
    "        return fibo(n-1) + fibo(n-2)"
   ]
  },
  {
   "cell_type": "code",
   "execution_count": 18,
   "id": "11c57165",
   "metadata": {},
   "outputs": [
    {
     "data": {
      "text/plain": [
       "8"
      ]
     },
     "execution_count": 18,
     "metadata": {},
     "output_type": "execute_result"
    }
   ],
   "source": [
    "fibo(6)"
   ]
  },
  {
   "cell_type": "code",
   "execution_count": 23,
   "id": "a5ee0d38",
   "metadata": {},
   "outputs": [],
   "source": [
    "a = lambda x, y: y*x**2"
   ]
  },
  {
   "cell_type": "code",
   "execution_count": 26,
   "id": "fdebba46",
   "metadata": {},
   "outputs": [
    {
     "data": {
      "text/plain": [
       "16"
      ]
     },
     "execution_count": 26,
     "metadata": {},
     "output_type": "execute_result"
    }
   ],
   "source": [
    "a(2, 4)"
   ]
  },
  {
   "cell_type": "code",
   "execution_count": 27,
   "id": "d3e81150",
   "metadata": {},
   "outputs": [],
   "source": [
    "def triple(f, x):\n",
    "    return 3*f(x)"
   ]
  },
  {
   "cell_type": "code",
   "execution_count": 28,
   "id": "c8bbea1d",
   "metadata": {},
   "outputs": [
    {
     "data": {
      "text/plain": [
       "27"
      ]
     },
     "execution_count": 28,
     "metadata": {},
     "output_type": "execute_result"
    }
   ],
   "source": [
    "triple(lambda x: x**2, 3)"
   ]
  },
  {
   "cell_type": "code",
   "execution_count": 29,
   "id": "e9b3e657",
   "metadata": {},
   "outputs": [],
   "source": [
    "data = {'f1':[],\n",
    "        'f2':[],\n",
    "        'f3':[],\n",
    "        'f4':[]}\n",
    "\n",
    "for i in range(20):\n",
    "    data['f1'].append(i+1)\n",
    "    data['f2'].append(i**2*2)\n",
    "    data['f3'].append(i*3)\n",
    "    data['f4'].append(i**3-12)\n",
    "    \n",
    "    \n",
    "data['f1'][3] = None\n",
    "data['f1'][16] = None\n",
    "data['f3'][5] = None\n",
    "data['f2'][15] = None"
   ]
  },
  {
   "cell_type": "code",
   "execution_count": 34,
   "id": "22ab52f4",
   "metadata": {},
   "outputs": [],
   "source": [
    "def compute_stat(stat, data):\n",
    "    keys = list(data.keys())\n",
    "    my_dict = {} # for storing the stat values\n",
    "    \n",
    "    for k in keys:\n",
    "        d = []\n",
    "        for i in range(len(data[k])):\n",
    "            if data[k][i] != None:\n",
    "                d.append(data[k][i])\n",
    "        my_dict[k] = stat(d)\n",
    "    return my_dict"
   ]
  },
  {
   "cell_type": "code",
   "execution_count": 63,
   "id": "2cfa0641",
   "metadata": {},
   "outputs": [],
   "source": [
    "def mean(x):\n",
    "    return sum(x)/len(x)"
   ]
  },
  {
   "cell_type": "code",
   "execution_count": 35,
   "id": "a9c96562",
   "metadata": {},
   "outputs": [
    {
     "data": {
      "text/plain": [
       "{'f1': 10.5, 'f2': 236.31578947368422, 'f3': 29.210526315789473, 'f4': 1793.0}"
      ]
     },
     "execution_count": 35,
     "metadata": {},
     "output_type": "execute_result"
    }
   ],
   "source": [
    "compute_stat(lambda x: sum(x)/len(x), data)"
   ]
  },
  {
   "cell_type": "code",
   "execution_count": 64,
   "id": "4fbdd338",
   "metadata": {},
   "outputs": [
    {
     "data": {
      "text/plain": [
       "{'f1': 10.5, 'f2': 236.31578947368422, 'f3': 29.210526315789473, 'f4': 1793.0}"
      ]
     },
     "execution_count": 64,
     "metadata": {},
     "output_type": "execute_result"
    }
   ],
   "source": [
    "compute_stat(mean, data)"
   ]
  },
  {
   "cell_type": "code",
   "execution_count": 36,
   "id": "0e2b8922",
   "metadata": {},
   "outputs": [
    {
     "data": {
      "text/plain": [
       "{'f1': 142.5,\n",
       " 'f2': 107798.1052631579,\n",
       " 'f3': 1158.157894736842,\n",
       " 'f4': 7579614.5}"
      ]
     },
     "execution_count": 36,
     "metadata": {},
     "output_type": "execute_result"
    }
   ],
   "source": [
    "compute_stat(lambda x: sum([i**2 for i in x])/len(x), data)"
   ]
  },
  {
   "cell_type": "code",
   "execution_count": 55,
   "id": "9def5a85",
   "metadata": {},
   "outputs": [],
   "source": [
    "def f(x, n): \n",
    "    a = lambda n: x*n\n",
    "    return a(n)"
   ]
  },
  {
   "cell_type": "code",
   "execution_count": 61,
   "id": "7b15cc42",
   "metadata": {},
   "outputs": [],
   "source": [
    "my_double = lambda x: f(x, 2)\n",
    "my_mytriple = lambda x: f(x, 3)"
   ]
  },
  {
   "cell_type": "code",
   "execution_count": 62,
   "id": "85d76144",
   "metadata": {},
   "outputs": [
    {
     "data": {
      "text/plain": [
       "(4, 6)"
      ]
     },
     "execution_count": 62,
     "metadata": {},
     "output_type": "execute_result"
    }
   ],
   "source": [
    "my_double(2), my_mytriple(2)"
   ]
  },
  {
   "cell_type": "code",
   "execution_count": null,
   "id": "cd32d78c",
   "metadata": {},
   "outputs": [],
   "source": []
  },
  {
   "cell_type": "markdown",
   "id": "0975eea2",
   "metadata": {},
   "source": [
    "# Files\n",
    "\n",
    "- Reading a txt file\n",
    "- writing a txt file"
   ]
  },
  {
   "cell_type": "code",
   "execution_count": null,
   "id": "f103e7fb",
   "metadata": {},
   "outputs": [],
   "source": []
  },
  {
   "cell_type": "markdown",
   "id": "5f40eaf8",
   "metadata": {},
   "source": [
    "# How to work with directoris?"
   ]
  },
  {
   "cell_type": "code",
   "execution_count": null,
   "id": "73391d79",
   "metadata": {},
   "outputs": [],
   "source": []
  }
 ],
 "metadata": {
  "kernelspec": {
   "display_name": "Python 3 (ipykernel)",
   "language": "python",
   "name": "python3"
  },
  "language_info": {
   "codemirror_mode": {
    "name": "ipython",
    "version": 3
   },
   "file_extension": ".py",
   "mimetype": "text/x-python",
   "name": "python",
   "nbconvert_exporter": "python",
   "pygments_lexer": "ipython3",
   "version": "3.9.5"
  }
 },
 "nbformat": 4,
 "nbformat_minor": 5
}
