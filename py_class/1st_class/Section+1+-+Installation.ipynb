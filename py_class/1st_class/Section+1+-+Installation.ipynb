{
 "cells": [
  {
   "cell_type": "markdown",
   "id": "fc4c22c8",
   "metadata": {},
   "source": [
    "# Python"
   ]
  },
  {
   "cell_type": "markdown",
   "id": "ab9ee117",
   "metadata": {},
   "source": [
    "- [Python](https://www.python.org/)\n",
    "- [Anaconda](https://www.anaconda.com/)\n",
    "- [Miniconda](https://docs.conda.io/en/latest/miniconda.html#:~:text=Miniconda%20is%20a%20free%20minimal,zlib%20and%20a%20few%20others.)\n",
    "- [Jupyter](https://jupyter.org/)"
   ]
  },
  {
   "cell_type": "markdown",
   "id": "bbbb07c4",
   "metadata": {},
   "source": [
    "# Python developer ranking:\n",
    "\n",
    "- [Python Ranking](https://www.tiobe.com/tiobe-index/)\n",
    "\n",
    "<img src=\"https://www.siliconrepublic.com/wp-content/uploads/2021/12/Top-programming-languages-2021-2022-CodingNomads.png\" width=400 height=500 />\n",
    "\n"
   ]
  },
  {
   "cell_type": "markdown",
   "id": "be37aa8a",
   "metadata": {},
   "source": [
    "# Python interpreter\n",
    "\n",
    "- [Python](https://www.python.org/)\n",
    "<img src=\"https://www.python.org/static/img/python-logo@2x.png\" width=400 height=200 />"
   ]
  },
  {
   "cell_type": "markdown",
   "id": "3a65612e",
   "metadata": {},
   "source": [
    "# Python IDEs:\n",
    "\n",
    "- [Pycharm](https://www.jetbrains.com/pycharm/)\n",
    "- [Spyder](https://www.spyder-ide.org/)"
   ]
  },
  {
   "cell_type": "markdown",
   "id": "ebc645a2",
   "metadata": {},
   "source": [
    "# Text editors:\n",
    "\n",
    "- [Atom](https://atom.io/)\n",
    "- [Sublime](https://www.sublimetext.com/)\n",
    "- [VSCode](https://code.visualstudio.com/)\n",
    "- [Notepad++](https://notepad-plus-plus.org/)"
   ]
  },
  {
   "cell_type": "markdown",
   "id": "8d8fc274",
   "metadata": {},
   "source": [
    "# Conda installation:\n",
    "\n",
    "<img src=\"https://searchvectorlogo.com/wp-content/uploads/2020/10/anaconda-inc-logo-vector.png\" width=400 height=200 />\n",
    "\n",
    "1- Download [Miniconda](https://docs.conda.io/en/latest/miniconda.html#:~:text=Miniconda%20is%20a%20free%20minimal,zlib%20and%20a%20few%20others.)\n",
    "\n",
    "2- Follow the installation instruction [Anaconda Installation](https://docs.anaconda.com/anaconda/install/windows/)\n",
    "\n",
    "\n",
    "**Take care about the 8-th step: check the 'add to path option'**\n",
    "<img src=\"https://docs.anaconda.com/_images/win-install-options.png\" width=400 height=200 />"
   ]
  },
  {
   "cell_type": "markdown",
   "id": "5cb1d6a6",
   "metadata": {},
   "source": [
    "# Jupyter:\n",
    "\n",
    "<img src=\"https://jupyter.org/assets/homepage/main-logo.svg\" width=200 height=200 />"
   ]
  },
  {
   "cell_type": "markdown",
   "id": "cb671fbb",
   "metadata": {},
   "source": [
    "[Jupyter Installation](https://jupyter.org/install)\n",
    "\n",
    "Install the classic Jupyter Notebook with:\n",
    "<div class=\"alert alert-block alert-warning\">\n",
    "pip install notebook\n",
    "</div>\n",
    "\n",
    "To run the notebook (in terminal):\n",
    "<div class=\"alert alert-block alert-warning\">\n",
    "jupyter notebook\n",
    "</div>"
   ]
  }
 ],
 "metadata": {
  "kernelspec": {
   "display_name": "Python 3 (ipykernel)",
   "language": "python",
   "name": "python3"
  },
  "language_info": {
   "codemirror_mode": {
    "name": "ipython",
    "version": 3
   },
   "file_extension": ".py",
   "mimetype": "text/x-python",
   "name": "python",
   "nbconvert_exporter": "python",
   "pygments_lexer": "ipython3",
   "version": "3.9.5"
  }
 },
 "nbformat": 4,
 "nbformat_minor": 5
}
