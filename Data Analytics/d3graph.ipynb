{
 "cells": [
  {
   "cell_type": "code",
   "execution_count": 1,
   "metadata": {},
   "outputs": [
    {
     "name": "stdout",
     "output_type": "stream",
     "text": [
      "Defaulting to user installation because normal site-packages is not writeable\n",
      "Collecting d3graph\n",
      "  Downloading d3graph-2.3.7-py3-none-any.whl (99 kB)\n",
      "\u001b[2K     \u001b[90m━━━━━━━━━━━━━━━━━━━━━━━━━━━━━━━━━━━━━━━━\u001b[0m \u001b[32m99.4/99.4 kB\u001b[0m \u001b[31m52.5 kB/s\u001b[0m eta \u001b[36m0:00:00\u001b[0ma \u001b[36m0:00:01\u001b[0m\n",
      "\u001b[?25hCollecting networkx>2\n",
      "  Downloading networkx-2.8.8-py3-none-any.whl (2.0 MB)\n",
      "\u001b[2K     \u001b[90m━━━━━━━━━━━━━━━━━━━━━━━━━━━━━━━━━━━━━━━━\u001b[0m \u001b[32m2.0/2.0 MB\u001b[0m \u001b[31m107.6 kB/s\u001b[0m eta \u001b[36m0:00:00\u001b[0m00:01\u001b[0m00:01\u001b[0m\n",
      "\u001b[?25hRequirement already satisfied: packaging in /home/smhasg/.local/lib/python3.10/site-packages (from d3graph) (21.3)\n",
      "Requirement already satisfied: jinja2 in /usr/lib/python3/dist-packages (from d3graph) (3.0.3)\n",
      "Requirement already satisfied: scikit-learn in /home/smhasg/.local/lib/python3.10/site-packages (from d3graph) (1.1.2)\n",
      "Collecting colourmap\n",
      "  Using cached colourmap-1.1.10-py3-none-any.whl (7.4 kB)\n",
      "Collecting ismember\n",
      "  Using cached ismember-1.0.2-py3-none-any.whl (7.5 kB)\n",
      "Requirement already satisfied: numpy in /home/smhasg/.local/lib/python3.10/site-packages (from d3graph) (1.23.4)\n",
      "Requirement already satisfied: markupsafe==2.0.1 in /usr/lib/python3/dist-packages (from d3graph) (2.0.1)\n",
      "Requirement already satisfied: pandas in /home/smhasg/.local/lib/python3.10/site-packages (from d3graph) (1.5.0)\n",
      "Collecting python-louvain\n",
      "  Using cached python-louvain-0.16.tar.gz (204 kB)\n",
      "  Preparing metadata (setup.py) ... \u001b[?25ldone\n",
      "\u001b[?25hRequirement already satisfied: matplotlib in /home/smhasg/.local/lib/python3.10/site-packages (from colourmap->d3graph) (3.6.0)\n",
      "Requirement already satisfied: pyparsing!=3.0.5,>=2.0.2 in /usr/lib/python3/dist-packages (from packaging->d3graph) (2.4.7)\n",
      "Requirement already satisfied: pytz>=2020.1 in /usr/lib/python3/dist-packages (from pandas->d3graph) (2022.1)\n",
      "Requirement already satisfied: python-dateutil>=2.8.1 in /usr/lib/python3/dist-packages (from pandas->d3graph) (2.8.1)\n",
      "Requirement already satisfied: joblib>=1.0.0 in /home/smhasg/.local/lib/python3.10/site-packages (from scikit-learn->d3graph) (1.2.0)\n",
      "Requirement already satisfied: scipy>=1.3.2 in /home/smhasg/.local/lib/python3.10/site-packages (from scikit-learn->d3graph) (1.9.2)\n",
      "Requirement already satisfied: threadpoolctl>=2.0.0 in /home/smhasg/.local/lib/python3.10/site-packages (from scikit-learn->d3graph) (3.1.0)\n",
      "Requirement already satisfied: contourpy>=1.0.1 in /home/smhasg/.local/lib/python3.10/site-packages (from matplotlib->colourmap->d3graph) (1.0.5)\n",
      "Requirement already satisfied: pillow>=6.2.0 in /usr/lib/python3/dist-packages (from matplotlib->colourmap->d3graph) (9.0.1)\n",
      "Requirement already satisfied: cycler>=0.10 in /home/smhasg/.local/lib/python3.10/site-packages (from matplotlib->colourmap->d3graph) (0.11.0)\n",
      "Requirement already satisfied: kiwisolver>=1.0.1 in /home/smhasg/.local/lib/python3.10/site-packages (from matplotlib->colourmap->d3graph) (1.4.4)\n",
      "Requirement already satisfied: fonttools>=4.22.0 in /home/smhasg/.local/lib/python3.10/site-packages (from matplotlib->colourmap->d3graph) (4.37.4)\n",
      "Building wheels for collected packages: python-louvain\n",
      "  Building wheel for python-louvain (setup.py) ... \u001b[?25ldone\n",
      "\u001b[?25h  Created wheel for python-louvain: filename=python_louvain-0.16-py3-none-any.whl size=9408 sha256=a33112afb2deffc9d9a4443313efd493abb0996410a9e484947cd0bb3bec7e04\n",
      "  Stored in directory: /home/smhasg/.cache/pip/wheels/e0/2c/33/8b5604f69c4a6ed10fb867d51173c03f666920c7c8bbcedbaa\n",
      "Successfully built python-louvain\n",
      "Installing collected packages: networkx, ismember, python-louvain, colourmap, d3graph\n",
      "Successfully installed colourmap-1.1.10 d3graph-2.3.7 ismember-1.0.2 networkx-2.8.8 python-louvain-0.16\n"
     ]
    }
   ],
   "source": [
    "!pip install d3graph"
   ]
  },
  {
   "cell_type": "code",
   "execution_count": 2,
   "metadata": {},
   "outputs": [],
   "source": [
    "from d3graph import d3graph , vec2adjmat "
   ]
  },
  {
   "cell_type": "code",
   "execution_count": 5,
   "metadata": {},
   "outputs": [
    {
     "name": "stderr",
     "output_type": "stream",
     "text": [
      "[d3graph] INFO> Set directed=True to see the markers!\n",
      "[d3graph] INFO> Keep only edges with weight>0\n",
      "[d3graph] INFO> Number of unique nodes: 4\n",
      "[d3graph] INFO> Slider range is set to [0, 30]\n",
      "[d3graph] INFO> Write to path: [/tmp/tmpasq_h7r4/d3graph.html]\n"
     ]
    },
    {
     "data": {
      "text/plain": [
       "<networkx.classes.digraph.DiGraph at 0x7ff877a79780>"
      ]
     },
     "execution_count": 5,
     "metadata": {},
     "output_type": "execute_result"
    }
   ],
   "source": [
    "s= [\"node1\", \"node1\" , \"node1\" , \"node2\" ]\n",
    "t= [\"node2\", \"node3\", \"node4\",\"node4\"]\n",
    "w= [1,2,30,10]\n",
    "adjmat = vec2adjmat(target=t,source=s , weight=w ) \n",
    "d3 = d3graph()\n",
    "d3.graph(adjmat) \n",
    "#d3.set_node_properties()\n",
    "d3.show()"
   ]
  },
  {
   "cell_type": "code",
   "execution_count": null,
   "metadata": {},
   "outputs": [],
   "source": []
  }
 ],
 "metadata": {
  "kernelspec": {
   "display_name": "Python 3",
   "language": "python",
   "name": "python3"
  },
  "language_info": {
   "codemirror_mode": {
    "name": "ipython",
    "version": 3
   },
   "file_extension": ".py",
   "mimetype": "text/x-python",
   "name": "python",
   "nbconvert_exporter": "python",
   "pygments_lexer": "ipython3",
   "version": "3.10.6"
  },
  "orig_nbformat": 4,
  "vscode": {
   "interpreter": {
    "hash": "916dbcbb3f70747c44a77c7bcd40155683ae19c65e1c03b4aa3499c5328201f1"
   }
  }
 },
 "nbformat": 4,
 "nbformat_minor": 2
}
